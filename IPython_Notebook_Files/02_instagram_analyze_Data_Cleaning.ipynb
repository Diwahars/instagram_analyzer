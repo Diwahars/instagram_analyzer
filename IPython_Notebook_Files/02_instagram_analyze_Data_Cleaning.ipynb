{
 "cells": [
  {
   "cell_type": "markdown",
   "metadata": {},
   "source": [
    "#Selecting and Cleaning our pandas DataFrame"
   ]
  },
  {
   "cell_type": "markdown",
   "metadata": {},
   "source": [
    "Previous IPython Notebook Tutorial: [01_instagram_analyze_json_DataFrame](https://github.com/odubno/instagram_analyzer/blob/master/IPython_Notebook_Files/01_instagram_analyze_json_DataFrame.ipynb)\n",
    "\n",
    "###Here, we're creating a function using our code from the last example."
   ]
  },
  {
   "cell_type": "code",
   "execution_count": 25,
   "metadata": {
    "collapsed": true
   },
   "outputs": [],
   "source": [
    "import requests\n",
    "import requests\n",
    "from pandas.io.json import json_normalize\n",
    "import pandas as pd\n",
    "\n",
    "def instagram_data():\n",
    "    base_url = \"https://api.instagram.com/v1\"\n",
    "    CLIENT_ID = '768fcf1f36c94eb08506bae0a9caffa31'\n",
    "    query = 'nyc'\n",
    "\n",
    "    url = '{0}/tags/{1}/media/recent?client_id={2}&count=30'.format(\n",
    "        base_url, query, CLIENT_ID)\n",
    "\n",
    "    r = requests.get(url)\n",
    "    j = r.json()\n",
    "    \n",
    "    results = []\n",
    "    if 'data' in j: \n",
    "        data = j['data']\n",
    "        df_instance = json_normalize(data)\n",
    "        results.append(df_instance)\n",
    "        \n",
    "    df = pd.DataFrame().append(results)\n",
    "    \n",
    "    return df"
   ]
  },
  {
   "cell_type": "code",
   "execution_count": 26,
   "metadata": {
    "collapsed": true
   },
   "outputs": [],
   "source": [
    "#Addional imports necessary for this part\n",
    "import datetime"
   ]
  },
  {
   "cell_type": "code",
   "execution_count": 27,
   "metadata": {
    "collapsed": false
   },
   "outputs": [],
   "source": [
    "df = instagram_data() # creating a variable df to hold the data we pull"
   ]
  },
  {
   "cell_type": "code",
   "execution_count": 28,
   "metadata": {
    "collapsed": false
   },
   "outputs": [
    {
     "data": {
      "text/html": [
       "<div style=\"max-height:1000px;max-width:1500px;overflow:auto;\">\n",
       "<table border=\"1\" class=\"dataframe\">\n",
       "  <thead>\n",
       "    <tr style=\"text-align: right;\">\n",
       "      <th></th>\n",
       "      <th>attribution</th>\n",
       "      <th>caption.created_time</th>\n",
       "      <th>caption.from.full_name</th>\n",
       "      <th>caption.from.id</th>\n",
       "      <th>caption.from.profile_picture</th>\n",
       "      <th>caption.from.username</th>\n",
       "      <th>caption.id</th>\n",
       "      <th>caption.text</th>\n",
       "      <th>comments.count</th>\n",
       "      <th>comments.data</th>\n",
       "      <th>...</th>\n",
       "      <th>users_in_photo</th>\n",
       "      <th>videos.low_bandwidth.height</th>\n",
       "      <th>videos.low_bandwidth.url</th>\n",
       "      <th>videos.low_bandwidth.width</th>\n",
       "      <th>videos.low_resolution.height</th>\n",
       "      <th>videos.low_resolution.url</th>\n",
       "      <th>videos.low_resolution.width</th>\n",
       "      <th>videos.standard_resolution.height</th>\n",
       "      <th>videos.standard_resolution.url</th>\n",
       "      <th>videos.standard_resolution.width</th>\n",
       "    </tr>\n",
       "  </thead>\n",
       "  <tbody>\n",
       "    <tr>\n",
       "      <th>0</th>\n",
       "      <td>None</td>\n",
       "      <td>1435090858</td>\n",
       "      <td></td>\n",
       "      <td>1798949857</td>\n",
       "      <td>https://igcdn-photos-a-a.akamaihd.net/hphotos-...</td>\n",
       "      <td>fashiontrendsavvy</td>\n",
       "      <td>1013938067981724512</td>\n",
       "      <td>#1 Tuesday Glam goes to @oliviapierson  #fashi...</td>\n",
       "      <td>0</td>\n",
       "      <td>[]</td>\n",
       "      <td>...</td>\n",
       "      <td>[]</td>\n",
       "      <td>NaN</td>\n",
       "      <td>NaN</td>\n",
       "      <td>NaN</td>\n",
       "      <td>NaN</td>\n",
       "      <td>NaN</td>\n",
       "      <td>NaN</td>\n",
       "      <td>NaN</td>\n",
       "      <td>NaN</td>\n",
       "      <td>NaN</td>\n",
       "    </tr>\n",
       "    <tr>\n",
       "      <th>1</th>\n",
       "      <td>None</td>\n",
       "      <td>1435090857</td>\n",
       "      <td>Jerome Bell</td>\n",
       "      <td>15918964</td>\n",
       "      <td>https://igcdn-photos-d-a.akamaihd.net/hphotos-...</td>\n",
       "      <td>jeromebellsings</td>\n",
       "      <td>1013938064038164049</td>\n",
       "      <td>Patterns... #aboutlastnight #NYC #guyswithstyl...</td>\n",
       "      <td>0</td>\n",
       "      <td>[]</td>\n",
       "      <td>...</td>\n",
       "      <td>[]</td>\n",
       "      <td>NaN</td>\n",
       "      <td>NaN</td>\n",
       "      <td>NaN</td>\n",
       "      <td>NaN</td>\n",
       "      <td>NaN</td>\n",
       "      <td>NaN</td>\n",
       "      <td>NaN</td>\n",
       "      <td>NaN</td>\n",
       "      <td>NaN</td>\n",
       "    </tr>\n",
       "  </tbody>\n",
       "</table>\n",
       "<p>2 rows × 46 columns</p>\n",
       "</div>"
      ],
      "text/plain": [
       "  attribution caption.created_time caption.from.full_name caption.from.id  \\\n",
       "0        None           1435090858                             1798949857   \n",
       "1        None           1435090857            Jerome Bell        15918964   \n",
       "\n",
       "                        caption.from.profile_picture caption.from.username  \\\n",
       "0  https://igcdn-photos-a-a.akamaihd.net/hphotos-...     fashiontrendsavvy   \n",
       "1  https://igcdn-photos-d-a.akamaihd.net/hphotos-...       jeromebellsings   \n",
       "\n",
       "            caption.id                                       caption.text  \\\n",
       "0  1013938067981724512  #1 Tuesday Glam goes to @oliviapierson  #fashi...   \n",
       "1  1013938064038164049  Patterns... #aboutlastnight #NYC #guyswithstyl...   \n",
       "\n",
       "   comments.count comments.data                ...                 \\\n",
       "0               0            []                ...                  \n",
       "1               0            []                ...                  \n",
       "\n",
       "  users_in_photo videos.low_bandwidth.height videos.low_bandwidth.url  \\\n",
       "0             []                         NaN                      NaN   \n",
       "1             []                         NaN                      NaN   \n",
       "\n",
       "   videos.low_bandwidth.width videos.low_resolution.height  \\\n",
       "0                         NaN                          NaN   \n",
       "1                         NaN                          NaN   \n",
       "\n",
       "   videos.low_resolution.url  videos.low_resolution.width  \\\n",
       "0                        NaN                          NaN   \n",
       "1                        NaN                          NaN   \n",
       "\n",
       "  videos.standard_resolution.height  videos.standard_resolution.url  \\\n",
       "0                               NaN                             NaN   \n",
       "1                               NaN                             NaN   \n",
       "\n",
       "   videos.standard_resolution.width  \n",
       "0                               NaN  \n",
       "1                               NaN  \n",
       "\n",
       "[2 rows x 46 columns]"
      ]
     },
     "execution_count": 28,
     "metadata": {},
     "output_type": "execute_result"
    }
   ],
   "source": [
    "df.head(2) #displaying the first 2 rows of our data set. "
   ]
  },
  {
   "cell_type": "code",
   "execution_count": 30,
   "metadata": {
    "collapsed": false
   },
   "outputs": [
    {
     "data": {
      "text/html": [
       "<div style=\"max-height:1000px;max-width:1500px;overflow:auto;\">\n",
       "<table border=\"1\" class=\"dataframe\">\n",
       "  <thead>\n",
       "    <tr style=\"text-align: right;\">\n",
       "      <th></th>\n",
       "      <th>index</th>\n",
       "      <th>attribution</th>\n",
       "      <th>caption.created_time</th>\n",
       "      <th>caption.from.full_name</th>\n",
       "      <th>caption.from.id</th>\n",
       "      <th>caption.from.profile_picture</th>\n",
       "      <th>caption.from.username</th>\n",
       "      <th>caption.id</th>\n",
       "      <th>caption.text</th>\n",
       "      <th>comments.count</th>\n",
       "      <th>...</th>\n",
       "      <th>users_in_photo</th>\n",
       "      <th>videos.low_bandwidth.height</th>\n",
       "      <th>videos.low_bandwidth.url</th>\n",
       "      <th>videos.low_bandwidth.width</th>\n",
       "      <th>videos.low_resolution.height</th>\n",
       "      <th>videos.low_resolution.url</th>\n",
       "      <th>videos.low_resolution.width</th>\n",
       "      <th>videos.standard_resolution.height</th>\n",
       "      <th>videos.standard_resolution.url</th>\n",
       "      <th>videos.standard_resolution.width</th>\n",
       "    </tr>\n",
       "  </thead>\n",
       "  <tbody>\n",
       "    <tr>\n",
       "      <th>0</th>\n",
       "      <td>0</td>\n",
       "      <td>None</td>\n",
       "      <td>1435090858</td>\n",
       "      <td></td>\n",
       "      <td>1798949857</td>\n",
       "      <td>https://igcdn-photos-a-a.akamaihd.net/hphotos-...</td>\n",
       "      <td>fashiontrendsavvy</td>\n",
       "      <td>1013938067981724512</td>\n",
       "      <td>#1 Tuesday Glam goes to @oliviapierson  #fashi...</td>\n",
       "      <td>0</td>\n",
       "      <td>...</td>\n",
       "      <td>[]</td>\n",
       "      <td>NaN</td>\n",
       "      <td>NaN</td>\n",
       "      <td>NaN</td>\n",
       "      <td>NaN</td>\n",
       "      <td>NaN</td>\n",
       "      <td>NaN</td>\n",
       "      <td>NaN</td>\n",
       "      <td>NaN</td>\n",
       "      <td>NaN</td>\n",
       "    </tr>\n",
       "    <tr>\n",
       "      <th>1</th>\n",
       "      <td>1</td>\n",
       "      <td>None</td>\n",
       "      <td>1435090857</td>\n",
       "      <td>Jerome Bell</td>\n",
       "      <td>15918964</td>\n",
       "      <td>https://igcdn-photos-d-a.akamaihd.net/hphotos-...</td>\n",
       "      <td>jeromebellsings</td>\n",
       "      <td>1013938064038164049</td>\n",
       "      <td>Patterns... #aboutlastnight #NYC #guyswithstyl...</td>\n",
       "      <td>0</td>\n",
       "      <td>...</td>\n",
       "      <td>[]</td>\n",
       "      <td>NaN</td>\n",
       "      <td>NaN</td>\n",
       "      <td>NaN</td>\n",
       "      <td>NaN</td>\n",
       "      <td>NaN</td>\n",
       "      <td>NaN</td>\n",
       "      <td>NaN</td>\n",
       "      <td>NaN</td>\n",
       "      <td>NaN</td>\n",
       "    </tr>\n",
       "  </tbody>\n",
       "</table>\n",
       "<p>2 rows × 47 columns</p>\n",
       "</div>"
      ],
      "text/plain": [
       "   index attribution caption.created_time caption.from.full_name  \\\n",
       "0      0        None           1435090858                          \n",
       "1      1        None           1435090857            Jerome Bell   \n",
       "\n",
       "  caption.from.id                       caption.from.profile_picture  \\\n",
       "0      1798949857  https://igcdn-photos-a-a.akamaihd.net/hphotos-...   \n",
       "1        15918964  https://igcdn-photos-d-a.akamaihd.net/hphotos-...   \n",
       "\n",
       "  caption.from.username           caption.id  \\\n",
       "0     fashiontrendsavvy  1013938067981724512   \n",
       "1       jeromebellsings  1013938064038164049   \n",
       "\n",
       "                                        caption.text  comments.count  \\\n",
       "0  #1 Tuesday Glam goes to @oliviapierson  #fashi...               0   \n",
       "1  Patterns... #aboutlastnight #NYC #guyswithstyl...               0   \n",
       "\n",
       "                 ...                users_in_photo  \\\n",
       "0                ...                            []   \n",
       "1                ...                            []   \n",
       "\n",
       "  videos.low_bandwidth.height videos.low_bandwidth.url  \\\n",
       "0                         NaN                      NaN   \n",
       "1                         NaN                      NaN   \n",
       "\n",
       "  videos.low_bandwidth.width  videos.low_resolution.height  \\\n",
       "0                        NaN                           NaN   \n",
       "1                        NaN                           NaN   \n",
       "\n",
       "  videos.low_resolution.url  videos.low_resolution.width  \\\n",
       "0                       NaN                          NaN   \n",
       "1                       NaN                          NaN   \n",
       "\n",
       "   videos.standard_resolution.height videos.standard_resolution.url  \\\n",
       "0                                NaN                            NaN   \n",
       "1                                NaN                            NaN   \n",
       "\n",
       "   videos.standard_resolution.width  \n",
       "0                               NaN  \n",
       "1                               NaN  \n",
       "\n",
       "[2 rows x 47 columns]"
      ]
     },
     "execution_count": 30,
     "metadata": {},
     "output_type": "execute_result"
    }
   ],
   "source": [
    "df.head(2)"
   ]
  },
  {
   "cell_type": "markdown",
   "metadata": {},
   "source": [
    "Below we'll clean up the 'created_time' form looking like this: '1435090858' to looking like this: '2015-06-23 16:15:54'"
   ]
  },
  {
   "cell_type": "code",
   "execution_count": 34,
   "metadata": {
    "collapsed": false
   },
   "outputs": [],
   "source": [
    "df['created_time'] = [\n",
    "    y.replace(y, datetime.datetime.fromtimestamp(int(str(y))).strftime(\n",
    "    '%Y-%m-%d %H:%M:%S')) for y in df['created_time']]"
   ]
  },
  {
   "cell_type": "markdown",
   "metadata": {},
   "source": [
    "Selecting the columns we want to work with. You may select any additional columns or any column that you are interested in working with. We found thse to be most relevant to us."
   ]
  },
  {
   "cell_type": "code",
   "execution_count": 38,
   "metadata": {
    "collapsed": true
   },
   "outputs": [],
   "source": [
    "cols = [\n",
    "    'user.username',\n",
    "    'caption.text',\n",
    "    'tags',\n",
    "    'comments.count',\n",
    "    'likes.count',\n",
    "    'filter',\n",
    "    'type',\n",
    "    'created_time',\n",
    "    'user.full_name',\n",
    "    'user.id',\n",
    "    'link',\n",
    "    'location.latitude',\n",
    "    'location.longitude'\n",
    "]"
   ]
  },
  {
   "cell_type": "code",
   "execution_count": 41,
   "metadata": {
    "collapsed": true
   },
   "outputs": [],
   "source": [
    "df_cols = df[cols]\n",
    "df = df_cols.rename(columns=lambda x: x.replace('.',' ').title())"
   ]
  },
  {
   "cell_type": "markdown",
   "metadata": {},
   "source": [
    "In this notebook using our previous work we pulled in the data, cleaned it using pandas, selected the columns we want to work with and output it back into the pandas DataFrame."
   ]
  }
 ],
 "metadata": {
  "kernelspec": {
   "display_name": "Python 2",
   "language": "python",
   "name": "python2"
  },
  "language_info": {
   "codemirror_mode": {
    "name": "ipython",
    "version": 2
   },
   "file_extension": ".py",
   "mimetype": "text/x-python",
   "name": "python",
   "nbconvert_exporter": "python",
   "pygments_lexer": "ipython2",
   "version": "2.7.10"
  }
 },
 "nbformat": 4,
 "nbformat_minor": 0
}
