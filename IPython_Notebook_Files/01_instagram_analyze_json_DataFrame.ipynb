{
 "cells": [
  {
   "cell_type": "markdown",
   "metadata": {},
   "source": [
    "#Getting data from Instagram and pulling the data into a pandas DataFrame"
   ]
  },
  {
   "cell_type": "code",
   "execution_count": 1,
   "metadata": {
    "collapsed": true
   },
   "outputs": [],
   "source": [
    "import requests\n",
    "from pandas.io.json import json_normalize\n",
    "import pandas as pd"
   ]
  },
  {
   "cell_type": "markdown",
   "metadata": {},
   "source": [
    "Get your \"CLIENT_ID\" form your Instagram developer account [here](https://instagram.com/developer/).\n",
    "\n",
    "Using the request import to pull in the data and json to conver the data into a readable format."
   ]
  },
  {
   "cell_type": "code",
   "execution_count": 2,
   "metadata": {
    "collapsed": false
   },
   "outputs": [],
   "source": [
    "base_url = \"https://api.instagram.com/v1\"\n",
    "CLIENT_ID = '768fcf1f36c94eb08506bae0a9caffa31'\n",
    "query = 'nyc'\n",
    "\n",
    "url = '{0}/tags/{1}/media/recent?client_id={2}&count=30'.format(\n",
    "    base_url, query, CLIENT_ID)\n",
    "\n",
    "r = requests.get(url)\n",
    "j = r.json()"
   ]
  },
  {
   "cell_type": "markdown",
   "metadata": {},
   "source": [
    "The 'j' dictionary contains 3 dictionaries: pagination, meta and data. Everything we need is in \"data\". Let's pull that."
   ]
  },
  {
   "cell_type": "code",
   "execution_count": 3,
   "metadata": {
    "collapsed": false
   },
   "outputs": [
    {
     "data": {
      "text/plain": [
       "[u'pagination', u'meta', u'data']"
      ]
     },
     "execution_count": 3,
     "metadata": {},
     "output_type": "execute_result"
    }
   ],
   "source": [
    "j.keys()"
   ]
  },
  {
   "cell_type": "markdown",
   "metadata": {},
   "source": [
    "1. Pulling \"data\" from the dictionary. \n",
    "2. Using json_normalize to clean up our data. \n",
    "3. Our data is then stored in a list. "
   ]
  },
  {
   "cell_type": "code",
   "execution_count": 4,
   "metadata": {
    "collapsed": false
   },
   "outputs": [],
   "source": [
    "results = []\n",
    "if 'data' in j: \n",
    "    data = j['data']\n",
    "    df_instance = json_normalize(data)\n",
    "    results.append(df_instance)"
   ]
  },
  {
   "cell_type": "markdown",
   "metadata": {},
   "source": [
    "In just one line we could pull the list we created into a DataFrame.\n",
    "We're ap"
   ]
  },
  {
   "cell_type": "code",
   "execution_count": 5,
   "metadata": {
    "collapsed": false
   },
   "outputs": [],
   "source": [
    "df = pd.DataFrame().append(results)"
   ]
  },
  {
   "cell_type": "markdown",
   "metadata": {},
   "source": [
    "That's pretty much it. We got our CLIENT_ID key from instagram, created a few variables to pass in the url, used requests to pull in the data, used json() to display it, json_normalize to clean it and DataFrame to have a nice visual of all the data we received.\n",
    "\n",
    "The other thing we have left is selecting the data we want to work with and cleaning our data."
   ]
  },
  {
   "cell_type": "code",
   "execution_count": 8,
   "metadata": {
    "collapsed": false
   },
   "outputs": [
    {
     "data": {
      "text/html": [
       "<div style=\"max-height:1000px;max-width:1500px;overflow:auto;\">\n",
       "<table border=\"1\" class=\"dataframe\">\n",
       "  <thead>\n",
       "    <tr style=\"text-align: right;\">\n",
       "      <th></th>\n",
       "      <th>attribution</th>\n",
       "      <th>caption.created_time</th>\n",
       "      <th>caption.from.full_name</th>\n",
       "      <th>caption.from.id</th>\n",
       "      <th>caption.from.profile_picture</th>\n",
       "      <th>caption.from.username</th>\n",
       "      <th>caption.id</th>\n",
       "      <th>caption.text</th>\n",
       "      <th>comments.count</th>\n",
       "      <th>comments.data</th>\n",
       "      <th>...</th>\n",
       "      <th>users_in_photo</th>\n",
       "      <th>videos.low_bandwidth.height</th>\n",
       "      <th>videos.low_bandwidth.url</th>\n",
       "      <th>videos.low_bandwidth.width</th>\n",
       "      <th>videos.low_resolution.height</th>\n",
       "      <th>videos.low_resolution.url</th>\n",
       "      <th>videos.low_resolution.width</th>\n",
       "      <th>videos.standard_resolution.height</th>\n",
       "      <th>videos.standard_resolution.url</th>\n",
       "      <th>videos.standard_resolution.width</th>\n",
       "    </tr>\n",
       "  </thead>\n",
       "  <tbody>\n",
       "    <tr>\n",
       "      <th>0</th>\n",
       "      <td>None</td>\n",
       "      <td>1435698093</td>\n",
       "      <td>Julia Rozental</td>\n",
       "      <td>20506244</td>\n",
       "      <td>https://igcdn-photos-c-a.akamaihd.net/hphotos-...</td>\n",
       "      <td>juliarozentalphotography</td>\n",
       "      <td>1019031927821399226</td>\n",
       "      <td>LIfe is a biggest mystery of it all!\\n#Photogr...</td>\n",
       "      <td>0</td>\n",
       "      <td>[]</td>\n",
       "      <td>...</td>\n",
       "      <td>[]</td>\n",
       "      <td>NaN</td>\n",
       "      <td>NaN</td>\n",
       "      <td>NaN</td>\n",
       "      <td>NaN</td>\n",
       "      <td>NaN</td>\n",
       "      <td>NaN</td>\n",
       "      <td>NaN</td>\n",
       "      <td>NaN</td>\n",
       "      <td>NaN</td>\n",
       "    </tr>\n",
       "    <tr>\n",
       "      <th>1</th>\n",
       "      <td>None</td>\n",
       "      <td>1435698093</td>\n",
       "      <td>Saba Chughtai</td>\n",
       "      <td>7742061</td>\n",
       "      <td>https://igcdn-photos-a-a.akamaihd.net/hphotos-...</td>\n",
       "      <td>sabachugs</td>\n",
       "      <td>1019031926966597848</td>\n",
       "      <td>Smiles &amp; laughter 📷: @yeahokayali #friends #n...</td>\n",
       "      <td>0</td>\n",
       "      <td>[]</td>\n",
       "      <td>...</td>\n",
       "      <td>[{u'position': {u'y': 0.222666667, u'x': 0.325...</td>\n",
       "      <td>NaN</td>\n",
       "      <td>NaN</td>\n",
       "      <td>NaN</td>\n",
       "      <td>NaN</td>\n",
       "      <td>NaN</td>\n",
       "      <td>NaN</td>\n",
       "      <td>NaN</td>\n",
       "      <td>NaN</td>\n",
       "      <td>NaN</td>\n",
       "    </tr>\n",
       "    <tr>\n",
       "      <th>2</th>\n",
       "      <td>None</td>\n",
       "      <td>1435698090</td>\n",
       "      <td>Philippe!</td>\n",
       "      <td>55910424</td>\n",
       "      <td>https://instagramimages-a.akamaihd.net/profile...</td>\n",
       "      <td>french_baguette</td>\n",
       "      <td>1019031904835774427</td>\n",
       "      <td>#fisheye #beatbox #NYC #Rockthemic #macattack</td>\n",
       "      <td>0</td>\n",
       "      <td>[]</td>\n",
       "      <td>...</td>\n",
       "      <td>[]</td>\n",
       "      <td>NaN</td>\n",
       "      <td>NaN</td>\n",
       "      <td>NaN</td>\n",
       "      <td>NaN</td>\n",
       "      <td>NaN</td>\n",
       "      <td>NaN</td>\n",
       "      <td>NaN</td>\n",
       "      <td>NaN</td>\n",
       "      <td>NaN</td>\n",
       "    </tr>\n",
       "    <tr>\n",
       "      <th>3</th>\n",
       "      <td>None</td>\n",
       "      <td>1435698090</td>\n",
       "      <td>Coffee Boss and Coffee Dog</td>\n",
       "      <td>563146089</td>\n",
       "      <td>https://instagramimages-a.akamaihd.net/profile...</td>\n",
       "      <td>the_coffee_boss</td>\n",
       "      <td>1019031901556509064</td>\n",
       "      <td>Day 44 of 90  The Highline, NYC #NYC #america ...</td>\n",
       "      <td>0</td>\n",
       "      <td>[]</td>\n",
       "      <td>...</td>\n",
       "      <td>[]</td>\n",
       "      <td>NaN</td>\n",
       "      <td>NaN</td>\n",
       "      <td>NaN</td>\n",
       "      <td>NaN</td>\n",
       "      <td>NaN</td>\n",
       "      <td>NaN</td>\n",
       "      <td>NaN</td>\n",
       "      <td>NaN</td>\n",
       "      <td>NaN</td>\n",
       "    </tr>\n",
       "    <tr>\n",
       "      <th>4</th>\n",
       "      <td>None</td>\n",
       "      <td>1435698089</td>\n",
       "      <td></td>\n",
       "      <td>189765695</td>\n",
       "      <td>https://instagramimages-a.akamaihd.net/profile...</td>\n",
       "      <td>stephanienas</td>\n",
       "      <td>1019031896321614388</td>\n",
       "      <td>#faoschwarz #NYC #manhatten #centralpark #pand...</td>\n",
       "      <td>0</td>\n",
       "      <td>[]</td>\n",
       "      <td>...</td>\n",
       "      <td>[{u'position': {u'y': 0.924, u'x': 0.632}, u'u...</td>\n",
       "      <td>NaN</td>\n",
       "      <td>NaN</td>\n",
       "      <td>NaN</td>\n",
       "      <td>NaN</td>\n",
       "      <td>NaN</td>\n",
       "      <td>NaN</td>\n",
       "      <td>NaN</td>\n",
       "      <td>NaN</td>\n",
       "      <td>NaN</td>\n",
       "    </tr>\n",
       "  </tbody>\n",
       "</table>\n",
       "<p>5 rows × 46 columns</p>\n",
       "</div>"
      ],
      "text/plain": [
       "  attribution caption.created_time      caption.from.full_name  \\\n",
       "0        None           1435698093              Julia Rozental   \n",
       "1        None           1435698093               Saba Chughtai   \n",
       "2        None           1435698090                   Philippe!   \n",
       "3        None           1435698090  Coffee Boss and Coffee Dog   \n",
       "4        None           1435698089                               \n",
       "\n",
       "  caption.from.id                       caption.from.profile_picture  \\\n",
       "0        20506244  https://igcdn-photos-c-a.akamaihd.net/hphotos-...   \n",
       "1         7742061  https://igcdn-photos-a-a.akamaihd.net/hphotos-...   \n",
       "2        55910424  https://instagramimages-a.akamaihd.net/profile...   \n",
       "3       563146089  https://instagramimages-a.akamaihd.net/profile...   \n",
       "4       189765695  https://instagramimages-a.akamaihd.net/profile...   \n",
       "\n",
       "      caption.from.username           caption.id  \\\n",
       "0  juliarozentalphotography  1019031927821399226   \n",
       "1                 sabachugs  1019031926966597848   \n",
       "2           french_baguette  1019031904835774427   \n",
       "3           the_coffee_boss  1019031901556509064   \n",
       "4              stephanienas  1019031896321614388   \n",
       "\n",
       "                                        caption.text  comments.count  \\\n",
       "0  LIfe is a biggest mystery of it all!\\n#Photogr...               0   \n",
       "1  Smiles & laughter 📷: @yeahokayali #friends #n...               0   \n",
       "2      #fisheye #beatbox #NYC #Rockthemic #macattack               0   \n",
       "3  Day 44 of 90  The Highline, NYC #NYC #america ...               0   \n",
       "4  #faoschwarz #NYC #manhatten #centralpark #pand...               0   \n",
       "\n",
       "  comments.data                ...                 \\\n",
       "0            []                ...                  \n",
       "1            []                ...                  \n",
       "2            []                ...                  \n",
       "3            []                ...                  \n",
       "4            []                ...                  \n",
       "\n",
       "                                      users_in_photo  \\\n",
       "0                                                 []   \n",
       "1  [{u'position': {u'y': 0.222666667, u'x': 0.325...   \n",
       "2                                                 []   \n",
       "3                                                 []   \n",
       "4  [{u'position': {u'y': 0.924, u'x': 0.632}, u'u...   \n",
       "\n",
       "  videos.low_bandwidth.height videos.low_bandwidth.url  \\\n",
       "0                         NaN                      NaN   \n",
       "1                         NaN                      NaN   \n",
       "2                         NaN                      NaN   \n",
       "3                         NaN                      NaN   \n",
       "4                         NaN                      NaN   \n",
       "\n",
       "   videos.low_bandwidth.width videos.low_resolution.height  \\\n",
       "0                         NaN                          NaN   \n",
       "1                         NaN                          NaN   \n",
       "2                         NaN                          NaN   \n",
       "3                         NaN                          NaN   \n",
       "4                         NaN                          NaN   \n",
       "\n",
       "   videos.low_resolution.url  videos.low_resolution.width  \\\n",
       "0                        NaN                          NaN   \n",
       "1                        NaN                          NaN   \n",
       "2                        NaN                          NaN   \n",
       "3                        NaN                          NaN   \n",
       "4                        NaN                          NaN   \n",
       "\n",
       "  videos.standard_resolution.height  videos.standard_resolution.url  \\\n",
       "0                               NaN                             NaN   \n",
       "1                               NaN                             NaN   \n",
       "2                               NaN                             NaN   \n",
       "3                               NaN                             NaN   \n",
       "4                               NaN                             NaN   \n",
       "\n",
       "   videos.standard_resolution.width  \n",
       "0                               NaN  \n",
       "1                               NaN  \n",
       "2                               NaN  \n",
       "3                               NaN  \n",
       "4                               NaN  \n",
       "\n",
       "[5 rows x 46 columns]"
      ]
     },
     "execution_count": 8,
     "metadata": {},
     "output_type": "execute_result"
    }
   ],
   "source": [
    "df.head()"
   ]
  },
  {
   "cell_type": "code",
   "execution_count": null,
   "metadata": {
    "collapsed": true
   },
   "outputs": [],
   "source": []
  }
 ],
 "metadata": {
  "kernelspec": {
   "display_name": "Python 2",
   "language": "python",
   "name": "python2"
  },
  "language_info": {
   "codemirror_mode": {
    "name": "ipython",
    "version": 2
   },
   "file_extension": ".py",
   "mimetype": "text/x-python",
   "name": "python",
   "nbconvert_exporter": "python",
   "pygments_lexer": "ipython2",
   "version": "2.7.10"
  }
 },
 "nbformat": 4,
 "nbformat_minor": 0
}
