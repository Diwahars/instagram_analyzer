{
 "cells": [
  {
   "cell_type": "markdown",
   "metadata": {},
   "source": [
    "#Getting data from Instagram and pulling the data into a Pandas DataFrame"
   ]
  },
  {
   "cell_type": "markdown",
   "metadata": {},
   "source": [
    "Here we'll be creating an API request to exract data from instagram. "
   ]
  },
  {
   "cell_type": "code",
   "execution_count": 1,
   "metadata": {
    "collapsed": true
   },
   "outputs": [],
   "source": [
    "import requests\n",
    "from pandas.io.json import json_normalize\n",
    "import pandas as pd"
   ]
  },
  {
   "cell_type": "markdown",
   "metadata": {},
   "source": [
    "Get your \"CLIENT_ID\" form your Instagram developer account [here](https://instagram.com/developer/).\n",
    "\n",
    "Using the request import to pull in the data and json to conver the data into a readable format."
   ]
  },
  {
   "cell_type": "code",
   "execution_count": 2,
   "metadata": {
    "collapsed": false
   },
   "outputs": [],
   "source": [
    "base_url = \"https://api.instagram.com/v1\"\n",
    "CLIENT_ID = '768fcf1f36c94eb08506bae0a9caffa31' # not a valid client id\n",
    "query = 'nyc'\n",
    "\n",
    "url = '{0}/tags/{1}/media/recent?client_id={2}&count=30'.format(\n",
    "    base_url, query, CLIENT_ID)\n",
    "\n",
    "r = requests.get(url)\n",
    "j = r.json()"
   ]
  },
  {
   "cell_type": "markdown",
   "metadata": {},
   "source": [
    "The 'j' dictionary contains 3 dictionaries: pagination, meta and data. Everything we need is in \"data\". Let's pull that."
   ]
  },
  {
   "cell_type": "code",
   "execution_count": 3,
   "metadata": {
    "collapsed": false
   },
   "outputs": [
    {
     "data": {
      "text/plain": [
       "[u'pagination', u'meta', u'data']"
      ]
     },
     "execution_count": 3,
     "metadata": {},
     "output_type": "execute_result"
    }
   ],
   "source": [
    "j.keys()"
   ]
  },
  {
   "cell_type": "code",
   "execution_count": null,
   "metadata": {
    "collapsed": true
   },
   "outputs": [],
   "source": [
    "j['data'] # hidding the output. this line displays a nested list of dictionaries"
   ]
  },
  {
   "cell_type": "markdown",
   "metadata": {},
   "source": [
    "1. Pulling \"data\" from the dictionary. \n",
    "2. Using json_normalize to clean up our data. \n",
    "3. Our data is then stored in a list. "
   ]
  },
  {
   "cell_type": "code",
   "execution_count": 5,
   "metadata": {
    "collapsed": false
   },
   "outputs": [],
   "source": [
    "results = []\n",
    "if 'data' in j: \n",
    "    data = j['data']\n",
    "    df_instance = json_normalize(data)\n",
    "    results.append(df_instance)"
   ]
  },
  {
   "cell_type": "markdown",
   "metadata": {},
   "source": [
    "In just one line we could pull the list we created into a DataFrame.\n",
    "We're ap"
   ]
  },
  {
   "cell_type": "code",
   "execution_count": 6,
   "metadata": {
    "collapsed": false
   },
   "outputs": [],
   "source": [
    "df = pd.DataFrame().append(results)"
   ]
  },
  {
   "cell_type": "code",
   "execution_count": null,
   "metadata": {
    "collapsed": true
   },
   "outputs": [],
   "source": [
    "df # have a look see at our much cleaner dataframe."
   ]
  },
  {
   "cell_type": "code",
   "execution_count": 13,
   "metadata": {
    "collapsed": false
   },
   "outputs": [
    {
     "data": {
      "text/html": [
       "<div>\n",
       "<table border=\"1\" class=\"dataframe\">\n",
       "  <thead>\n",
       "    <tr style=\"text-align: right;\">\n",
       "      <th></th>\n",
       "      <th>attribution</th>\n",
       "      <th>caption.created_time</th>\n",
       "      <th>caption.from.full_name</th>\n",
       "      <th>caption.from.id</th>\n",
       "      <th>caption.from.profile_picture</th>\n",
       "      <th>caption.from.username</th>\n",
       "      <th>caption.id</th>\n",
       "      <th>caption.text</th>\n",
       "      <th>comments.count</th>\n",
       "      <th>comments.data</th>\n",
       "      <th>...</th>\n",
       "      <th>users_in_photo</th>\n",
       "      <th>videos.low_bandwidth.height</th>\n",
       "      <th>videos.low_bandwidth.url</th>\n",
       "      <th>videos.low_bandwidth.width</th>\n",
       "      <th>videos.low_resolution.height</th>\n",
       "      <th>videos.low_resolution.url</th>\n",
       "      <th>videos.low_resolution.width</th>\n",
       "      <th>videos.standard_resolution.height</th>\n",
       "      <th>videos.standard_resolution.url</th>\n",
       "      <th>videos.standard_resolution.width</th>\n",
       "    </tr>\n",
       "  </thead>\n",
       "  <tbody>\n",
       "    <tr>\n",
       "      <th>0</th>\n",
       "      <td>None</td>\n",
       "      <td>1442947535</td>\n",
       "      <td>RED STAR MODEL MGMT.</td>\n",
       "      <td>665938155</td>\n",
       "      <td>https://scontent.cdninstagram.com/hphotos-xfa1...</td>\n",
       "      <td>redstarmodels</td>\n",
       "      <td>1079844655835730512</td>\n",
       "      <td>RED STAR model ANDREI shot by RICK DAY (@rickd...</td>\n",
       "      <td>0</td>\n",
       "      <td>[]</td>\n",
       "      <td>...</td>\n",
       "      <td>[]</td>\n",
       "      <td>NaN</td>\n",
       "      <td>NaN</td>\n",
       "      <td>NaN</td>\n",
       "      <td>NaN</td>\n",
       "      <td>NaN</td>\n",
       "      <td>NaN</td>\n",
       "      <td>NaN</td>\n",
       "      <td>NaN</td>\n",
       "      <td>NaN</td>\n",
       "    </tr>\n",
       "    <tr>\n",
       "      <th>1</th>\n",
       "      <td>None</td>\n",
       "      <td>1442947535</td>\n",
       "      <td>iArremate</td>\n",
       "      <td>468341613</td>\n",
       "      <td>https://igcdn-photos-f-a.akamaihd.net/hphotos-...</td>\n",
       "      <td>iarremate</td>\n",
       "      <td>1079844649584638545</td>\n",
       "      <td>Lote 0044\\nPaulo Laender\\nMandala Verde - 70 c...</td>\n",
       "      <td>0</td>\n",
       "      <td>[]</td>\n",
       "      <td>...</td>\n",
       "      <td>[]</td>\n",
       "      <td>NaN</td>\n",
       "      <td>NaN</td>\n",
       "      <td>NaN</td>\n",
       "      <td>NaN</td>\n",
       "      <td>NaN</td>\n",
       "      <td>NaN</td>\n",
       "      <td>NaN</td>\n",
       "      <td>NaN</td>\n",
       "      <td>NaN</td>\n",
       "    </tr>\n",
       "  </tbody>\n",
       "</table>\n",
       "<p>2 rows × 46 columns</p>\n",
       "</div>"
      ],
      "text/plain": [
       "  attribution caption.created_time caption.from.full_name caption.from.id  \\\n",
       "0        None           1442947535   RED STAR MODEL MGMT.       665938155   \n",
       "1        None           1442947535              iArremate       468341613   \n",
       "\n",
       "                        caption.from.profile_picture caption.from.username  \\\n",
       "0  https://scontent.cdninstagram.com/hphotos-xfa1...         redstarmodels   \n",
       "1  https://igcdn-photos-f-a.akamaihd.net/hphotos-...             iarremate   \n",
       "\n",
       "            caption.id                                       caption.text  \\\n",
       "0  1079844655835730512  RED STAR model ANDREI shot by RICK DAY (@rickd...   \n",
       "1  1079844649584638545  Lote 0044\\nPaulo Laender\\nMandala Verde - 70 c...   \n",
       "\n",
       "   comments.count comments.data                ...                 \\\n",
       "0               0            []                ...                  \n",
       "1               0            []                ...                  \n",
       "\n",
       "  users_in_photo videos.low_bandwidth.height videos.low_bandwidth.url  \\\n",
       "0             []                         NaN                      NaN   \n",
       "1             []                         NaN                      NaN   \n",
       "\n",
       "   videos.low_bandwidth.width videos.low_resolution.height  \\\n",
       "0                         NaN                          NaN   \n",
       "1                         NaN                          NaN   \n",
       "\n",
       "   videos.low_resolution.url  videos.low_resolution.width  \\\n",
       "0                        NaN                          NaN   \n",
       "1                        NaN                          NaN   \n",
       "\n",
       "  videos.standard_resolution.height  videos.standard_resolution.url  \\\n",
       "0                               NaN                             NaN   \n",
       "1                               NaN                             NaN   \n",
       "\n",
       "   videos.standard_resolution.width  \n",
       "0                               NaN  \n",
       "1                               NaN  \n",
       "\n",
       "[2 rows x 46 columns]"
      ]
     },
     "execution_count": 13,
     "metadata": {},
     "output_type": "execute_result"
    }
   ],
   "source": [
    "df.head(2) # top two rows of our dataframe for brevity. "
   ]
  }
 ],
 "metadata": {
  "kernelspec": {
   "display_name": "Python 2",
   "language": "python",
   "name": "python2"
  },
  "language_info": {
   "codemirror_mode": {
    "name": "ipython",
    "version": 2
   },
   "file_extension": ".py",
   "mimetype": "text/x-python",
   "name": "python",
   "nbconvert_exporter": "python",
   "pygments_lexer": "ipython2",
   "version": "2.7.10"
  }
 },
 "nbformat": 4,
 "nbformat_minor": 0
}
