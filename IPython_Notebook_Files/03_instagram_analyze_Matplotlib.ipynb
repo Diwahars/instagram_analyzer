{
 "cells": [
  {
   "cell_type": "markdown",
   "metadata": {},
   "source": [
    "# Working with Matplotlib"
   ]
  },
  {
   "cell_type": "markdown",
   "metadata": {},
   "source": [
    "Previous IPython Notebook Tutorial: [02_instagram_analyze_Data_Cleaning](https://github.com/odubno/instagram_analyzer/blob/master/IPython_Notebook_Files/02_instagram_analyze_Data_Cleaning.ipynb)"
   ]
  },
  {
   "cell_type": "markdown",
   "metadata": {},
   "source": [
    "Here, we'll be pulling all of our previous scripts together to extract and clean data from instagram in order to create matplotlib graphs."
   ]
  },
  {
   "cell_type": "code",
   "execution_count": 1,
   "metadata": {
    "collapsed": true
   },
   "outputs": [],
   "source": [
    "import requests\n",
    "import requests\n",
    "from pandas.io.json import json_normalize\n",
    "import pandas as pd\n",
    "import datetime\n",
    "\n",
    "def instagram_data(query):\n",
    "    base_url = \"https://api.instagram.com/v1\"\n",
    "    CLIENT_ID = '768fcf1f36c94eb08506bae0a9caffa31' #fake id\n",
    "    url = '{0}/tags/{1}/media/recent?client_id={2}&count=30'.format(\n",
    "        base_url, query, CLIENT_ID)\n",
    "    r = requests.get(url)\n",
    "    j = r.json()   \n",
    "    results = []\n",
    "    if 'data' in j: \n",
    "        data = j['data']\n",
    "        df_instance = json_normalize(data)\n",
    "        results.append(df_instance)        \n",
    "    df = pd.DataFrame().append(results)    \n",
    "    return df\n",
    "\n",
    "def instagram_data_clean(instagram_data_df):\n",
    "    df = instagram_data_df \n",
    "    cols = [\n",
    "        'comments.count',\n",
    "        'likes.count',\n",
    "    ]    \n",
    "    df_cols = df[cols]\n",
    "    df_2 = df_cols.rename(columns=lambda x: x.replace('.',' ').title())  \n",
    "    return df_2"
   ]
  },
  {
   "cell_type": "code",
   "execution_count": 2,
   "metadata": {
    "collapsed": false
   },
   "outputs": [
    {
     "data": {
      "text/html": [
       "<div>\n",
       "<table border=\"1\" class=\"dataframe\">\n",
       "  <thead>\n",
       "    <tr style=\"text-align: right;\">\n",
       "      <th></th>\n",
       "      <th>attribution</th>\n",
       "      <th>caption.created_time</th>\n",
       "      <th>caption.from.full_name</th>\n",
       "      <th>caption.from.id</th>\n",
       "      <th>caption.from.profile_picture</th>\n",
       "      <th>caption.from.username</th>\n",
       "      <th>caption.id</th>\n",
       "      <th>caption.text</th>\n",
       "      <th>comments.count</th>\n",
       "      <th>comments.data</th>\n",
       "      <th>...</th>\n",
       "      <th>users_in_photo</th>\n",
       "      <th>videos.low_bandwidth.height</th>\n",
       "      <th>videos.low_bandwidth.url</th>\n",
       "      <th>videos.low_bandwidth.width</th>\n",
       "      <th>videos.low_resolution.height</th>\n",
       "      <th>videos.low_resolution.url</th>\n",
       "      <th>videos.low_resolution.width</th>\n",
       "      <th>videos.standard_resolution.height</th>\n",
       "      <th>videos.standard_resolution.url</th>\n",
       "      <th>videos.standard_resolution.width</th>\n",
       "    </tr>\n",
       "  </thead>\n",
       "  <tbody>\n",
       "    <tr>\n",
       "      <th>0</th>\n",
       "      <td>None</td>\n",
       "      <td>1444151890</td>\n",
       "      <td>The Real JT The Bigga Figga</td>\n",
       "      <td>2208618272</td>\n",
       "      <td>https://igcdn-photos-f-a.akamaihd.net/hphotos-...</td>\n",
       "      <td>jtthebiggafigga1</td>\n",
       "      <td>1089947514954786259</td>\n",
       "      <td>Mobile Wi-Fi #longbeach #2 #fillmoe  #movie #d...</td>\n",
       "      <td>0</td>\n",
       "      <td>[]</td>\n",
       "      <td>...</td>\n",
       "      <td>[]</td>\n",
       "      <td>NaN</td>\n",
       "      <td>NaN</td>\n",
       "      <td>NaN</td>\n",
       "      <td>NaN</td>\n",
       "      <td>NaN</td>\n",
       "      <td>NaN</td>\n",
       "      <td>NaN</td>\n",
       "      <td>NaN</td>\n",
       "      <td>NaN</td>\n",
       "    </tr>\n",
       "    <tr>\n",
       "      <th>1</th>\n",
       "      <td>None</td>\n",
       "      <td>1444151889</td>\n",
       "      <td>Vito Kurtz</td>\n",
       "      <td>2222484418</td>\n",
       "      <td>https://scontent.cdninstagram.com/hphotos-xfa1...</td>\n",
       "      <td>donvito_kurtz</td>\n",
       "      <td>1089947507985026765</td>\n",
       "      <td>Proud to be\\n\\n#nyc #ny #newyork #newyorkcity ...</td>\n",
       "      <td>0</td>\n",
       "      <td>[]</td>\n",
       "      <td>...</td>\n",
       "      <td>[]</td>\n",
       "      <td>NaN</td>\n",
       "      <td>NaN</td>\n",
       "      <td>NaN</td>\n",
       "      <td>NaN</td>\n",
       "      <td>NaN</td>\n",
       "      <td>NaN</td>\n",
       "      <td>NaN</td>\n",
       "      <td>NaN</td>\n",
       "      <td>NaN</td>\n",
       "    </tr>\n",
       "  </tbody>\n",
       "</table>\n",
       "<p>2 rows × 46 columns</p>\n",
       "</div>"
      ],
      "text/plain": [
       "  attribution caption.created_time       caption.from.full_name  \\\n",
       "0        None           1444151890  The Real JT The Bigga Figga   \n",
       "1        None           1444151889                   Vito Kurtz   \n",
       "\n",
       "  caption.from.id                       caption.from.profile_picture  \\\n",
       "0      2208618272  https://igcdn-photos-f-a.akamaihd.net/hphotos-...   \n",
       "1      2222484418  https://scontent.cdninstagram.com/hphotos-xfa1...   \n",
       "\n",
       "  caption.from.username           caption.id  \\\n",
       "0      jtthebiggafigga1  1089947514954786259   \n",
       "1         donvito_kurtz  1089947507985026765   \n",
       "\n",
       "                                        caption.text  comments.count  \\\n",
       "0  Mobile Wi-Fi #longbeach #2 #fillmoe  #movie #d...               0   \n",
       "1  Proud to be\\n\\n#nyc #ny #newyork #newyorkcity ...               0   \n",
       "\n",
       "  comments.data                ...                users_in_photo  \\\n",
       "0            []                ...                            []   \n",
       "1            []                ...                            []   \n",
       "\n",
       "  videos.low_bandwidth.height videos.low_bandwidth.url  \\\n",
       "0                         NaN                      NaN   \n",
       "1                         NaN                      NaN   \n",
       "\n",
       "   videos.low_bandwidth.width videos.low_resolution.height  \\\n",
       "0                         NaN                          NaN   \n",
       "1                         NaN                          NaN   \n",
       "\n",
       "   videos.low_resolution.url  videos.low_resolution.width  \\\n",
       "0                        NaN                          NaN   \n",
       "1                        NaN                          NaN   \n",
       "\n",
       "  videos.standard_resolution.height  videos.standard_resolution.url  \\\n",
       "0                               NaN                             NaN   \n",
       "1                               NaN                             NaN   \n",
       "\n",
       "   videos.standard_resolution.width  \n",
       "0                               NaN  \n",
       "1                               NaN  \n",
       "\n",
       "[2 rows x 46 columns]"
      ]
     },
     "execution_count": 2,
     "metadata": {},
     "output_type": "execute_result"
    }
   ],
   "source": [
    "instagram_data('nyc').head(2) # queries data for nyc. first 2 rows"
   ]
  },
  {
   "cell_type": "code",
   "execution_count": 3,
   "metadata": {
    "collapsed": false
   },
   "outputs": [],
   "source": [
    "df_2 = instagram_data_clean(instagram_data('nyc'))"
   ]
  },
  {
   "cell_type": "code",
   "execution_count": 4,
   "metadata": {
    "collapsed": true
   },
   "outputs": [],
   "source": [
    "# New imports to work with\n",
    "import matplotlib.pyplot as plt\n",
    "\n",
    "%matplotlib inline"
   ]
  },
  {
   "cell_type": "markdown",
   "metadata": {},
   "source": [
    "We could now pull data from Instagram, select the fields we want to work with, clean the fields and output graphs. \n",
    "\n",
    "See one graph below using matplotlib."
   ]
  },
  {
   "cell_type": "code",
   "execution_count": 5,
   "metadata": {
    "collapsed": false
   },
   "outputs": [
    {
     "data": {
      "text/plain": [
       "<matplotlib.text.Text at 0x10c69bd10>"
      ]
     },
     "execution_count": 5,
     "metadata": {},
     "output_type": "execute_result"
    },
    {
     "data": {
      "image/png": "[encoded data removed]",
      "text/plain": [
       "<matplotlib.figure.Figure at 0x1066ad0d0>"
      ]
     },
     "metadata": {},
     "output_type": "display_data"
    }
   ],
   "source": [
    "df_2['Likes Count'].plot(kind='bar', alpha=.55)\n",
    "plt.title(\"Total Like Count Per Post\", fontsize=20)\n",
    "plt.xlabel('Most Recent to Least Recent')\n",
    "plt.ylabel('Total Likes')"
   ]
  },
  {
   "cell_type": "markdown",
   "metadata": {
    "collapsed": true
   },
   "source": [
    "The graph above indexes at 0. That is the most recent post that was posted to the hashtag 'nyc'. The y-axis is responsible for how many likes each photo gets. The x-axis is responsible for recency, 0 denoting the instagram post that's most recent and so on."
   ]
  }
 ],
 "metadata": {
  "kernelspec": {
   "display_name": "Python 2",
   "language": "python",
   "name": "python2"
  },
  "language_info": {
   "codemirror_mode": {
    "name": "ipython",
    "version": 2
   },
   "file_extension": ".py",
   "mimetype": "text/x-python",
   "name": "python",
   "nbconvert_exporter": "python",
   "pygments_lexer": "ipython2",
   "version": "2.7.10"
  }
 },
 "nbformat": 4,
 "nbformat_minor": 0
}
