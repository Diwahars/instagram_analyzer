{
 "cells": [
  {
   "cell_type": "code",
   "execution_count": 3,
   "metadata": {
    "collapsed": true
   },
   "outputs": [],
   "source": [
    "import requests\n",
    "import requests\n",
    "from pandas.io.json import json_normalize\n",
    "import pandas as pd"
   ]
  },
  {
   "cell_type": "markdown",
   "metadata": {},
   "source": [
    "Got my \"CLIENT_ID\". And below, just testing whether everything works. And it does. Yay! Feel free to print \"j\"."
   ]
  },
  {
   "cell_type": "code",
   "execution_count": 4,
   "metadata": {
    "collapsed": false
   },
   "outputs": [],
   "source": [
    "base_url = \"https://api.instagram.com/v1\"\n",
    "CLIENT_ID = '768fcf1f36c94eb08506bae0a9caffa3'\n",
    "query = 'nyc'\n",
    "\n",
    "url = '{0}/tags/{1}/media/recent?client_id={2}&count=30'.format(\n",
    "    base_url, query, CLIENT_ID)\n",
    "\n",
    "r = requests.get(url)\n",
    "j = r.json()"
   ]
  },
  {
   "cell_type": "markdown",
   "metadata": {},
   "source": [
    "Let's maybe display it in a nicer way. The json file is pretty messy. The dictionary contains 3 dictionaries: pagination, meta and data. All of the stuff we're interested in is in \"data\". Lets pull our info."
   ]
  },
  {
   "cell_type": "code",
   "execution_count": 24,
   "metadata": {
    "collapsed": false
   },
   "outputs": [
    {
     "data": {
      "text/plain": [
       "[u'pagination', u'meta', u'data']"
      ]
     },
     "execution_count": 24,
     "metadata": {},
     "output_type": "execute_result"
    }
   ],
   "source": [
    "j.keys()"
   ]
  },
  {
   "cell_type": "markdown",
   "metadata": {},
   "source": [
    "1. Here we're pulling \"data\" from the json dictionary.\n",
    "2. json_normalize is amazing and does exactly what you think it does. Haha\n",
    "3. We get a list back with all the data we're provided with.\n",
    "\n"
   ]
  },
  {
   "cell_type": "code",
   "execution_count": 12,
   "metadata": {
    "collapsed": false
   },
   "outputs": [],
   "source": [
    "results = []\n",
    "if 'data' in j: \n",
    "    data = j['data']\n",
    "    df_instance = json_normalize(data)\n",
    "    results.append(df_instance)"
   ]
  },
  {
   "cell_type": "markdown",
   "metadata": {},
   "source": [
    "In just one line we could pull the list, we just created, into a DataFrame "
   ]
  },
  {
   "cell_type": "code",
   "execution_count": 31,
   "metadata": {
    "collapsed": false
   },
   "outputs": [],
   "source": [
    "df = pd.DataFrame().append(results)"
   ]
  },
  {
   "cell_type": "markdown",
   "metadata": {},
   "source": [
    "That's pretty much it. We got our CLIENT_ID key from instagram, created a few variables to pass in the url, used requests to pull in the data, used json() to display it, json_normalize to clean it and DataFrame to have a nice visual of all the data we received.\n",
    "\n",
    "The other thing we have left is selecting the data we want to work with and cleaning our data."
   ]
  }
 ],
 "metadata": {
  "kernelspec": {
   "display_name": "Python 2",
   "language": "python",
   "name": "python2"
  },
  "language_info": {
   "codemirror_mode": {
    "name": "ipython",
    "version": 2
   },
   "file_extension": ".py",
   "mimetype": "text/x-python",
   "name": "python",
   "nbconvert_exporter": "python",
   "pygments_lexer": "ipython2",
   "version": "2.7.10"
  }
 },
 "nbformat": 4,
 "nbformat_minor": 0
}
