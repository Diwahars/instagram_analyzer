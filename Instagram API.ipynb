{
 "cells": [
  {
   "cell_type": "code",
   "execution_count": 1,
   "metadata": {
    "collapsed": false
   },
   "outputs": [],
   "source": [
    "import pandas as pd\n",
    "import requests\n",
    "import json\n",
    "import matplotlib.pyplot as plt\n",
    "import datetime\n",
    "import numpy as np\n",
    "\n",
    "from pandas.io.json import json_normalize\n",
    "\n",
    "%matplotlib inline\n",
    "\n",
    "\n",
    "def instagram_scraper(query):\n",
    "    \n",
    "    client_id = '768fcf1f36c94eb08506bae0a9caffa3'\n",
    "    secret = '54efcbaed7f64673bc93b4e28ca9e8b2'\n",
    "    base_url = \"https://api.instagram.com/v1\"\n",
    "\n",
    "    url = '{0}/tags/{1}/media/recent?client_id={2}&count=20'.format(base_url, query, client_id)\n",
    "    \n",
    "\n",
    "    df = json_normalize(requests.get(url).json()['data'])\n",
    "    df = df[['user.username','caption.text','tags','comments.count','likes.count',\n",
    "             'filter','type','created_time','user.full_name','user.id','link','location.latitude',\n",
    "             'location.longitude']]\n",
    "    df['created_time'] = [x.replace(x, datetime.datetime.fromtimestamp(int(str(x))).strftime('%Y-%m-%d %H:%M:%S')) for x in df['created_time']]\n",
    "    df = df.rename(columns=lambda x: x.replace('.', ' ').title())\n",
    "    \n",
    "    return df\n",
    "    "
   ]
  },
  {
   "cell_type": "code",
   "execution_count": 2,
   "metadata": {
    "collapsed": false
   },
   "outputs": [],
   "source": [
    "instagram_scraped = instagram_scraper('ditmaspark')"
   ]
  },
  {
   "cell_type": "code",
   "execution_count": 3,
   "metadata": {
    "collapsed": false
   },
   "outputs": [
    {
     "data": {
      "text/html": [
       "<div style=\"max-height:1000px;max-width:1500px;overflow:auto;\">\n",
       "<table border=\"1\" class=\"dataframe\">\n",
       "  <thead>\n",
       "    <tr style=\"text-align: right;\">\n",
       "      <th></th>\n",
       "      <th>User Username</th>\n",
       "      <th>Caption Text</th>\n",
       "      <th>Tags</th>\n",
       "      <th>Comments Count</th>\n",
       "      <th>Likes Count</th>\n",
       "      <th>Filter</th>\n",
       "      <th>Type</th>\n",
       "      <th>Created_Time</th>\n",
       "      <th>User Full_Name</th>\n",
       "      <th>User Id</th>\n",
       "      <th>Link</th>\n",
       "      <th>Location Latitude</th>\n",
       "      <th>Location Longitude</th>\n",
       "    </tr>\n",
       "  </thead>\n",
       "  <tbody>\n",
       "    <tr>\n",
       "      <th>0</th>\n",
       "      <td>hamiltonsbrooklyn</td>\n",
       "      <td>Game ON!</td>\n",
       "      <td>[todiefor, windsorterrace, foodie, foodporn, f...</td>\n",
       "      <td>1</td>\n",
       "      <td>5</td>\n",
       "      <td>Normal</td>\n",
       "      <td>image</td>\n",
       "      <td>2015-05-29 19:06:12</td>\n",
       "      <td>Hamilton's Restaurant &amp; Bar</td>\n",
       "      <td>964825506</td>\n",
       "      <td>https://instagram.com/p/3SJ3L9B-3E/</td>\n",
       "      <td>40.648573</td>\n",
       "      <td>-73.977245</td>\n",
       "    </tr>\n",
       "    <tr>\n",
       "      <th>1</th>\n",
       "      <td>lavenderbluesmusic</td>\n",
       "      <td>SATURDAYS at @LARKCafe!! The most BRILLIANT wa...</td>\n",
       "      <td>[sofun, windsorterrace, singalong, missalex, b...</td>\n",
       "      <td>0</td>\n",
       "      <td>2</td>\n",
       "      <td>Normal</td>\n",
       "      <td>image</td>\n",
       "      <td>2015-05-29 19:03:25</td>\n",
       "      <td>Lavender Blues</td>\n",
       "      <td>598157192</td>\n",
       "      <td>https://instagram.com/p/3SJivSIkSL/</td>\n",
       "      <td>40.677468</td>\n",
       "      <td>-73.922337</td>\n",
       "    </tr>\n",
       "    <tr>\n",
       "      <th>2</th>\n",
       "      <td>mfheadliner</td>\n",
       "      <td>#ditmaspark #roses #freshcut #ny #nyc #latergr...</td>\n",
       "      <td>[ny, freshcut, unedited, ditmaspark, roses, br...</td>\n",
       "      <td>0</td>\n",
       "      <td>9</td>\n",
       "      <td>Normal</td>\n",
       "      <td>image</td>\n",
       "      <td>2015-05-29 18:55:03</td>\n",
       "      <td>Chris Turck Photography</td>\n",
       "      <td>407807781</td>\n",
       "      <td>https://instagram.com/p/3SIlgOK3qM/</td>\n",
       "      <td>40.640178</td>\n",
       "      <td>-73.967199</td>\n",
       "    </tr>\n",
       "    <tr>\n",
       "      <th>3</th>\n",
       "      <td>kaponithebarber</td>\n",
       "      <td>Haciendo algo  JuniorBarberShop📍🇺🇸#Barber #...</td>\n",
       "      <td>[nastybarber, flatbush, niceline, brooklyn, br...</td>\n",
       "      <td>0</td>\n",
       "      <td>27</td>\n",
       "      <td>Normal</td>\n",
       "      <td>image</td>\n",
       "      <td>2015-05-29 18:39:35</td>\n",
       "      <td>Anthony Ureña</td>\n",
       "      <td>1544032220</td>\n",
       "      <td>https://instagram.com/p/3SG0KcIrYm/</td>\n",
       "      <td>40.641977</td>\n",
       "      <td>-73.962930</td>\n",
       "    </tr>\n",
       "    <tr>\n",
       "      <th>4</th>\n",
       "      <td>ilegalmezcal</td>\n",
       "      <td>See you @barchordbrooklyn for the @ilegalmezca...</td>\n",
       "      <td>[brooklyn, music, ditmaspark, mezcal]</td>\n",
       "      <td>0</td>\n",
       "      <td>36</td>\n",
       "      <td>Normal</td>\n",
       "      <td>image</td>\n",
       "      <td>2015-05-29 18:31:52</td>\n",
       "      <td>ilegalmezcal</td>\n",
       "      <td>11783998</td>\n",
       "      <td>https://instagram.com/p/3SF7rqvn1t/</td>\n",
       "      <td>40.639153</td>\n",
       "      <td>-73.968396</td>\n",
       "    </tr>\n",
       "    <tr>\n",
       "      <th>5</th>\n",
       "      <td>sherrydavisart</td>\n",
       "      <td>Constructing a #pop-up city! #DitmasPark #kens...</td>\n",
       "      <td>[ezraguitar, brooklyn, ditmaspark, pop, kensin...</td>\n",
       "      <td>0</td>\n",
       "      <td>1</td>\n",
       "      <td>Normal</td>\n",
       "      <td>image</td>\n",
       "      <td>2015-05-29 18:17:48</td>\n",
       "      <td>Sherry Davis</td>\n",
       "      <td>1586184757</td>\n",
       "      <td>https://instagram.com/p/3SEUnxSlrK/</td>\n",
       "      <td>40.638305</td>\n",
       "      <td>-73.968196</td>\n",
       "    </tr>\n",
       "    <tr>\n",
       "      <th>6</th>\n",
       "      <td>coffeemob</td>\n",
       "      <td>Anodyne: A pain killing drug or medicine. I al...</td>\n",
       "      <td>[cappuccino, scaa, coffeemug, brooklynsbest, a...</td>\n",
       "      <td>4</td>\n",
       "      <td>61</td>\n",
       "      <td>Normal</td>\n",
       "      <td>image</td>\n",
       "      <td>2015-05-29 17:26:04</td>\n",
       "      <td>Buck</td>\n",
       "      <td>281117237</td>\n",
       "      <td>https://instagram.com/p/3R-Zsuovru/</td>\n",
       "      <td>40.635658</td>\n",
       "      <td>-73.962737</td>\n",
       "    </tr>\n",
       "    <tr>\n",
       "      <th>7</th>\n",
       "      <td>hamiltonsbrooklyn</td>\n",
       "      <td>Homemade potato gnudi with stinging nettle pes...</td>\n",
       "      <td>[todiefor, windsorterrace, foodie, foodporn, f...</td>\n",
       "      <td>1</td>\n",
       "      <td>9</td>\n",
       "      <td>Normal</td>\n",
       "      <td>image</td>\n",
       "      <td>2015-05-29 16:56:04</td>\n",
       "      <td>Hamilton's Restaurant &amp; Bar</td>\n",
       "      <td>964825506</td>\n",
       "      <td>https://instagram.com/p/3R69_eh-9H/</td>\n",
       "      <td>40.648573</td>\n",
       "      <td>-73.977245</td>\n",
       "    </tr>\n",
       "    <tr>\n",
       "      <th>8</th>\n",
       "      <td>uncleshackgrill</td>\n",
       "      <td>CONGRATULATIONS #CLASSOF2015  #FAMILY #SEAFOOD...</td>\n",
       "      <td>[classof2015, family, foodporn, fish, goodfood...</td>\n",
       "      <td>1</td>\n",
       "      <td>20</td>\n",
       "      <td>Ludwig</td>\n",
       "      <td>image</td>\n",
       "      <td>2015-05-29 15:24:33</td>\n",
       "      <td>Uncle's Shack &amp; Grill</td>\n",
       "      <td>1196814960</td>\n",
       "      <td>https://instagram.com/p/3Rwfx7TYem/</td>\n",
       "      <td>40.642547</td>\n",
       "      <td>-73.951600</td>\n",
       "    </tr>\n",
       "    <tr>\n",
       "      <th>9</th>\n",
       "      <td>followurblis</td>\n",
       "      <td>NEW POST: Click the link in my bio to read abo...</td>\n",
       "      <td>[albany, careernomad, muktiskitchen, cooking, ...</td>\n",
       "      <td>0</td>\n",
       "      <td>9</td>\n",
       "      <td>Normal</td>\n",
       "      <td>image</td>\n",
       "      <td>2015-05-29 15:19:01</td>\n",
       "      <td>Marguerite L. Pierce</td>\n",
       "      <td>1002363483</td>\n",
       "      <td>https://instagram.com/p/3Rv3QSNnDc/</td>\n",
       "      <td>NaN</td>\n",
       "      <td>NaN</td>\n",
       "    </tr>\n",
       "    <tr>\n",
       "      <th>10</th>\n",
       "      <td>lisanatalie84</td>\n",
       "      <td>#ditmaspark #brooklyn</td>\n",
       "      <td>[brooklyn, ditmaspark]</td>\n",
       "      <td>1</td>\n",
       "      <td>18</td>\n",
       "      <td>Perpetua</td>\n",
       "      <td>image</td>\n",
       "      <td>2015-05-29 15:14:53</td>\n",
       "      <td>Lisa B</td>\n",
       "      <td>222988782</td>\n",
       "      <td>https://instagram.com/p/3RvY59ux0A/</td>\n",
       "      <td>NaN</td>\n",
       "      <td>NaN</td>\n",
       "    </tr>\n",
       "    <tr>\n",
       "      <th>11</th>\n",
       "      <td>familyoflightholisticcenter</td>\n",
       "      <td>We are donating these chopped watermelons to W...</td>\n",
       "      <td>[montessori, food, prospectpark, familyoflight...</td>\n",
       "      <td>0</td>\n",
       "      <td>12</td>\n",
       "      <td>Hudson</td>\n",
       "      <td>image</td>\n",
       "      <td>2015-05-29 14:19:02</td>\n",
       "      <td>Family of Light Holistc Center</td>\n",
       "      <td>1479159713</td>\n",
       "      <td>https://instagram.com/p/3Ro_3pSaif/</td>\n",
       "      <td>40.603670</td>\n",
       "      <td>-73.973647</td>\n",
       "    </tr>\n",
       "    <tr>\n",
       "      <th>12</th>\n",
       "      <td>pazzipasta</td>\n",
       "      <td>Pazzi Pasta is combating the heat with our bra...</td>\n",
       "      <td>[cobblehill, feastagram, jasmine, pazzipasta, ...</td>\n",
       "      <td>1</td>\n",
       "      <td>55</td>\n",
       "      <td>Normal</td>\n",
       "      <td>image</td>\n",
       "      <td>2015-05-29 12:32:22</td>\n",
       "      <td>Pazzi Pasta Brooklyn</td>\n",
       "      <td>1402473712</td>\n",
       "      <td>https://instagram.com/p/3RcyrgugYX/</td>\n",
       "      <td>40.683891</td>\n",
       "      <td>-73.992005</td>\n",
       "    </tr>\n",
       "    <tr>\n",
       "      <th>13</th>\n",
       "      <td>thebrooklynartery</td>\n",
       "      <td>#brooklynartery #handmade #mycortelyou #ditmas...</td>\n",
       "      <td>[governorsisland, handmade, mycortelyou, ditma...</td>\n",
       "      <td>0</td>\n",
       "      <td>3</td>\n",
       "      <td>Normal</td>\n",
       "      <td>image</td>\n",
       "      <td>2015-05-29 12:07:31</td>\n",
       "      <td></td>\n",
       "      <td>4047122</td>\n",
       "      <td>https://instagram.com/p/3RZ8lJoS4Y/</td>\n",
       "      <td>40.639515</td>\n",
       "      <td>-73.968469</td>\n",
       "    </tr>\n",
       "    <tr>\n",
       "      <th>14</th>\n",
       "      <td>thebrooklynartery</td>\n",
       "      <td>#brooklynartery #handmade #mycortelyou #ditmas...</td>\n",
       "      <td>[governorsisland, handmade, mycortelyou, ditma...</td>\n",
       "      <td>0</td>\n",
       "      <td>3</td>\n",
       "      <td>Normal</td>\n",
       "      <td>image</td>\n",
       "      <td>2015-05-29 12:05:47</td>\n",
       "      <td></td>\n",
       "      <td>4047122</td>\n",
       "      <td>https://instagram.com/p/3RZv6UoS4G/</td>\n",
       "      <td>40.639497</td>\n",
       "      <td>-73.968374</td>\n",
       "    </tr>\n",
       "    <tr>\n",
       "      <th>15</th>\n",
       "      <td>thebrooklynartery</td>\n",
       "      <td>#brooklynartery #handmade #mycortelyou #ditmas...</td>\n",
       "      <td>[governorsisland, handmade, mycortelyou, ditma...</td>\n",
       "      <td>0</td>\n",
       "      <td>3</td>\n",
       "      <td>Normal</td>\n",
       "      <td>image</td>\n",
       "      <td>2015-05-29 12:05:04</td>\n",
       "      <td></td>\n",
       "      <td>4047122</td>\n",
       "      <td>https://instagram.com/p/3RZqpcoS38/</td>\n",
       "      <td>40.639483</td>\n",
       "      <td>-73.968378</td>\n",
       "    </tr>\n",
       "    <tr>\n",
       "      <th>16</th>\n",
       "      <td>boochiekel</td>\n",
       "      <td>The new view ain't so bad though. View to the ...</td>\n",
       "      <td>[brooklyn, viewfromabove, newplacefreshstart, ...</td>\n",
       "      <td>1</td>\n",
       "      <td>10</td>\n",
       "      <td>Normal</td>\n",
       "      <td>image</td>\n",
       "      <td>2015-05-29 07:57:31</td>\n",
       "      <td>Kelly H</td>\n",
       "      <td>30863134</td>\n",
       "      <td>https://instagram.com/p/3Q9VhqMP8-/</td>\n",
       "      <td>40.634800</td>\n",
       "      <td>-73.958121</td>\n",
       "    </tr>\n",
       "    <tr>\n",
       "      <th>17</th>\n",
       "      <td>urbanpads_nyc</td>\n",
       "      <td>Meet Earl &amp; Co. Aren't they cute? Hanging out ...</td>\n",
       "      <td>[crownheights, fortegreen, urbanpadsnyc, urban...</td>\n",
       "      <td>0</td>\n",
       "      <td>16</td>\n",
       "      <td>Normal</td>\n",
       "      <td>image</td>\n",
       "      <td>2015-05-29 07:57:09</td>\n",
       "      <td>Urbanpadsnyc.com</td>\n",
       "      <td>1752878669</td>\n",
       "      <td>https://instagram.com/p/3Q9S6sOVpn/</td>\n",
       "      <td>40.676855</td>\n",
       "      <td>-73.980105</td>\n",
       "    </tr>\n",
       "    <tr>\n",
       "      <th>18</th>\n",
       "      <td>fewxie</td>\n",
       "      <td>Do I amuse you?\\n#Goodfeathers #Summertime #Di...</td>\n",
       "      <td>[nyc, brooklyn, ditmaspark, summertime, goodfe...</td>\n",
       "      <td>0</td>\n",
       "      <td>7</td>\n",
       "      <td>Ludwig</td>\n",
       "      <td>image</td>\n",
       "      <td>2015-05-29 07:47:36</td>\n",
       "      <td>Michael Fewx</td>\n",
       "      <td>464590034</td>\n",
       "      <td>https://instagram.com/p/3Q8M7jgIyn/</td>\n",
       "      <td>NaN</td>\n",
       "      <td>NaN</td>\n",
       "    </tr>\n",
       "    <tr>\n",
       "      <th>19</th>\n",
       "      <td>chrisnotchris</td>\n",
       "      <td>Our home used to be so streamlined... #babiesb...</td>\n",
       "      <td>[babiesbemessy, ditmaspark]</td>\n",
       "      <td>2</td>\n",
       "      <td>24</td>\n",
       "      <td>Lark</td>\n",
       "      <td>image</td>\n",
       "      <td>2015-05-29 01:12:48</td>\n",
       "      <td>Chris Thomas</td>\n",
       "      <td>217393188</td>\n",
       "      <td>https://instagram.com/p/3QPBVeMdfz/</td>\n",
       "      <td>38.541312</td>\n",
       "      <td>-75.075456</td>\n",
       "    </tr>\n",
       "  </tbody>\n",
       "</table>\n",
       "</div>"
      ],
      "text/plain": [
       "                  User Username  \\\n",
       "0             hamiltonsbrooklyn   \n",
       "1            lavenderbluesmusic   \n",
       "2                   mfheadliner   \n",
       "3               kaponithebarber   \n",
       "4                  ilegalmezcal   \n",
       "5                sherrydavisart   \n",
       "6                     coffeemob   \n",
       "7             hamiltonsbrooklyn   \n",
       "8               uncleshackgrill   \n",
       "9                  followurblis   \n",
       "10                lisanatalie84   \n",
       "11  familyoflightholisticcenter   \n",
       "12                   pazzipasta   \n",
       "13            thebrooklynartery   \n",
       "14            thebrooklynartery   \n",
       "15            thebrooklynartery   \n",
       "16                   boochiekel   \n",
       "17                urbanpads_nyc   \n",
       "18                       fewxie   \n",
       "19                chrisnotchris   \n",
       "\n",
       "                                         Caption Text  \\\n",
       "0                                            Game ON!   \n",
       "1   SATURDAYS at @LARKCafe!! The most BRILLIANT wa...   \n",
       "2   #ditmaspark #roses #freshcut #ny #nyc #latergr...   \n",
       "3   Haciendo algo  JuniorBarberShop📍🇺🇸#Barber #...   \n",
       "4   See you @barchordbrooklyn for the @ilegalmezca...   \n",
       "5   Constructing a #pop-up city! #DitmasPark #kens...   \n",
       "6   Anodyne: A pain killing drug or medicine. I al...   \n",
       "7   Homemade potato gnudi with stinging nettle pes...   \n",
       "8   CONGRATULATIONS #CLASSOF2015  #FAMILY #SEAFOOD...   \n",
       "9   NEW POST: Click the link in my bio to read abo...   \n",
       "10                              #ditmaspark #brooklyn   \n",
       "11  We are donating these chopped watermelons to W...   \n",
       "12  Pazzi Pasta is combating the heat with our bra...   \n",
       "13  #brooklynartery #handmade #mycortelyou #ditmas...   \n",
       "14  #brooklynartery #handmade #mycortelyou #ditmas...   \n",
       "15  #brooklynartery #handmade #mycortelyou #ditmas...   \n",
       "16  The new view ain't so bad though. View to the ...   \n",
       "17  Meet Earl & Co. Aren't they cute? Hanging out ...   \n",
       "18  Do I amuse you?\\n#Goodfeathers #Summertime #Di...   \n",
       "19  Our home used to be so streamlined... #babiesb...   \n",
       "\n",
       "                                                 Tags  Comments Count  \\\n",
       "0   [todiefor, windsorterrace, foodie, foodporn, f...               1   \n",
       "1   [sofun, windsorterrace, singalong, missalex, b...               0   \n",
       "2   [ny, freshcut, unedited, ditmaspark, roses, br...               0   \n",
       "3   [nastybarber, flatbush, niceline, brooklyn, br...               0   \n",
       "4               [brooklyn, music, ditmaspark, mezcal]               0   \n",
       "5   [ezraguitar, brooklyn, ditmaspark, pop, kensin...               0   \n",
       "6   [cappuccino, scaa, coffeemug, brooklynsbest, a...               4   \n",
       "7   [todiefor, windsorterrace, foodie, foodporn, f...               1   \n",
       "8   [classof2015, family, foodporn, fish, goodfood...               1   \n",
       "9   [albany, careernomad, muktiskitchen, cooking, ...               0   \n",
       "10                             [brooklyn, ditmaspark]               1   \n",
       "11  [montessori, food, prospectpark, familyoflight...               0   \n",
       "12  [cobblehill, feastagram, jasmine, pazzipasta, ...               1   \n",
       "13  [governorsisland, handmade, mycortelyou, ditma...               0   \n",
       "14  [governorsisland, handmade, mycortelyou, ditma...               0   \n",
       "15  [governorsisland, handmade, mycortelyou, ditma...               0   \n",
       "16  [brooklyn, viewfromabove, newplacefreshstart, ...               1   \n",
       "17  [crownheights, fortegreen, urbanpadsnyc, urban...               0   \n",
       "18  [nyc, brooklyn, ditmaspark, summertime, goodfe...               0   \n",
       "19                        [babiesbemessy, ditmaspark]               2   \n",
       "\n",
       "    Likes Count    Filter   Type         Created_Time  \\\n",
       "0             5    Normal  image  2015-05-29 19:06:12   \n",
       "1             2    Normal  image  2015-05-29 19:03:25   \n",
       "2             9    Normal  image  2015-05-29 18:55:03   \n",
       "3            27    Normal  image  2015-05-29 18:39:35   \n",
       "4            36    Normal  image  2015-05-29 18:31:52   \n",
       "5             1    Normal  image  2015-05-29 18:17:48   \n",
       "6            61    Normal  image  2015-05-29 17:26:04   \n",
       "7             9    Normal  image  2015-05-29 16:56:04   \n",
       "8            20    Ludwig  image  2015-05-29 15:24:33   \n",
       "9             9    Normal  image  2015-05-29 15:19:01   \n",
       "10           18  Perpetua  image  2015-05-29 15:14:53   \n",
       "11           12    Hudson  image  2015-05-29 14:19:02   \n",
       "12           55    Normal  image  2015-05-29 12:32:22   \n",
       "13            3    Normal  image  2015-05-29 12:07:31   \n",
       "14            3    Normal  image  2015-05-29 12:05:47   \n",
       "15            3    Normal  image  2015-05-29 12:05:04   \n",
       "16           10    Normal  image  2015-05-29 07:57:31   \n",
       "17           16    Normal  image  2015-05-29 07:57:09   \n",
       "18            7    Ludwig  image  2015-05-29 07:47:36   \n",
       "19           24      Lark  image  2015-05-29 01:12:48   \n",
       "\n",
       "                    User Full_Name     User Id  \\\n",
       "0      Hamilton's Restaurant & Bar   964825506   \n",
       "1                   Lavender Blues   598157192   \n",
       "2          Chris Turck Photography   407807781   \n",
       "3                    Anthony Ureña  1544032220   \n",
       "4                     ilegalmezcal    11783998   \n",
       "5                     Sherry Davis  1586184757   \n",
       "6                             Buck   281117237   \n",
       "7      Hamilton's Restaurant & Bar   964825506   \n",
       "8            Uncle's Shack & Grill  1196814960   \n",
       "9             Marguerite L. Pierce  1002363483   \n",
       "10                          Lisa B   222988782   \n",
       "11  Family of Light Holistc Center  1479159713   \n",
       "12            Pazzi Pasta Brooklyn  1402473712   \n",
       "13                                     4047122   \n",
       "14                                     4047122   \n",
       "15                                     4047122   \n",
       "16                         Kelly H    30863134   \n",
       "17                Urbanpadsnyc.com  1752878669   \n",
       "18                    Michael Fewx   464590034   \n",
       "19                    Chris Thomas   217393188   \n",
       "\n",
       "                                   Link  Location Latitude  Location Longitude  \n",
       "0   https://instagram.com/p/3SJ3L9B-3E/          40.648573          -73.977245  \n",
       "1   https://instagram.com/p/3SJivSIkSL/          40.677468          -73.922337  \n",
       "2   https://instagram.com/p/3SIlgOK3qM/          40.640178          -73.967199  \n",
       "3   https://instagram.com/p/3SG0KcIrYm/          40.641977          -73.962930  \n",
       "4   https://instagram.com/p/3SF7rqvn1t/          40.639153          -73.968396  \n",
       "5   https://instagram.com/p/3SEUnxSlrK/          40.638305          -73.968196  \n",
       "6   https://instagram.com/p/3R-Zsuovru/          40.635658          -73.962737  \n",
       "7   https://instagram.com/p/3R69_eh-9H/          40.648573          -73.977245  \n",
       "8   https://instagram.com/p/3Rwfx7TYem/          40.642547          -73.951600  \n",
       "9   https://instagram.com/p/3Rv3QSNnDc/                NaN                 NaN  \n",
       "10  https://instagram.com/p/3RvY59ux0A/                NaN                 NaN  \n",
       "11  https://instagram.com/p/3Ro_3pSaif/          40.603670          -73.973647  \n",
       "12  https://instagram.com/p/3RcyrgugYX/          40.683891          -73.992005  \n",
       "13  https://instagram.com/p/3RZ8lJoS4Y/          40.639515          -73.968469  \n",
       "14  https://instagram.com/p/3RZv6UoS4G/          40.639497          -73.968374  \n",
       "15  https://instagram.com/p/3RZqpcoS38/          40.639483          -73.968378  \n",
       "16  https://instagram.com/p/3Q9VhqMP8-/          40.634800          -73.958121  \n",
       "17  https://instagram.com/p/3Q9S6sOVpn/          40.676855          -73.980105  \n",
       "18  https://instagram.com/p/3Q8M7jgIyn/                NaN                 NaN  \n",
       "19  https://instagram.com/p/3QPBVeMdfz/          38.541312          -75.075456  "
      ]
     },
     "execution_count": 3,
     "metadata": {},
     "output_type": "execute_result"
    }
   ],
   "source": [
    "instagram_scraped"
   ]
  },
  {
   "cell_type": "code",
   "execution_count": 20,
   "metadata": {
    "collapsed": false
   },
   "outputs": [],
   "source": [
    "def instagram_graph(instagram_scraped):\n",
    "\n",
    "    fig = plt.figure(figsize=(8,6))\n",
    "\n",
    "    ax1 = plt.subplot2grid((3,3), (0,0), colspan=3, rowspan=1)\n",
    "    instagram_scraped['Comments Count'].plot(kind='bar', alpha=.55)\n",
    "    plt.title(\"Total Comment Count Per Post\",fontsize=20)\n",
    "    plt.ylabel('Total Comments')\n",
    "    plt.xlabel('Most Recent to Least Recent')\n",
    "\n",
    "\n",
    "    ax2 = plt.subplot2grid((3,3), (1,0), colspan=3, rowspan=1)\n",
    "    instagram_scraped['Likes Count'].plot(kind='bar', alpha=.55)\n",
    "    plt.title(\"Total Like Count Per Post\",fontsize=20)\n",
    "    plt.xlabel('Most Recent to Least Recent')\n",
    "    plt.ylabel('Total Likes')\n",
    "    \n",
    "    \n",
    "    ax3 = plt.subplot2grid((3,3), (2,0), colspan=3, rowspan=1)\n",
    "    plt.hist(instagram_scraped['Likes Count'])\n",
    "    plt.title('Test Graph (Please Ignore)', fontsize=20)\n",
    "    plt.xlabel('Amount of Posts')\n",
    "    plt.ylabel('Likes')\n",
    "    fig_size = plt.rcParams[\"figure.figsize\"]\n",
    "    \n",
    "\n",
    "    fig.tight_layout()"
   ]
  },
  {
   "cell_type": "code",
   "execution_count": 21,
   "metadata": {
    "collapsed": false
   },
   "outputs": [
    {
     "data": {
      "image/png": "[encoded data removed]",
      "text/plain": [
       "<matplotlib.figure.Figure at 0x107e0fed0>"
      ]
     },
     "metadata": {},
     "output_type": "display_data"
    }
   ],
   "source": [
    "instagram_graph(instagram_scraped)"
   ]
  },
  {
   "cell_type": "code",
   "execution_count": null,
   "metadata": {
    "collapsed": false
   },
   "outputs": [],
   "source": []
  },
  {
   "cell_type": "code",
   "execution_count": null,
   "metadata": {
    "collapsed": false
   },
   "outputs": [],
   "source": []
  },
  {
   "cell_type": "code",
   "execution_count": null,
   "metadata": {
    "collapsed": false
   },
   "outputs": [],
   "source": []
  },
  {
   "cell_type": "code",
   "execution_count": null,
   "metadata": {
    "collapsed": false
   },
   "outputs": [],
   "source": []
  },
  {
   "cell_type": "code",
   "execution_count": null,
   "metadata": {
    "collapsed": false
   },
   "outputs": [],
   "source": []
  },
  {
   "cell_type": "code",
   "execution_count": null,
   "metadata": {
    "collapsed": false
   },
   "outputs": [],
   "source": []
  },
  {
   "cell_type": "code",
   "execution_count": null,
   "metadata": {
    "collapsed": false
   },
   "outputs": [],
   "source": []
  },
  {
   "cell_type": "markdown",
   "metadata": {},
   "source": [
    "#gmaps"
   ]
  },
  {
   "cell_type": "code",
   "execution_count": 4,
   "metadata": {
    "collapsed": false
   },
   "outputs": [],
   "source": [
    "df = df.dropna()"
   ]
  },
  {
   "cell_type": "code",
   "execution_count": 5,
   "metadata": {
    "collapsed": false
   },
   "outputs": [],
   "source": [
    "df = df[['Location Latitude', 'Location Longitude']]"
   ]
  },
  {
   "cell_type": "code",
   "execution_count": 6,
   "metadata": {
    "collapsed": false
   },
   "outputs": [
    {
     "data": {
      "text/html": [
       "<div style=\"max-height:1000px;max-width:1500px;overflow:auto;\">\n",
       "<table border=\"1\" class=\"dataframe\">\n",
       "  <thead>\n",
       "    <tr style=\"text-align: right;\">\n",
       "      <th></th>\n",
       "      <th>Location Latitude</th>\n",
       "      <th>Location Longitude</th>\n",
       "    </tr>\n",
       "  </thead>\n",
       "  <tbody>\n",
       "    <tr>\n",
       "      <th>4 </th>\n",
       "      <td> 40.752261</td>\n",
       "      <td>-73.999900</td>\n",
       "    </tr>\n",
       "    <tr>\n",
       "      <th>5 </th>\n",
       "      <td> 40.729432</td>\n",
       "      <td>-73.951760</td>\n",
       "    </tr>\n",
       "    <tr>\n",
       "      <th>7 </th>\n",
       "      <td> 55.405831</td>\n",
       "      <td> 10.410362</td>\n",
       "    </tr>\n",
       "    <tr>\n",
       "      <th>8 </th>\n",
       "      <td> 39.391243</td>\n",
       "      <td>-76.710414</td>\n",
       "    </tr>\n",
       "    <tr>\n",
       "      <th>10</th>\n",
       "      <td> 40.779655</td>\n",
       "      <td>-73.962478</td>\n",
       "    </tr>\n",
       "    <tr>\n",
       "      <th>11</th>\n",
       "      <td> 40.750734</td>\n",
       "      <td>-73.938787</td>\n",
       "    </tr>\n",
       "    <tr>\n",
       "      <th>13</th>\n",
       "      <td> 21.800650</td>\n",
       "      <td>-72.171433</td>\n",
       "    </tr>\n",
       "    <tr>\n",
       "      <th>15</th>\n",
       "      <td> 40.730892</td>\n",
       "      <td>-73.997475</td>\n",
       "    </tr>\n",
       "    <tr>\n",
       "      <th>18</th>\n",
       "      <td> 40.705576</td>\n",
       "      <td>-74.013421</td>\n",
       "    </tr>\n",
       "  </tbody>\n",
       "</table>\n",
       "</div>"
      ],
      "text/plain": [
       "    Location Latitude  Location Longitude\n",
       "4           40.752261          -73.999900\n",
       "5           40.729432          -73.951760\n",
       "7           55.405831           10.410362\n",
       "8           39.391243          -76.710414\n",
       "10          40.779655          -73.962478\n",
       "11          40.750734          -73.938787\n",
       "13          21.800650          -72.171433\n",
       "15          40.730892          -73.997475\n",
       "18          40.705576          -74.013421"
      ]
     },
     "execution_count": 6,
     "metadata": {},
     "output_type": "execute_result"
    }
   ],
   "source": [
    "df"
   ]
  },
  {
   "cell_type": "code",
   "execution_count": 7,
   "metadata": {
    "collapsed": false
   },
   "outputs": [],
   "source": [
    "df_array = np.array(df.as_matrix(columns = None)).astype(np.float)"
   ]
  },
  {
   "cell_type": "code",
   "execution_count": 8,
   "metadata": {
    "collapsed": false
   },
   "outputs": [
    {
     "data": {
      "text/plain": [
       "array([[ 40.752261  , -73.9999    ],\n",
       "       [ 40.72943211, -73.95176042],\n",
       "       [ 55.40583139,  10.41036239],\n",
       "       [ 39.39124266, -76.71041398],\n",
       "       [ 40.779655  , -73.96247833],\n",
       "       [ 40.7507344 , -73.93878717],\n",
       "       [ 21.80065   , -72.17143333],\n",
       "       [ 40.7308923 , -73.99747521],\n",
       "       [ 40.705576  , -74.013421  ]])"
      ]
     },
     "execution_count": 8,
     "metadata": {},
     "output_type": "execute_result"
    }
   ],
   "source": [
    "df_array"
   ]
  },
  {
   "cell_type": "code",
   "execution_count": 25,
   "metadata": {
    "collapsed": false
   },
   "outputs": [],
   "source": [
    "import gmaps\n",
    "import matplotlib as plt\n",
    "from gmaps import Geocoding"
   ]
  },
  {
   "cell_type": "code",
   "execution_count": 31,
   "metadata": {
    "collapsed": false
   },
   "outputs": [
    {
     "ename": "AttributeError",
     "evalue": "'module' object has no attribute 'datasets'",
     "output_type": "error",
     "traceback": [
      "\u001b[0;31m---------------------------------------------------------------------------\u001b[0m\n\u001b[0;31mAttributeError\u001b[0m                            Traceback (most recent call last)",
      "\u001b[0;32m<ipython-input-31-2c3924a2dbec>\u001b[0m in \u001b[0;36m<module>\u001b[0;34m()\u001b[0m\n\u001b[1;32m      1\u001b[0m \u001b[0;32mimport\u001b[0m \u001b[0mgmaps\u001b[0m\u001b[0;34m\u001b[0m\u001b[0m\n\u001b[0;32m----> 2\u001b[0;31m \u001b[0mdata\u001b[0m \u001b[0;34m=\u001b[0m \u001b[0mgmaps\u001b[0m\u001b[0;34m.\u001b[0m\u001b[0mdatasets\u001b[0m\u001b[0;34m.\u001b[0m\u001b[0mload_dataset\u001b[0m\u001b[0;34m(\u001b[0m\u001b[0;34m'taxi_rides'\u001b[0m\u001b[0;34m)\u001b[0m\u001b[0;34m\u001b[0m\u001b[0m\n\u001b[0m",
      "\u001b[0;31mAttributeError\u001b[0m: 'module' object has no attribute 'datasets'"
     ]
    }
   ],
   "source": [
    "import gmaps\n",
    "data = gmaps.datasets.load_dataset('taxi_rides')"
   ]
  },
  {
   "cell_type": "code",
   "execution_count": 27,
   "metadata": {
    "collapsed": false
   },
   "outputs": [],
   "source": [
    "import gmaps"
   ]
  },
  {
   "cell_type": "code",
   "execution_count": 30,
   "metadata": {
    "collapsed": false
   },
   "outputs": [
    {
     "data": {
      "text/plain": [
       "(0, 2, 1)"
      ]
     },
     "execution_count": 30,
     "metadata": {},
     "output_type": "execute_result"
    }
   ],
   "source": [
    "gmaps.Geocoding."
   ]
  },
  {
   "cell_type": "code",
   "execution_count": 10,
   "metadata": {
    "collapsed": false
   },
   "outputs": [
    {
     "data": {
      "text/plain": [
       "numpy.ndarray"
      ]
     },
     "execution_count": 10,
     "metadata": {},
     "output_type": "execute_result"
    }
   ],
   "source": [
    "type(df_array)"
   ]
  },
  {
   "cell_type": "code",
   "execution_count": 15,
   "metadata": {
    "collapsed": false
   },
   "outputs": [],
   "source": [
    "map = gmaps.heatmap(df_array)"
   ]
  },
  {
   "cell_type": "code",
   "execution_count": 21,
   "metadata": {
    "collapsed": false
   },
   "outputs": [
    {
     "ename": "AttributeError",
     "evalue": "'module' object has no attribute 'display'",
     "output_type": "error",
     "traceback": [
      "\u001b[0;31m---------------------------------------------------------------------------\u001b[0m\n\u001b[0;31mAttributeError\u001b[0m                            Traceback (most recent call last)",
      "\u001b[0;32m<ipython-input-21-15de777ba1d9>\u001b[0m in \u001b[0;36m<module>\u001b[0;34m()\u001b[0m\n\u001b[0;32m----> 1\u001b[0;31m \u001b[0mgmaps\u001b[0m\u001b[0;34m.\u001b[0m\u001b[0mdisplay\u001b[0m\u001b[0;34m(\u001b[0m\u001b[0mmap\u001b[0m\u001b[0;34m)\u001b[0m\u001b[0;34m\u001b[0m\u001b[0m\n\u001b[0m",
      "\u001b[0;31mAttributeError\u001b[0m: 'module' object has no attribute 'display'"
     ]
    }
   ],
   "source": [
    "gmaps.display(map)\n"
   ]
  },
  {
   "cell_type": "code",
   "execution_count": 85,
   "metadata": {
    "collapsed": false
   },
   "outputs": [
    {
     "ename": "TypeError",
     "evalue": "can only concatenate list (not \"str\") to list",
     "output_type": "error",
     "traceback": [
      "\u001b[0;31m---------------------------------------------------------------------------\u001b[0m\n\u001b[0;31mTypeError\u001b[0m                                 Traceback (most recent call last)",
      "\u001b[0;32m<ipython-input-85-4eedf654f786>\u001b[0m in \u001b[0;36m<module>\u001b[0;34m()\u001b[0m\n\u001b[1;32m     35\u001b[0m \u001b[0;34m\u001b[0m\u001b[0m\n\u001b[1;32m     36\u001b[0m \u001b[0;31m# Fetch the user's timeline\u001b[0m\u001b[0;34m\u001b[0m\u001b[0;34m\u001b[0m\u001b[0m\n\u001b[0;32m---> 37\u001b[0;31m \u001b[0mtweets\u001b[0m \u001b[0;34m=\u001b[0m \u001b[0mfetchTweet\u001b[0m\u001b[0;34m(\u001b[0m\u001b[0;34m'odubno'\u001b[0m\u001b[0;34m)\u001b[0m\u001b[0;34m\u001b[0m\u001b[0m\n\u001b[0m\u001b[1;32m     38\u001b[0m \u001b[0;34m\u001b[0m\u001b[0m\n\u001b[1;32m     39\u001b[0m \u001b[0;31m# Define dictionary for feeling, I need to insert more words to make it more interesting\u001b[0m\u001b[0;34m\u001b[0m\u001b[0;34m\u001b[0m\u001b[0m\n",
      "\u001b[0;32m<ipython-input-85-4eedf654f786>\u001b[0m in \u001b[0;36mfetchTweet\u001b[0;34m(user)\u001b[0m\n\u001b[1;32m     27\u001b[0m \u001b[0;32mdef\u001b[0m \u001b[0mfetchTweet\u001b[0m\u001b[0;34m(\u001b[0m\u001b[0muser\u001b[0m\u001b[0;34m)\u001b[0m\u001b[0;34m:\u001b[0m\u001b[0;34m\u001b[0m\u001b[0m\n\u001b[1;32m     28\u001b[0m         \u001b[0mnumbers\u001b[0m \u001b[0;34m=\u001b[0m \u001b[0mnumberOfTweet\u001b[0m\u001b[0;34m\u001b[0m\u001b[0m\n\u001b[0;32m---> 29\u001b[0;31m         \u001b[0mstatuses\u001b[0m \u001b[0;34m=\u001b[0m \u001b[0mapi\u001b[0m\u001b[0;34m.\u001b[0m\u001b[0mGetUserTimeline\u001b[0m\u001b[0;34m(\u001b[0m\u001b[0mscreen_name\u001b[0m \u001b[0;34m=\u001b[0m \u001b[0muser\u001b[0m\u001b[0;34m,\u001b[0m \u001b[0mcount\u001b[0m \u001b[0;34m=\u001b[0m \u001b[0mnumbers\u001b[0m\u001b[0;34m)\u001b[0m\u001b[0;34m\u001b[0m\u001b[0m\n\u001b[0m\u001b[1;32m     30\u001b[0m \u001b[0;34m\u001b[0m\u001b[0m\n\u001b[1;32m     31\u001b[0m         \u001b[0mtweet\u001b[0m \u001b[0;34m=\u001b[0m \u001b[0;34m\"\"\u001b[0m\u001b[0;34m\u001b[0m\u001b[0m\n",
      "\u001b[0;32m/Users/olehdubno/anaconda/lib/python2.7/site-packages/twitter/api.pyc\u001b[0m in \u001b[0;36m__call__\u001b[0;34m(self, **kwargs)\u001b[0m\n\u001b[1;32m    237\u001b[0m             \u001b[0;31m# via multipart and send it directly via uri even for post\u001b[0m\u001b[0;34m\u001b[0m\u001b[0;34m\u001b[0m\u001b[0m\n\u001b[1;32m    238\u001b[0m             arg_data = self.auth.encode_params(\n\u001b[0;32m--> 239\u001b[0;31m                 uriBase, method, {} if media else kwargs)\n\u001b[0m\u001b[1;32m    240\u001b[0m             \u001b[0;32mif\u001b[0m \u001b[0mmethod\u001b[0m \u001b[0;34m==\u001b[0m \u001b[0;34m'GET'\u001b[0m \u001b[0;32mor\u001b[0m \u001b[0mmedia\u001b[0m\u001b[0;34m:\u001b[0m\u001b[0;34m\u001b[0m\u001b[0m\n\u001b[1;32m    241\u001b[0m                 \u001b[0muriBase\u001b[0m \u001b[0;34m+=\u001b[0m \u001b[0;34m'?'\u001b[0m \u001b[0;34m+\u001b[0m \u001b[0marg_data\u001b[0m\u001b[0;34m\u001b[0m\u001b[0m\n",
      "\u001b[0;32m/Users/olehdubno/anaconda/lib/python2.7/site-packages/twitter/oauth.pyc\u001b[0m in \u001b[0;36mencode_params\u001b[0;34m(self, base_url, method, params)\u001b[0m\n\u001b[1;32m    107\u001b[0m         \u001b[0menc_params\u001b[0m \u001b[0;34m=\u001b[0m \u001b[0murlencode_noplus\u001b[0m\u001b[0;34m(\u001b[0m\u001b[0msorted\u001b[0m\u001b[0;34m(\u001b[0m\u001b[0mparams\u001b[0m\u001b[0;34m.\u001b[0m\u001b[0mitems\u001b[0m\u001b[0;34m(\u001b[0m\u001b[0;34m)\u001b[0m\u001b[0;34m)\u001b[0m\u001b[0;34m)\u001b[0m\u001b[0;34m\u001b[0m\u001b[0m\n\u001b[1;32m    108\u001b[0m \u001b[0;34m\u001b[0m\u001b[0m\n\u001b[0;32m--> 109\u001b[0;31m         \u001b[0mkey\u001b[0m \u001b[0;34m=\u001b[0m \u001b[0mself\u001b[0m\u001b[0;34m.\u001b[0m\u001b[0mconsumer_secret\u001b[0m \u001b[0;34m+\u001b[0m \u001b[0;34m\"&\"\u001b[0m \u001b[0;34m+\u001b[0m \u001b[0murllib_parse\u001b[0m\u001b[0;34m.\u001b[0m\u001b[0mquote\u001b[0m\u001b[0;34m(\u001b[0m\u001b[0mself\u001b[0m\u001b[0;34m.\u001b[0m\u001b[0mtoken_secret\u001b[0m\u001b[0;34m,\u001b[0m \u001b[0msafe\u001b[0m\u001b[0;34m=\u001b[0m\u001b[0;34m'~'\u001b[0m\u001b[0;34m)\u001b[0m\u001b[0;34m\u001b[0m\u001b[0m\n\u001b[0m\u001b[1;32m    110\u001b[0m \u001b[0;34m\u001b[0m\u001b[0m\n\u001b[1;32m    111\u001b[0m         message = '&'.join(\n",
      "\u001b[0;31mTypeError\u001b[0m: can only concatenate list (not \"str\") to list"
     ]
    }
   ],
   "source": [
    "from twitter import *\n",
    "import nltk\n",
    "import matplotlib.pyplot as plt\n",
    "import numpy as np\n",
    "\n",
    "\n",
    "\n",
    "api = Twitter(\n",
    "    auth=OAuth(\n",
    "        token=['322803973-DMGKZNX8SXRf3LLrLAwiug2PEMgruNECqbbAbN1d'],\n",
    "        token_secret=['y4noOkMH4D74QNcaWazFNxRBVRilGc9P79r3OrjtwVcxF'],\n",
    "        consumer_key=['5uC13nn4MAPcQzFuMgWPeVL1Bvs8wj3Cd1puauCUD4F1zqpR1q'],\n",
    "        consumer_secret=['sT8FcSnqen19WZ9ew6EwzLAUe'])\n",
    "    )\n",
    "\n",
    "\n",
    "# Getting argument from user's command line input\n",
    "if __name__ == \"__main__\":\n",
    "    import sys\n",
    "    username = sys.argv[1]\n",
    "    if len(sys.argv) > 2:\n",
    "    \tnumberOfTweet = sys.argv[2]\n",
    "    else:\n",
    "    \tnumberOfTweet = 100 # default number of tweets\n",
    "\n",
    "# Function to fetch user's timeline data\n",
    "def fetchTweet(user):\n",
    "\tnumbers = numberOfTweet\n",
    "\tstatuses = api.GetUserTimeline(screen_name = user, count = numbers)\n",
    "\n",
    "\ttweet = \"\"\n",
    "\tfor s in statuses:\n",
    "\t    tweet = tweet + s.text\n",
    "\treturn tweet\n",
    "\n",
    "# Fetch the user's timeline\n",
    "tweets = fetchTweet('odubno')\n",
    "\n",
    "# Define dictionary for feeling, I need to insert more words to make it more interesting\n",
    "feelingCount = {'positive': 0, 'happy': 0, 'lovely': 0, 'negative': 0, 'sad': 0, 'angry': 0, 'sick': 0}\n",
    "feelingWords = {}\n",
    "\n",
    "feelingWords['positive'] = [\n",
    "'excellent', 'amazing', 'beautiful', 'nice', 'marvelous', 'magnificent', 'fabulous', 'astonishing', 'fantastic', 'peaceful', 'fortunate',\n",
    "'brilliant', 'glorious', 'cheerful', 'gracious', 'grateful', 'splendid', 'superb', 'honorable', 'thankful', 'inspirational',\n",
    "'ecstatic', 'victorious', 'virtuous', 'proud', 'wonderful', 'lovely', 'delightful']\n",
    "\n",
    "feelingWords['happy'] = [\n",
    "'happy', 'lucky', 'awesome', 'excited', 'fun', 'amusing', 'amused', 'pleasant', 'pleasing', 'glad', 'enjoy',\n",
    "'jolly', 'delightful', 'joyful', 'joyous', ':-)', ':)', ':-D', ':D', '=)']\n",
    "\n",
    "feelingWords['lovely'] = [\n",
    "'love', 'adore', 'blissful', 'heartfelt', 'loving', 'lovable', 'sweetheart', 'darling', 'kawaii', 'married', 'engaged']\n",
    "\n",
    "feelingWords['negative'] = [\n",
    "'unhappy', 'bad', 'sorry', 'annoyed', 'dislike', 'anxious', 'ashamed', 'cranky', 'crap', 'crappy', 'envy',\n",
    "'awful', 'bored', 'boring', 'bothersome', 'bummed', 'burned', 'chaotic', 'defeated', 'devastated', 'stressed',\n",
    "'disconnected', 'discouraged', 'dishonest', 'doomed', 'dreadful', 'embarrassed', 'evicted', 'freaked out', 'frustrated', 'stupid',\n",
    "'guilty', 'hopeless', 'horrible', 'horrified', 'humiliated', 'ignorant', 'inhumane', 'cruel', 'insane', 'insecure',\n",
    "'nervous', 'offended', 'oppressed', 'overwhelmed', 'pathetic', 'powerless', 'poor', 'resentful', 'robbed', 'screwed']\n",
    "\n",
    "feelingWords['sad'] = [\n",
    "'sad', 'alone', 'anxious', 'depressed', 'disappointed', 'disappointing', 'sigh', 'sobbing', 'crying', 'cried',\n",
    "'dumped', 'heartbroken', 'helpless', 'hurt', 'miserable', 'misunderstood', 'suicidal', ':-(', ':(', '=(', ';(']\n",
    "\n",
    "feelingWords['angry'] = [\n",
    "'hate', 'damn', 'angry', 'betrayed', 'bitched','disgust', 'disturbed', 'furious', 'harassed', 'hateful', 'hostile', 'insulted',\n",
    "'irritable', 'jealous', ' rage ', 'pissed']\n",
    "\n",
    "feelingWords['sick'] = [\n",
    "'sick', ' ill ', 'under weather', 'throw up', 'threw up', 'throwing up', 'puke', 'puking', 'pain', 'hangover', 'intoxicated']\n",
    "\n",
    "# Analyze feeling from user's most recent tweets\n",
    "# NLTK library is used\n",
    "for words in feelingWords:\n",
    "    for feel in feelingWords[words]:\n",
    "        if tweets.find(feel) > 0:\n",
    "            if words == 'positive':\n",
    "                feelingCount['positive'] = feelingCount['positive'] + 1\n",
    "            elif words == 'happy':\n",
    "                feelingCount['happy'] = feelingCount['happy'] + 1\n",
    "            elif words == 'lovely':\n",
    "                feelingCount['lovely'] = feelingCount['lovely'] + 1\n",
    "            elif words == 'negative':\n",
    "                feelingCount['negative'] = feelingCount['negative'] + 1\n",
    "            elif words == 'sad':\n",
    "                feelingCount['sad'] = feelingCount['sad'] + 1\n",
    "            elif words == 'angry':\n",
    "                feelingCount['angry'] = feelingCount['angry'] + 1\n",
    "            elif words == 'sick':\n",
    "                feelingCount['sick'] = feelingCount['sick'] + 1\n",
    "\n",
    "# matplotlib is used to plot user's feeling\n",
    "y_pos = np.arange(len(feelingCount.keys()))\n",
    "emotion = feelingCount.values()\n",
    "\n",
    "plt.barh(y_pos, emotion, align='center', alpha=0.4)\n",
    "plt.yticks(y_pos, feelingCount.keys())\n",
    "plt.xlabel('Emotion level')\n",
    "plt.title('Analyzing @' + sys.argv[1] + '\\'s feeling from ' + str(numberOfTweet) + ' recent tweets')\n",
    "\n",
    "# Show the plotted feeling\n",
    "plt.show()"
   ]
  },
  {
   "cell_type": "code",
   "execution_count": null,
   "metadata": {
    "collapsed": false
   },
   "outputs": [],
   "source": []
  }
 ],
 "metadata": {
  "kernelspec": {
   "display_name": "Python 2",
   "language": "python",
   "name": "python2"
  },
  "language_info": {
   "codemirror_mode": {
    "name": "ipython",
    "version": 2
   },
   "file_extension": ".py",
   "mimetype": "text/x-python",
   "name": "python",
   "nbconvert_exporter": "python",
   "pygments_lexer": "ipython2",
   "version": "2.7.8"
  }
 },
 "nbformat": 4,
 "nbformat_minor": 0
}
