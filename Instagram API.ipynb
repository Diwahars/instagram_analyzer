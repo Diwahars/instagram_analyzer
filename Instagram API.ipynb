{
 "metadata": {
  "name": "",
  "signature": "sha256:b9d381da2ced51faef1f2ea90bb3af065e477f1ed53c95c4dde7d6127b08a086"
 },
 "nbformat": 3,
 "nbformat_minor": 0,
 "worksheets": [
  {
   "cells": [
    {
     "cell_type": "code",
     "collapsed": false,
     "input": [
      "from instagram.client import InstagramAPI\n",
      "\n",
      "\n",
      "api = InstagramAPI(access_token=access_token)\n",
      "recent_media, next_ = api.user_recent_media(user_id=\"userid\", count=10)\n",
      "for media in recent_media:\n",
      "   print media.caption.text"
     ],
     "language": "python",
     "metadata": {},
     "outputs": []
    },
    {
     "cell_type": "code",
     "collapsed": false,
     "input": [
      "\n",
      "\n",
      "api = InstagramAPI(client_id=client_id, client_secret=secret)\n",
      "popular_media = api.media_popular(count=20)\n",
      "#for media in popular_media:\n",
      "    #print media.comment_count, media.comments"
     ],
     "language": "python",
     "metadata": {},
     "outputs": [],
     "prompt_number": 9
    },
    {
     "cell_type": "code",
     "collapsed": false,
     "input": [
      "#when you query for a specific hashtag (e.g. 'newyorkcity')\n",
      "#how many likes did a post get; likes\n",
      "#captions\n",
      "#tags *\n",
      "#total amount of comments\n",
      "#user\n",
      "#filter *\n",
      "#type of media *\n",
      "#time *\n",
      "#location *\n",
      "#link *"
     ],
     "language": "python",
     "metadata": {},
     "outputs": [],
     "prompt_number": 29
    },
    {
     "cell_type": "code",
     "collapsed": false,
     "input": [
      "from pandas.io.json import json_normalize\n",
      "import pandas as pd\n",
      "import requests\n",
      "import json\n",
      "\n",
      "client_id = '768fcf1f36c94eb08506bae0a9caffa3'\n",
      "secret = '54efcbaed7f64673bc93b4e28ca9e8b2'\n",
      "\n",
      "base_url = \"https://api.instagram.com/v1\"\n",
      "query = \"newyorkcity\"\n",
      "\n",
      "url = '{0}/tags/{1}/media/recent?client_id={2}&count=100'.format(base_url, query, client_id)\n",
      "\n",
      "df = json_normalize(requests.get(url).json()['data'])\n",
      "                    "
     ],
     "language": "python",
     "metadata": {},
     "outputs": [],
     "prompt_number": 8
    },
    {
     "cell_type": "code",
     "collapsed": false,
     "input": [
      "df.info()"
     ],
     "language": "python",
     "metadata": {},
     "outputs": [
      {
       "output_type": "stream",
       "stream": "stdout",
       "text": [
        "<class 'pandas.core.frame.DataFrame'>\n",
        "Int64Index: 33 entries, 0 to 32\n",
        "Data columns (total 46 columns):\n",
        "attribution                          0 non-null object\n",
        "caption.created_time                 33 non-null object\n",
        "caption.from.full_name               33 non-null object\n",
        "caption.from.id                      33 non-null object\n",
        "caption.from.profile_picture         33 non-null object\n",
        "caption.from.username                33 non-null object\n",
        "caption.id                           33 non-null object\n",
        "caption.text                         33 non-null object\n",
        "comments.count                       33 non-null int64\n",
        "comments.data                        33 non-null object\n",
        "created_time                         33 non-null object\n",
        "filter                               33 non-null object\n",
        "id                                   33 non-null object\n",
        "images.low_resolution.height         33 non-null int64\n",
        "images.low_resolution.url            33 non-null object\n",
        "images.low_resolution.width          33 non-null int64\n",
        "images.standard_resolution.height    33 non-null int64\n",
        "images.standard_resolution.url       33 non-null object\n",
        "images.standard_resolution.width     33 non-null int64\n",
        "images.thumbnail.height              33 non-null int64\n",
        "images.thumbnail.url                 33 non-null object\n",
        "images.thumbnail.width               33 non-null int64\n",
        "likes.count                          33 non-null int64\n",
        "likes.data                           33 non-null object\n",
        "link                                 33 non-null object\n",
        "location                             0 non-null float64\n",
        "location.id                          6 non-null float64\n",
        "location.latitude                    14 non-null float64\n",
        "location.longitude                   14 non-null float64\n",
        "location.name                        5 non-null object\n",
        "tags                                 33 non-null object\n",
        "type                                 33 non-null object\n",
        "user.full_name                       33 non-null object\n",
        "user.id                              33 non-null object\n",
        "user.profile_picture                 33 non-null object\n",
        "user.username                        33 non-null object\n",
        "users_in_photo                       33 non-null object\n",
        "videos.low_bandwidth.height          3 non-null float64\n",
        "videos.low_bandwidth.url             3 non-null object\n",
        "videos.low_bandwidth.width           3 non-null float64\n",
        "videos.low_resolution.height         3 non-null float64\n",
        "videos.low_resolution.url            3 non-null object\n",
        "videos.low_resolution.width          3 non-null float64\n",
        "videos.standard_resolution.height    3 non-null float64\n",
        "videos.standard_resolution.url       3 non-null object\n",
        "videos.standard_resolution.width     3 non-null float64\n",
        "dtypes: float64(10), int64(8), object(28)\n",
        "memory usage: 12.1+ KB\n"
       ]
      }
     ],
     "prompt_number": 9
    },
    {
     "cell_type": "code",
     "collapsed": false,
     "input": [
      "\n",
      "ls= []\n",
      "for x in df['comments.data']:\n",
      "    print x['text']"
     ],
     "language": "python",
     "metadata": {},
     "outputs": [
      {
       "ename": "TypeError",
       "evalue": "list indices must be integers, not str",
       "output_type": "pyerr",
       "traceback": [
        "\u001b[0;31m---------------------------------------------------------------------------\u001b[0m\n\u001b[0;31mTypeError\u001b[0m                                 Traceback (most recent call last)",
        "\u001b[0;32m<ipython-input-29-7f7ed52bea64>\u001b[0m in \u001b[0;36m<module>\u001b[0;34m()\u001b[0m\n\u001b[1;32m      2\u001b[0m \u001b[0mls\u001b[0m\u001b[0;34m=\u001b[0m \u001b[0;34m[\u001b[0m\u001b[0;34m]\u001b[0m\u001b[0;34m\u001b[0m\u001b[0m\n\u001b[1;32m      3\u001b[0m \u001b[0;32mfor\u001b[0m \u001b[0mx\u001b[0m \u001b[0;32min\u001b[0m \u001b[0mdf\u001b[0m\u001b[0;34m[\u001b[0m\u001b[0;34m'comments.data'\u001b[0m\u001b[0;34m]\u001b[0m\u001b[0;34m:\u001b[0m\u001b[0;34m\u001b[0m\u001b[0m\n\u001b[0;32m----> 4\u001b[0;31m     \u001b[0;32mprint\u001b[0m \u001b[0mx\u001b[0m\u001b[0;34m[\u001b[0m\u001b[0;34m'text'\u001b[0m\u001b[0;34m]\u001b[0m\u001b[0;34m\u001b[0m\u001b[0m\n\u001b[0m",
        "\u001b[0;31mTypeError\u001b[0m: list indices must be integers, not str"
       ]
      }
     ],
     "prompt_number": 29
    },
    {
     "cell_type": "code",
     "collapsed": false,
     "input": [
      "[x['created_time'] for x in df['comments.data']]"
     ],
     "language": "python",
     "metadata": {},
     "outputs": [
      {
       "ename": "TypeError",
       "evalue": "list indices must be integers, not str",
       "output_type": "pyerr",
       "traceback": [
        "\u001b[0;31m---------------------------------------------------------------------------\u001b[0m\n\u001b[0;31mTypeError\u001b[0m                                 Traceback (most recent call last)",
        "\u001b[0;32m<ipython-input-17-194f811bc69f>\u001b[0m in \u001b[0;36m<module>\u001b[0;34m()\u001b[0m\n\u001b[0;32m----> 1\u001b[0;31m \u001b[0;34m[\u001b[0m\u001b[0mx\u001b[0m\u001b[0;34m[\u001b[0m\u001b[0;34m'created_time'\u001b[0m\u001b[0;34m]\u001b[0m \u001b[0;32mfor\u001b[0m \u001b[0mx\u001b[0m \u001b[0;32min\u001b[0m \u001b[0mdf\u001b[0m\u001b[0;34m[\u001b[0m\u001b[0;34m'comments.data'\u001b[0m\u001b[0;34m]\u001b[0m\u001b[0;34m]\u001b[0m\u001b[0;34m\u001b[0m\u001b[0m\n\u001b[0m",
        "\u001b[0;31mTypeError\u001b[0m: list indices must be integers, not str"
       ]
      }
     ],
     "prompt_number": 17
    },
    {
     "cell_type": "code",
     "collapsed": false,
     "input": [
      "df['comments.data'][16]"
     ],
     "language": "python",
     "metadata": {},
     "outputs": [
      {
       "metadata": {},
       "output_type": "pyout",
       "prompt_number": 14,
       "text": [
        "[{u'created_time': u'1430337030',\n",
        "  u'from': {u'full_name': u'\\U0001f30c\\U0001f320',\n",
        "   u'id': u'1621568537',\n",
        "   u'profile_picture': u'https://igcdn-photos-e-a.akamaihd.net/hphotos-ak-xaf1/t51.2885-19/11098341_1379906242308996_322194813_a.jpg',\n",
        "   u'username': u'sereneeplanet'},\n",
        "  u'id': u'974060067298429592',\n",
        "  u'text': u'.\\n.\\n.\\n.\\n.\\n#tumblrquotes #tumblrgoals #tumblr #photography #tumblrlife #tumblrpics #cutetumblr #cool #places #travel #lifestyle  #newyorkcity #likesforlikes #followforfollow #likeforlike #popart #peopleart #tagsforlikes  #tagfortag #followme #like #followtrain #audreyhepburn #hepburnie #hepburn #audrey #instafollow #instagain'}]"
       ]
      }
     ],
     "prompt_number": 14
    },
    {
     "cell_type": "code",
     "collapsed": false,
     "input": [
      "df = df[['user.username','caption.text','tags','comments.count','likes.count','comments.data','filter','type','created_time','user.full_name','user.id','link','location.latitude','location.longitude']]"
     ],
     "language": "python",
     "metadata": {},
     "outputs": [],
     "prompt_number": 31
    },
    {
     "cell_type": "code",
     "collapsed": false,
     "input": [
      "df.rename(columns={'user.username':'user_name',\n",
      "                   'caption.text':'caption_text',\n",
      "                   'tags':'hashtags',\n",
      "                   'comments.count':'comments_count',\n",
      "                   'likes.count':'likes_count',\n",
      "                   'filter':'filter',\n",
      "                   'created_time':'created_time',\n",
      "                   'user.full_name':'full_name',\n",
      "                   'user.id':'user_id',\n",
      "                   'type':'type',\n",
      "                   'link':'link',\n",
      "                   'location.latitude':'latitude',\n",
      "                   'location.longitude':'longitude',\n",
      "                   'comments.data':'comments_data'},\n",
      "          inplace=True)\n"
     ],
     "language": "python",
     "metadata": {},
     "outputs": [
      {
       "output_type": "stream",
       "stream": "stderr",
       "text": [
        "/Users/olehdubno/anaconda/lib/python2.7/site-packages/pandas/core/frame.py:2417: SettingWithCopyWarning: \n",
        "A value is trying to be set on a copy of a slice from a DataFrame\n",
        "\n",
        "See the the caveats in the documentation: http://pandas.pydata.org/pandas-docs/stable/indexing.html#indexing-view-versus-copy\n",
        "  **kwargs)\n"
       ]
      }
     ],
     "prompt_number": 33
    },
    {
     "cell_type": "code",
     "collapsed": false,
     "input": [
      "df.comments_data"
     ],
     "language": "python",
     "metadata": {},
     "outputs": [
      {
       "metadata": {},
       "output_type": "pyout",
       "prompt_number": 53,
       "text": [
        "0                                                  [{}]\n",
        "1                                                  [{}]\n",
        "2                                                  [{}]\n",
        "3                                                  [{}]\n",
        "4                                                  [{}]\n",
        "5                                                  [{}]\n",
        "6                                                  [{}]\n",
        "7                                                  [{}]\n",
        "8                                                  [{}]\n",
        "9                                                  [{}]\n",
        "10                                                 [{}]\n",
        "11                                                 [{}]\n",
        "12                                                 [{}]\n",
        "13                                                 [{}]\n",
        "14                                                 [{}]\n",
        "15                                                 [{}]\n",
        "16    [{u'created_time': u'1430337030', u'text': u'....\n",
        "17                                                 [{}]\n",
        "18    [{u'created_time': u'1430337088', u'text': u'#...\n",
        "19                                                 [{}]\n",
        "20    [{u'created_time': u'1430337015', u'text': u'5...\n",
        "21                                                 [{}]\n",
        "22                                                 [{}]\n",
        "23                                                 [{}]\n",
        "24                                                 [{}]\n",
        "25                                                 [{}]\n",
        "26                                                 [{}]\n",
        "27                                                 [{}]\n",
        "28                                                 [{}]\n",
        "29                                                 [{}]\n",
        "30                                                 [{}]\n",
        "31                                                 [{}]\n",
        "32                                                 [{}]\n",
        "Name: comments_data, dtype: object"
       ]
      }
     ],
     "prompt_number": 53
    },
    {
     "cell_type": "code",
     "collapsed": false,
     "input": [],
     "language": "python",
     "metadata": {},
     "outputs": [
      {
       "ename": "TypeError",
       "evalue": "list indices must be integers, not str",
       "output_type": "pyerr",
       "traceback": [
        "\u001b[0;31m---------------------------------------------------------------------------\u001b[0m\n\u001b[0;31mTypeError\u001b[0m                                 Traceback (most recent call last)",
        "\u001b[0;32m<ipython-input-51-196a4f0c4e11>\u001b[0m in \u001b[0;36m<module>\u001b[0;34m()\u001b[0m\n\u001b[0;32m----> 1\u001b[0;31m \u001b[0mls\u001b[0m\u001b[0;34m[\u001b[0m\u001b[0;34m'created_time'\u001b[0m\u001b[0;34m]\u001b[0m\u001b[0;34m\u001b[0m\u001b[0m\n\u001b[0m",
        "\u001b[0;31mTypeError\u001b[0m: list indices must be integers, not str"
       ]
      }
     ],
     "prompt_number": 51
    },
    {
     "cell_type": "code",
     "collapsed": false,
     "input": [
      "import pandas as pd\n",
      "import requests\n",
      "import json\n",
      "import matplotlib.pyplot as plt\n",
      "\n",
      "\n",
      "from pandas.io.json import json_normalize\n",
      "\n",
      "%matplotlib inline\n",
      "\n",
      "\n",
      "def instagramscraper(query):\n",
      "    \n",
      "    client_id = '768fcf1f36c94eb08506bae0a9caffa3'\n",
      "    secret = '54efcbaed7f64673bc93b4e28ca9e8b2'\n",
      "    base_url = \"https://api.instagram.com/v1\"\n",
      "\n",
      "    url = '{0}/tags/{1}/media/recent?client_id={2}&count=20'.format(base_url, query, client_id)\n",
      "\n",
      "    df = json_normalize(requests.get(url).json()['data'])\n",
      "    \n",
      "    df = df[['user.username','caption.text','tags','comments.count','likes.count',\n",
      "             'filter','type','created_time','user.full_name','user.id','link','location.latitude',\n",
      "             'location.longitude']]\n",
      "    \n",
      "    df.rename(columns={'user.username':'user_name',\n",
      "                   'caption.text':'caption_text',\n",
      "                   'tags':'hashtags',\n",
      "                   'comments.count':'comments_count',\n",
      "                   'likes.count':'likes_count',\n",
      "                   'filter':'filter',\n",
      "                   'created_time':'created_time',\n",
      "                   'user.full_name':'full_name',\n",
      "                   'user.id':'user_id',\n",
      "                   'type':'type',\n",
      "                   'link':'link',\n",
      "                   'location.latitude':'latitude',\n",
      "                   'location.longitude':'longitude'},\n",
      "          inplace=True)\n",
      "    \n",
      "    return df\n",
      "    "
     ],
     "language": "python",
     "metadata": {},
     "outputs": [],
     "prompt_number": 8
    },
    {
     "cell_type": "code",
     "collapsed": false,
     "input": [
      "df = instagramscraper('newyorkcity')"
     ],
     "language": "python",
     "metadata": {},
     "outputs": [],
     "prompt_number": 9
    },
    {
     "cell_type": "code",
     "collapsed": false,
     "input": [
      "#df.to_csv('thombrowne.csv',encoding='utf-8')"
     ],
     "language": "python",
     "metadata": {},
     "outputs": [],
     "prompt_number": 18
    },
    {
     "cell_type": "code",
     "collapsed": false,
     "input": [
      "df.head()"
     ],
     "language": "python",
     "metadata": {},
     "outputs": [
      {
       "html": [
        "<div style=\"max-height:1000px;max-width:1500px;overflow:auto;\">\n",
        "<table border=\"1\" class=\"dataframe\">\n",
        "  <thead>\n",
        "    <tr style=\"text-align: right;\">\n",
        "      <th></th>\n",
        "      <th>user_name</th>\n",
        "      <th>caption_text</th>\n",
        "      <th>hashtags</th>\n",
        "      <th>comments_count</th>\n",
        "      <th>likes_count</th>\n",
        "      <th>filter</th>\n",
        "      <th>type</th>\n",
        "      <th>created_time</th>\n",
        "      <th>full_name</th>\n",
        "      <th>user_id</th>\n",
        "      <th>link</th>\n",
        "      <th>latitude</th>\n",
        "      <th>longitude</th>\n",
        "    </tr>\n",
        "  </thead>\n",
        "  <tbody>\n",
        "    <tr>\n",
        "      <th>0</th>\n",
        "      <td>kennygeeism</td>\n",
        "      <td>#OgEveryThingBeforeItWasTrendy\\n#kennygeeism\\n...</td>\n",
        "      <td>[pentax, newyorkcity, filmphotography, photo, ...</td>\n",
        "      <td>0</td>\n",
        "      <td>0</td>\n",
        "      <td>Normal</td>\n",
        "      <td>image</td>\n",
        "      <td>1430855720</td>\n",
        "      <td>Photography Love</td>\n",
        "      <td>225183825</td>\n",
        "      <td>https://instagram.com/p/2UA8L4O8g8/</td>\n",
        "      <td>NaN</td>\n",
        "      <td>NaN</td>\n",
        "    </tr>\n",
        "    <tr>\n",
        "      <th>1</th>\n",
        "      <td>fspa78</td>\n",
        "      <td>#nyc #newyork #newyorkcity #statigram #art #fr...</td>\n",
        "      <td>[picstitch, art, newyorkcity, nature, newyork,...</td>\n",
        "      <td>0</td>\n",
        "      <td>2</td>\n",
        "      <td>Normal</td>\n",
        "      <td>image</td>\n",
        "      <td>1430855717</td>\n",
        "      <td></td>\n",
        "      <td>505169837</td>\n",
        "      <td>https://instagram.com/p/2UA7yay5ih/</td>\n",
        "      <td>NaN</td>\n",
        "      <td>NaN</td>\n",
        "    </tr>\n",
        "    <tr>\n",
        "      <th>2</th>\n",
        "      <td>rickrossetti1</td>\n",
        "      <td>#f4f #followers #followall #followingback #fol...</td>\n",
        "      <td>[beautiful, pakistan, europe, losangeles, love...</td>\n",
        "      <td>0</td>\n",
        "      <td>3</td>\n",
        "      <td>Normal</td>\n",
        "      <td>image</td>\n",
        "      <td>1430855712</td>\n",
        "      <td>Rick Rossetti</td>\n",
        "      <td>1770101242</td>\n",
        "      <td>https://instagram.com/p/2UA7NVk28o/</td>\n",
        "      <td>NaN</td>\n",
        "      <td>NaN</td>\n",
        "    </tr>\n",
        "    <tr>\n",
        "      <th>3</th>\n",
        "      <td>archerplaceportraits</td>\n",
        "      <td>Central Park My Morning Walk To Work - 5 May 2...</td>\n",
        "      <td>[centralparkmorningwalk, archerplaceportraits,...</td>\n",
        "      <td>0</td>\n",
        "      <td>0</td>\n",
        "      <td>Normal</td>\n",
        "      <td>image</td>\n",
        "      <td>1430855707</td>\n",
        "      <td>Archer Place Portraits</td>\n",
        "      <td>1652556878</td>\n",
        "      <td>https://instagram.com/p/2UA6kOnVwz/</td>\n",
        "      <td>40.7142</td>\n",
        "      <td>-74.0064</td>\n",
        "    </tr>\n",
        "    <tr>\n",
        "      <th>4</th>\n",
        "      <td>pedromaciel_escritor</td>\n",
        "      <td>Lightning-photo/Foto-rel\u00e2mpago 83  #art#arte#a...</td>\n",
        "      <td>[europe, riodejaneiro, england, newyorkcity, p...</td>\n",
        "      <td>0</td>\n",
        "      <td>1</td>\n",
        "      <td>Lo-fi</td>\n",
        "      <td>image</td>\n",
        "      <td>1430855694</td>\n",
        "      <td>Pedro Maciel</td>\n",
        "      <td>1454269405</td>\n",
        "      <td>https://instagram.com/p/2UA5A2xNlv/</td>\n",
        "      <td>NaN</td>\n",
        "      <td>NaN</td>\n",
        "    </tr>\n",
        "  </tbody>\n",
        "</table>\n",
        "</div>"
       ],
       "metadata": {},
       "output_type": "pyout",
       "prompt_number": 3,
       "text": [
        "              user_name                                       caption_text  \\\n",
        "0           kennygeeism  #OgEveryThingBeforeItWasTrendy\\n#kennygeeism\\n...   \n",
        "1                fspa78  #nyc #newyork #newyorkcity #statigram #art #fr...   \n",
        "2         rickrossetti1  #f4f #followers #followall #followingback #fol...   \n",
        "3  archerplaceportraits  Central Park My Morning Walk To Work - 5 May 2...   \n",
        "4  pedromaciel_escritor  Lightning-photo/Foto-rel\u00e2mpago 83  #art#arte#a...   \n",
        "\n",
        "                                            hashtags  comments_count  \\\n",
        "0  [pentax, newyorkcity, filmphotography, photo, ...               0   \n",
        "1  [picstitch, art, newyorkcity, nature, newyork,...               0   \n",
        "2  [beautiful, pakistan, europe, losangeles, love...               0   \n",
        "3  [centralparkmorningwalk, archerplaceportraits,...               0   \n",
        "4  [europe, riodejaneiro, england, newyorkcity, p...               0   \n",
        "\n",
        "   likes_count  filter   type created_time               full_name  \\\n",
        "0            0  Normal  image   1430855720        Photography Love   \n",
        "1            2  Normal  image   1430855717                           \n",
        "2            3  Normal  image   1430855712           Rick Rossetti   \n",
        "3            0  Normal  image   1430855707  Archer Place Portraits   \n",
        "4            1   Lo-fi  image   1430855694            Pedro Maciel   \n",
        "\n",
        "      user_id                                 link  latitude  longitude  \n",
        "0   225183825  https://instagram.com/p/2UA8L4O8g8/       NaN        NaN  \n",
        "1   505169837  https://instagram.com/p/2UA7yay5ih/       NaN        NaN  \n",
        "2  1770101242  https://instagram.com/p/2UA7NVk28o/       NaN        NaN  \n",
        "3  1652556878  https://instagram.com/p/2UA6kOnVwz/   40.7142   -74.0064  \n",
        "4  1454269405  https://instagram.com/p/2UA5A2xNlv/       NaN        NaN  "
       ]
      }
     ],
     "prompt_number": 3
    },
    {
     "cell_type": "code",
     "collapsed": false,
     "input": [
      "from matplotlib.figure import Figure\n",
      "\n",
      "fig = Figure()\n",
      "plt.figure(figsize=(10,5))\n",
      "plt.hist(df['likes_count'])\n",
      "\n"
     ],
     "language": "python",
     "metadata": {},
     "outputs": [
      {
       "metadata": {},
       "output_type": "pyout",
       "prompt_number": 14,
       "text": [
        "(array([ 9.,  5.,  2.,  1.,  2.,  0.,  0.,  0.,  0.,  1.]),\n",
        " array([  0.,   3.,   6.,   9.,  12.,  15.,  18.,  21.,  24.,  27.,  30.]),\n",
        " <a list of 10 Patch objects>)"
       ]
      },
      {
       "metadata": {},
       "output_type": "display_data",
       "png": "[encoded data removed]",
       "text": [
        "<matplotlib.figure.Figure at 0x108a5f090>"
       ]
      }
     ],
     "prompt_number": 14
    },
    {
     "cell_type": "code",
     "collapsed": false,
     "input": [],
     "language": "python",
     "metadata": {},
     "outputs": []
    }
   ],
   "metadata": {}
  }
 ]
}