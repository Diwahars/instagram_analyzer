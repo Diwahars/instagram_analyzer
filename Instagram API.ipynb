{
 "metadata": {
  "name": "",
  "signature": "sha256:c2de9527e347ac137871793cb2df46d3ba9f9e01968fc243ab0adf78b062a05d"
 },
 "nbformat": 3,
 "nbformat_minor": 0,
 "worksheets": [
  {
   "cells": [
    {
     "cell_type": "code",
     "collapsed": false,
     "input": [
      "from instagram.client import InstagramAPI\n",
      "\n",
      "\n",
      "api = InstagramAPI(access_token=access_token)\n",
      "recent_media, next_ = api.user_recent_media(user_id=\"userid\", count=10)\n",
      "for media in recent_media:\n",
      "   print media.caption.text"
     ],
     "language": "python",
     "metadata": {},
     "outputs": []
    },
    {
     "cell_type": "code",
     "collapsed": false,
     "input": [
      "\n",
      "\n",
      "api = InstagramAPI(client_id=client_id, client_secret=secret)\n",
      "popular_media = api.media_popular(count=20)\n",
      "#for media in popular_media:\n",
      "    #print media.comment_count, media.comments"
     ],
     "language": "python",
     "metadata": {},
     "outputs": [],
     "prompt_number": 9
    },
    {
     "cell_type": "code",
     "collapsed": false,
     "input": [
      "#when you query for a specific hashtag (e.g. 'newyorkcity')\n",
      "#how many likes did a post get; likes\n",
      "#captions\n",
      "#tags *\n",
      "#total amount of comments\n",
      "#user\n",
      "#filter *\n",
      "#type of media *\n",
      "#time *\n",
      "#location *\n",
      "#link *"
     ],
     "language": "python",
     "metadata": {},
     "outputs": [],
     "prompt_number": 29
    },
    {
     "cell_type": "code",
     "collapsed": false,
     "input": [
      "from pandas.io.json import json_normalize\n",
      "import pandas as pd\n",
      "import requests\n",
      "import json\n",
      "\n",
      "client_id = '768fcf1f36c94eb08506bae0a9caffa3'\n",
      "secret = '54efcbaed7f64673bc93b4e28ca9e8b2'\n",
      "\n",
      "base_url = \"https://api.instagram.com/v1\"\n",
      "query = \"newyorkcity\"\n",
      "\n",
      "url = '{0}/tags/{1}/media/recent?client_id={2}&count=100'.format(base_url, query, client_id)\n",
      "\n",
      "df = json_normalize(requests.get(url).json()['data'])\n",
      "                    "
     ],
     "language": "python",
     "metadata": {},
     "outputs": [],
     "prompt_number": 8
    },
    {
     "cell_type": "code",
     "collapsed": false,
     "input": [
      "df.info()"
     ],
     "language": "python",
     "metadata": {},
     "outputs": [
      {
       "output_type": "stream",
       "stream": "stdout",
       "text": [
        "<class 'pandas.core.frame.DataFrame'>\n",
        "Int64Index: 33 entries, 0 to 32\n",
        "Data columns (total 46 columns):\n",
        "attribution                          0 non-null object\n",
        "caption.created_time                 33 non-null object\n",
        "caption.from.full_name               33 non-null object\n",
        "caption.from.id                      33 non-null object\n",
        "caption.from.profile_picture         33 non-null object\n",
        "caption.from.username                33 non-null object\n",
        "caption.id                           33 non-null object\n",
        "caption.text                         33 non-null object\n",
        "comments.count                       33 non-null int64\n",
        "comments.data                        33 non-null object\n",
        "created_time                         33 non-null object\n",
        "filter                               33 non-null object\n",
        "id                                   33 non-null object\n",
        "images.low_resolution.height         33 non-null int64\n",
        "images.low_resolution.url            33 non-null object\n",
        "images.low_resolution.width          33 non-null int64\n",
        "images.standard_resolution.height    33 non-null int64\n",
        "images.standard_resolution.url       33 non-null object\n",
        "images.standard_resolution.width     33 non-null int64\n",
        "images.thumbnail.height              33 non-null int64\n",
        "images.thumbnail.url                 33 non-null object\n",
        "images.thumbnail.width               33 non-null int64\n",
        "likes.count                          33 non-null int64\n",
        "likes.data                           33 non-null object\n",
        "link                                 33 non-null object\n",
        "location                             0 non-null float64\n",
        "location.id                          6 non-null float64\n",
        "location.latitude                    14 non-null float64\n",
        "location.longitude                   14 non-null float64\n",
        "location.name                        5 non-null object\n",
        "tags                                 33 non-null object\n",
        "type                                 33 non-null object\n",
        "user.full_name                       33 non-null object\n",
        "user.id                              33 non-null object\n",
        "user.profile_picture                 33 non-null object\n",
        "user.username                        33 non-null object\n",
        "users_in_photo                       33 non-null object\n",
        "videos.low_bandwidth.height          3 non-null float64\n",
        "videos.low_bandwidth.url             3 non-null object\n",
        "videos.low_bandwidth.width           3 non-null float64\n",
        "videos.low_resolution.height         3 non-null float64\n",
        "videos.low_resolution.url            3 non-null object\n",
        "videos.low_resolution.width          3 non-null float64\n",
        "videos.standard_resolution.height    3 non-null float64\n",
        "videos.standard_resolution.url       3 non-null object\n",
        "videos.standard_resolution.width     3 non-null float64\n",
        "dtypes: float64(10), int64(8), object(28)\n",
        "memory usage: 12.1+ KB\n"
       ]
      }
     ],
     "prompt_number": 9
    },
    {
     "cell_type": "code",
     "collapsed": false,
     "input": [
      "\n",
      "ls= []\n",
      "for x in df['comments.data']:\n",
      "    print x['text']"
     ],
     "language": "python",
     "metadata": {},
     "outputs": [
      {
       "ename": "TypeError",
       "evalue": "list indices must be integers, not str",
       "output_type": "pyerr",
       "traceback": [
        "\u001b[0;31m---------------------------------------------------------------------------\u001b[0m\n\u001b[0;31mTypeError\u001b[0m                                 Traceback (most recent call last)",
        "\u001b[0;32m<ipython-input-29-7f7ed52bea64>\u001b[0m in \u001b[0;36m<module>\u001b[0;34m()\u001b[0m\n\u001b[1;32m      2\u001b[0m \u001b[0mls\u001b[0m\u001b[0;34m=\u001b[0m \u001b[0;34m[\u001b[0m\u001b[0;34m]\u001b[0m\u001b[0;34m\u001b[0m\u001b[0m\n\u001b[1;32m      3\u001b[0m \u001b[0;32mfor\u001b[0m \u001b[0mx\u001b[0m \u001b[0;32min\u001b[0m \u001b[0mdf\u001b[0m\u001b[0;34m[\u001b[0m\u001b[0;34m'comments.data'\u001b[0m\u001b[0;34m]\u001b[0m\u001b[0;34m:\u001b[0m\u001b[0;34m\u001b[0m\u001b[0m\n\u001b[0;32m----> 4\u001b[0;31m     \u001b[0;32mprint\u001b[0m \u001b[0mx\u001b[0m\u001b[0;34m[\u001b[0m\u001b[0;34m'text'\u001b[0m\u001b[0;34m]\u001b[0m\u001b[0;34m\u001b[0m\u001b[0m\n\u001b[0m",
        "\u001b[0;31mTypeError\u001b[0m: list indices must be integers, not str"
       ]
      }
     ],
     "prompt_number": 29
    },
    {
     "cell_type": "code",
     "collapsed": false,
     "input": [
      "[x['created_time'] for x in df['comments.data']]"
     ],
     "language": "python",
     "metadata": {},
     "outputs": [
      {
       "ename": "TypeError",
       "evalue": "list indices must be integers, not str",
       "output_type": "pyerr",
       "traceback": [
        "\u001b[0;31m---------------------------------------------------------------------------\u001b[0m\n\u001b[0;31mTypeError\u001b[0m                                 Traceback (most recent call last)",
        "\u001b[0;32m<ipython-input-17-194f811bc69f>\u001b[0m in \u001b[0;36m<module>\u001b[0;34m()\u001b[0m\n\u001b[0;32m----> 1\u001b[0;31m \u001b[0;34m[\u001b[0m\u001b[0mx\u001b[0m\u001b[0;34m[\u001b[0m\u001b[0;34m'created_time'\u001b[0m\u001b[0;34m]\u001b[0m \u001b[0;32mfor\u001b[0m \u001b[0mx\u001b[0m \u001b[0;32min\u001b[0m \u001b[0mdf\u001b[0m\u001b[0;34m[\u001b[0m\u001b[0;34m'comments.data'\u001b[0m\u001b[0;34m]\u001b[0m\u001b[0;34m]\u001b[0m\u001b[0;34m\u001b[0m\u001b[0m\n\u001b[0m",
        "\u001b[0;31mTypeError\u001b[0m: list indices must be integers, not str"
       ]
      }
     ],
     "prompt_number": 17
    },
    {
     "cell_type": "code",
     "collapsed": false,
     "input": [
      "df['comments.data'][16]"
     ],
     "language": "python",
     "metadata": {},
     "outputs": [
      {
       "metadata": {},
       "output_type": "pyout",
       "prompt_number": 14,
       "text": [
        "[{u'created_time': u'1430337030',\n",
        "  u'from': {u'full_name': u'\\U0001f30c\\U0001f320',\n",
        "   u'id': u'1621568537',\n",
        "   u'profile_picture': u'https://igcdn-photos-e-a.akamaihd.net/hphotos-ak-xaf1/t51.2885-19/11098341_1379906242308996_322194813_a.jpg',\n",
        "   u'username': u'sereneeplanet'},\n",
        "  u'id': u'974060067298429592',\n",
        "  u'text': u'.\\n.\\n.\\n.\\n.\\n#tumblrquotes #tumblrgoals #tumblr #photography #tumblrlife #tumblrpics #cutetumblr #cool #places #travel #lifestyle  #newyorkcity #likesforlikes #followforfollow #likeforlike #popart #peopleart #tagsforlikes  #tagfortag #followme #like #followtrain #audreyhepburn #hepburnie #hepburn #audrey #instafollow #instagain'}]"
       ]
      }
     ],
     "prompt_number": 14
    },
    {
     "cell_type": "code",
     "collapsed": false,
     "input": [
      "df = df[['user.username','caption.text','tags','comments.count','likes.count','comments.data','filter','type','created_time','user.full_name','user.id','link','location.latitude','location.longitude']]"
     ],
     "language": "python",
     "metadata": {},
     "outputs": [],
     "prompt_number": 31
    },
    {
     "cell_type": "code",
     "collapsed": false,
     "input": [
      "df.rename(columns={'user.username':'user_name',\n",
      "                   'caption.text':'caption_text',\n",
      "                   'tags':'hashtags',\n",
      "                   'comments.count':'comments_count',\n",
      "                   'likes.count':'likes_count',\n",
      "                   'filter':'filter',\n",
      "                   'created_time':'created_time',\n",
      "                   'user.full_name':'full_name',\n",
      "                   'user.id':'user_id',\n",
      "                   'type':'type',\n",
      "                   'link':'link',\n",
      "                   'location.latitude':'latitude',\n",
      "                   'location.longitude':'longitude',\n",
      "                   'comments.data':'comments_data'},\n",
      "          inplace=True)\n"
     ],
     "language": "python",
     "metadata": {},
     "outputs": [
      {
       "output_type": "stream",
       "stream": "stderr",
       "text": [
        "/Users/olehdubno/anaconda/lib/python2.7/site-packages/pandas/core/frame.py:2417: SettingWithCopyWarning: \n",
        "A value is trying to be set on a copy of a slice from a DataFrame\n",
        "\n",
        "See the the caveats in the documentation: http://pandas.pydata.org/pandas-docs/stable/indexing.html#indexing-view-versus-copy\n",
        "  **kwargs)\n"
       ]
      }
     ],
     "prompt_number": 33
    },
    {
     "cell_type": "code",
     "collapsed": false,
     "input": [
      "df.comments_data"
     ],
     "language": "python",
     "metadata": {},
     "outputs": [
      {
       "metadata": {},
       "output_type": "pyout",
       "prompt_number": 53,
       "text": [
        "0                                                  [{}]\n",
        "1                                                  [{}]\n",
        "2                                                  [{}]\n",
        "3                                                  [{}]\n",
        "4                                                  [{}]\n",
        "5                                                  [{}]\n",
        "6                                                  [{}]\n",
        "7                                                  [{}]\n",
        "8                                                  [{}]\n",
        "9                                                  [{}]\n",
        "10                                                 [{}]\n",
        "11                                                 [{}]\n",
        "12                                                 [{}]\n",
        "13                                                 [{}]\n",
        "14                                                 [{}]\n",
        "15                                                 [{}]\n",
        "16    [{u'created_time': u'1430337030', u'text': u'....\n",
        "17                                                 [{}]\n",
        "18    [{u'created_time': u'1430337088', u'text': u'#...\n",
        "19                                                 [{}]\n",
        "20    [{u'created_time': u'1430337015', u'text': u'5...\n",
        "21                                                 [{}]\n",
        "22                                                 [{}]\n",
        "23                                                 [{}]\n",
        "24                                                 [{}]\n",
        "25                                                 [{}]\n",
        "26                                                 [{}]\n",
        "27                                                 [{}]\n",
        "28                                                 [{}]\n",
        "29                                                 [{}]\n",
        "30                                                 [{}]\n",
        "31                                                 [{}]\n",
        "32                                                 [{}]\n",
        "Name: comments_data, dtype: object"
       ]
      }
     ],
     "prompt_number": 53
    },
    {
     "cell_type": "code",
     "collapsed": false,
     "input": [],
     "language": "python",
     "metadata": {},
     "outputs": [
      {
       "ename": "TypeError",
       "evalue": "list indices must be integers, not str",
       "output_type": "pyerr",
       "traceback": [
        "\u001b[0;31m---------------------------------------------------------------------------\u001b[0m\n\u001b[0;31mTypeError\u001b[0m                                 Traceback (most recent call last)",
        "\u001b[0;32m<ipython-input-51-196a4f0c4e11>\u001b[0m in \u001b[0;36m<module>\u001b[0;34m()\u001b[0m\n\u001b[0;32m----> 1\u001b[0;31m \u001b[0mls\u001b[0m\u001b[0;34m[\u001b[0m\u001b[0;34m'created_time'\u001b[0m\u001b[0;34m]\u001b[0m\u001b[0;34m\u001b[0m\u001b[0m\n\u001b[0m",
        "\u001b[0;31mTypeError\u001b[0m: list indices must be integers, not str"
       ]
      }
     ],
     "prompt_number": 51
    },
    {
     "cell_type": "code",
     "collapsed": false,
     "input": [
      "import pandas as pd\n",
      "import requests\n",
      "import json\n",
      "import matplotlib.pyplot as plt\n",
      "\n",
      "\n",
      "from pandas.io.json import json_normalize\n",
      "\n",
      "%matplotlib inline\n",
      "\n",
      "\n",
      "def instagramscraper(query):\n",
      "    \n",
      "    client_id = '768fcf1f36c94eb08506bae0a9caffa3'\n",
      "    secret = '54efcbaed7f64673bc93b4e28ca9e8b2'\n",
      "    base_url = \"https://api.instagram.com/v1\"\n",
      "\n",
      "    url = '{0}/tags/{1}/media/recent?client_id={2}&count=20'.format(base_url, query, client_id)\n",
      "\n",
      "    df = json_normalize(requests.get(url).json()['data'])\n",
      "    \n",
      "    df = df[['user.username','caption.text','tags','comments.count','likes.count',\n",
      "             'filter','type','created_time','user.full_name','user.id','link','location.latitude',\n",
      "             'location.longitude']]\n",
      "    \n",
      "    df.rename(columns={'user.username':'user_name',\n",
      "                   'caption.text':'caption_text',\n",
      "                   'tags':'hashtags',\n",
      "                   'comments.count':'comments_count',\n",
      "                   'likes.count':'likes_count',\n",
      "                   'filter':'filter',\n",
      "                   'created_time':'created_time',\n",
      "                   'user.full_name':'full_name',\n",
      "                   'user.id':'user_id',\n",
      "                   'type':'type',\n",
      "                   'link':'link',\n",
      "                   'location.latitude':'latitude',\n",
      "                   'location.longitude':'longitude'},\n",
      "          inplace=True)\n",
      "    \n",
      "    return df\n",
      "    "
     ],
     "language": "python",
     "metadata": {},
     "outputs": [],
     "prompt_number": 1
    },
    {
     "cell_type": "code",
     "collapsed": false,
     "input": [
      "df = instagramscraper('newyorkcity')"
     ],
     "language": "python",
     "metadata": {},
     "outputs": [
      {
       "output_type": "stream",
       "stream": "stderr",
       "text": [
        "/Users/olehdubno/Desktop/Instagram_Scraper/venv/lib/python2.7/site-packages/requests/packages/urllib3/util/ssl_.py:90: InsecurePlatformWarning: A true SSLContext object is not available. This prevents urllib3 from configuring SSL appropriately and may cause certain SSL connections to fail. For more information, see https://urllib3.readthedocs.org/en/latest/security.html#insecureplatformwarning.\n",
        "  InsecurePlatformWarning\n"
       ]
      }
     ],
     "prompt_number": 2
    },
    {
     "cell_type": "code",
     "collapsed": false,
     "input": [
      "#df.to_csv('thombrowne.csv',encoding='utf-8')"
     ],
     "language": "python",
     "metadata": {},
     "outputs": [],
     "prompt_number": 18
    },
    {
     "cell_type": "code",
     "collapsed": false,
     "input": [
      "df.head()"
     ],
     "language": "python",
     "metadata": {},
     "outputs": [
      {
       "html": [
        "<div style=\"max-height:1000px;max-width:1500px;overflow:auto;\">\n",
        "<table border=\"1\" class=\"dataframe\">\n",
        "  <thead>\n",
        "    <tr style=\"text-align: right;\">\n",
        "      <th></th>\n",
        "      <th>user_name</th>\n",
        "      <th>caption_text</th>\n",
        "      <th>hashtags</th>\n",
        "      <th>comments_count</th>\n",
        "      <th>likes_count</th>\n",
        "      <th>filter</th>\n",
        "      <th>type</th>\n",
        "      <th>created_time</th>\n",
        "      <th>full_name</th>\n",
        "      <th>user_id</th>\n",
        "      <th>link</th>\n",
        "      <th>latitude</th>\n",
        "      <th>longitude</th>\n",
        "    </tr>\n",
        "  </thead>\n",
        "  <tbody>\n",
        "    <tr>\n",
        "      <th>0</th>\n",
        "      <td>histour.ru</td>\n",
        "      <td>11 \u043c\u0430\u044f 1904 \u0433\u043e\u0434\u0430 \u0440\u043e\u0434\u0438\u043b\u0441\u044f \u0438\u0441\u043f\u0430\u043d\u0441\u043a\u0438\u0439 \u0445\u0443\u0434\u043e\u0436\u043d\u0438\u043a-\u0441\u044e...</td>\n",
        "      <td>[\u043c\u0443\u0437\u0435\u0439\u0441\u043e\u0432\u0440\u0435\u043c\u0435\u043d\u043d\u043e\u0433\u043e\u0438\u0441\u043a\u0443\u0441\u0441\u0442\u0432\u0430, \u0434\u0430\u043b\u0438, newyorkcity...</td>\n",
        "      <td>0</td>\n",
        "      <td>0</td>\n",
        "      <td>Normal</td>\n",
        "      <td>image</td>\n",
        "      <td>1431367762</td>\n",
        "      <td></td>\n",
        "      <td>1662577351</td>\n",
        "      <td>https://instagram.com/p/2jRlVnpMLf/</td>\n",
        "      <td>NaN</td>\n",
        "      <td>NaN</td>\n",
        "    </tr>\n",
        "    <tr>\n",
        "      <th>1</th>\n",
        "      <td>literarydiva</td>\n",
        "      <td>#andersoncooper #glaadawards #newyorkcity #wal...</td>\n",
        "      <td>[cnn, andersoncooper, newyorkcity, waldorfasto...</td>\n",
        "      <td>0</td>\n",
        "      <td>3</td>\n",
        "      <td>Ludwig</td>\n",
        "      <td>image</td>\n",
        "      <td>1431367739</td>\n",
        "      <td>Literary Diva Samara Riviera</td>\n",
        "      <td>224282955</td>\n",
        "      <td>https://instagram.com/p/2jRifbrjBt/</td>\n",
        "      <td>40.718420</td>\n",
        "      <td>-74.002455</td>\n",
        "    </tr>\n",
        "    <tr>\n",
        "      <th>2</th>\n",
        "      <td>4five</td>\n",
        "      <td>Almost booked for the whole week. Still got Th...</td>\n",
        "      <td>[spiritual, washingtonheights, art, newyorkcit...</td>\n",
        "      <td>1</td>\n",
        "      <td>0</td>\n",
        "      <td>Normal</td>\n",
        "      <td>image</td>\n",
        "      <td>1431367737</td>\n",
        "      <td></td>\n",
        "      <td>200355596</td>\n",
        "      <td>https://instagram.com/p/2jRiSbiVYM/</td>\n",
        "      <td>NaN</td>\n",
        "      <td>NaN</td>\n",
        "    </tr>\n",
        "    <tr>\n",
        "      <th>3</th>\n",
        "      <td>elwie</td>\n",
        "      <td>I woke up this morning determined to get a gre...</td>\n",
        "      <td>[body, nutrition, motivation, love, newyorkcit...</td>\n",
        "      <td>1</td>\n",
        "      <td>3</td>\n",
        "      <td>Normal</td>\n",
        "      <td>image</td>\n",
        "      <td>1431367735</td>\n",
        "      <td>Elwie</td>\n",
        "      <td>1224948</td>\n",
        "      <td>https://instagram.com/p/2jRh-HTVb_/</td>\n",
        "      <td>42.015846</td>\n",
        "      <td>-91.634111</td>\n",
        "    </tr>\n",
        "    <tr>\n",
        "      <th>4</th>\n",
        "      <td>nataliakneze</td>\n",
        "      <td>#diamond#beauty#beautiful#brand#label#camera#c...</td>\n",
        "      <td>[beautiful, real, diamond, newyorkcity, figure...</td>\n",
        "      <td>0</td>\n",
        "      <td>1</td>\n",
        "      <td>Normal</td>\n",
        "      <td>image</td>\n",
        "      <td>1431367730</td>\n",
        "      <td>Natalia Kneze \ud83d\uddfd</td>\n",
        "      <td>32388168</td>\n",
        "      <td>https://instagram.com/p/2jRhetMYTA/</td>\n",
        "      <td>55.697833</td>\n",
        "      <td>12.553167</td>\n",
        "    </tr>\n",
        "  </tbody>\n",
        "</table>\n",
        "</div>"
       ],
       "metadata": {},
       "output_type": "pyout",
       "prompt_number": 3,
       "text": [
        "      user_name                                       caption_text  \\\n",
        "0    histour.ru  11 \u043c\u0430\u044f 1904 \u0433\u043e\u0434\u0430 \u0440\u043e\u0434\u0438\u043b\u0441\u044f \u0438\u0441\u043f\u0430\u043d\u0441\u043a\u0438\u0439 \u0445\u0443\u0434\u043e\u0436\u043d\u0438\u043a-\u0441\u044e...   \n",
        "1  literarydiva  #andersoncooper #glaadawards #newyorkcity #wal...   \n",
        "2         4five  Almost booked for the whole week. Still got Th...   \n",
        "3         elwie  I woke up this morning determined to get a gre...   \n",
        "4  nataliakneze  #diamond#beauty#beautiful#brand#label#camera#c...   \n",
        "\n",
        "                                            hashtags  comments_count  \\\n",
        "0  [\u043c\u0443\u0437\u0435\u0439\u0441\u043e\u0432\u0440\u0435\u043c\u0435\u043d\u043d\u043e\u0433\u043e\u0438\u0441\u043a\u0443\u0441\u0441\u0442\u0432\u0430, \u0434\u0430\u043b\u0438, newyorkcity...               0   \n",
        "1  [cnn, andersoncooper, newyorkcity, waldorfasto...               0   \n",
        "2  [spiritual, washingtonheights, art, newyorkcit...               1   \n",
        "3  [body, nutrition, motivation, love, newyorkcit...               1   \n",
        "4  [beautiful, real, diamond, newyorkcity, figure...               0   \n",
        "\n",
        "   likes_count  filter   type created_time                     full_name  \\\n",
        "0            0  Normal  image   1431367762                                 \n",
        "1            3  Ludwig  image   1431367739  Literary Diva Samara Riviera   \n",
        "2            0  Normal  image   1431367737                                 \n",
        "3            3  Normal  image   1431367735                         Elwie   \n",
        "4            1  Normal  image   1431367730              Natalia Kneze \ud83d\uddfd   \n",
        "\n",
        "      user_id                                 link   latitude  longitude  \n",
        "0  1662577351  https://instagram.com/p/2jRlVnpMLf/        NaN        NaN  \n",
        "1   224282955  https://instagram.com/p/2jRifbrjBt/  40.718420 -74.002455  \n",
        "2   200355596  https://instagram.com/p/2jRiSbiVYM/        NaN        NaN  \n",
        "3     1224948  https://instagram.com/p/2jRh-HTVb_/  42.015846 -91.634111  \n",
        "4    32388168  https://instagram.com/p/2jRhetMYTA/  55.697833  12.553167  "
       ]
      }
     ],
     "prompt_number": 3
    },
    {
     "cell_type": "code",
     "collapsed": false,
     "input": [
      "from matplotlib.figure import Figure\n",
      "\n",
      "# fig, axs = plt.subplots(1,2)\n",
      "\n",
      "# plt.hist(df['likes_count']).(ax=axs[0])\n",
      "# plt.hist(df['comments_count'])\n",
      "\n",
      "# df['likes_count'].hist(ax=axs[0])\n",
      "plt.hist(df['likes_count'])\n",
      "plt.show()\n",
      "plt.hist(df['comments_count'])\n",
      "plt.show()"
     ],
     "language": "python",
     "metadata": {},
     "outputs": [
      {
       "metadata": {},
       "output_type": "display_data",
       "png": "[encoded data removed]",
       "text": [
        "<matplotlib.figure.Figure at 0x10999f250>"
       ]
      },
      {
       "metadata": {},
       "output_type": "display_data",
       "png": "[encoded data removed]",
       "text": [
        "<matplotlib.figure.Figure at 0x109ca2c10>"
       ]
      }
     ],
     "prompt_number": 16
    },
    {
     "cell_type": "code",
     "collapsed": false,
     "input": [
      "fig = plt.figure(figsize=(10,8))\n",
      "\n",
      "ax1 = plt.subplot2grid((2,2), (0,0), colspan=3)# plots a likes_count graph\n",
      "df['likes_count'].plot(kind='bar', alpha=.55)\n",
      "\n",
      "ax2 = plt.subplot2grid((3,3), (1,0), colspan=2)\n",
      "df['comments_count'].plot(kind='bar', alpha=.55)\n",
      "fig.tight_layout()\n",
      "fig.show()"
     ],
     "language": "python",
     "metadata": {},
     "outputs": [
      {
       "metadata": {},
       "output_type": "display_data",
       "png": "[encoded data removed]",
       "text": [
        "<matplotlib.figure.Figure at 0x10e159410>"
       ]
      }
     ],
     "prompt_number": 60
    },
    {
     "cell_type": "code",
     "collapsed": false,
     "input": [
      "from matplotlib.figure import Figure\n",
      "fig = plt.figure(figsize=(18,6), dpi=1600) \n",
      "\n",
      "# lets us plot many diffrent shaped graphs together \n",
      "ax1 = plt.subplot2grid((2,3),(0,0))\n",
      "\n",
      "# plots a likes_count graph\n",
      "df['likes_count'].plot(kind='bar', alpha=.55)\n",
      "# this nicely sets the margins in matplotlib\n",
      "ax1.set_xlim(-1, 2)\n",
      "plt.title(\"Total Likes Count\")\n",
      "\n",
      "plt.subplot2grid((2,3),(1,0))\n",
      "plt.grid(b=True, which='major', axis='y') \n",
      "\n",
      "\n",
      "ax2 = plt.subplot2grid((2,3),(0,2))\n",
      "df['comments_count'].plot(kind='bar', alpha=.55)\n",
      "plt.title(\"Total Comments Count\")\n",
      "\n",
      "# formats the grid line style of our graphs  \n",
      "plt.grid(b=True, which='major', axis='y') \n",
      "ax2.set_ylim(-1, len(df.Pclass.value_counts()))\n",
      "\n",
      "plt.subplot2grid((2,3),(1,0), colspan=2)"
     ],
     "language": "python",
     "metadata": {},
     "outputs": [
      {
       "ename": "AttributeError",
       "evalue": "'DataFrame' object has no attribute 'Pclass'",
       "output_type": "pyerr",
       "traceback": [
        "\u001b[0;31m---------------------------------------------------------------------------\u001b[0m\n\u001b[0;31mAttributeError\u001b[0m                            Traceback (most recent call last)",
        "\u001b[0;32m<ipython-input-39-589af52e36c4>\u001b[0m in \u001b[0;36m<module>\u001b[0;34m()\u001b[0m\n\u001b[1;32m     21\u001b[0m \u001b[0;31m# formats the grid line style of our graphs\u001b[0m\u001b[0;34m\u001b[0m\u001b[0;34m\u001b[0m\u001b[0m\n\u001b[1;32m     22\u001b[0m \u001b[0mplt\u001b[0m\u001b[0;34m.\u001b[0m\u001b[0mgrid\u001b[0m\u001b[0;34m(\u001b[0m\u001b[0mb\u001b[0m\u001b[0;34m=\u001b[0m\u001b[0mTrue\u001b[0m\u001b[0;34m,\u001b[0m \u001b[0mwhich\u001b[0m\u001b[0;34m=\u001b[0m\u001b[0;34m'major'\u001b[0m\u001b[0;34m,\u001b[0m \u001b[0maxis\u001b[0m\u001b[0;34m=\u001b[0m\u001b[0;34m'y'\u001b[0m\u001b[0;34m)\u001b[0m\u001b[0;34m\u001b[0m\u001b[0m\n\u001b[0;32m---> 23\u001b[0;31m \u001b[0max2\u001b[0m\u001b[0;34m.\u001b[0m\u001b[0mset_ylim\u001b[0m\u001b[0;34m(\u001b[0m\u001b[0;34m-\u001b[0m\u001b[0;36m1\u001b[0m\u001b[0;34m,\u001b[0m \u001b[0mlen\u001b[0m\u001b[0;34m(\u001b[0m\u001b[0mdf\u001b[0m\u001b[0;34m.\u001b[0m\u001b[0mPclass\u001b[0m\u001b[0;34m.\u001b[0m\u001b[0mvalue_counts\u001b[0m\u001b[0;34m(\u001b[0m\u001b[0;34m)\u001b[0m\u001b[0;34m)\u001b[0m\u001b[0;34m)\u001b[0m\u001b[0;34m\u001b[0m\u001b[0m\n\u001b[0m\u001b[1;32m     24\u001b[0m \u001b[0;34m\u001b[0m\u001b[0m\n\u001b[1;32m     25\u001b[0m \u001b[0mplt\u001b[0m\u001b[0;34m.\u001b[0m\u001b[0msubplot2grid\u001b[0m\u001b[0;34m(\u001b[0m\u001b[0;34m(\u001b[0m\u001b[0;36m2\u001b[0m\u001b[0;34m,\u001b[0m\u001b[0;36m3\u001b[0m\u001b[0;34m)\u001b[0m\u001b[0;34m,\u001b[0m\u001b[0;34m(\u001b[0m\u001b[0;36m1\u001b[0m\u001b[0;34m,\u001b[0m\u001b[0;36m0\u001b[0m\u001b[0;34m)\u001b[0m\u001b[0;34m,\u001b[0m \u001b[0mcolspan\u001b[0m\u001b[0;34m=\u001b[0m\u001b[0;36m2\u001b[0m\u001b[0;34m)\u001b[0m\u001b[0;34m\u001b[0m\u001b[0m\n",
        "\u001b[0;32m/Users/olehdubno/Desktop/Instagram_Scraper/venv/lib/python2.7/site-packages/pandas/core/generic.pyc\u001b[0m in \u001b[0;36m__getattr__\u001b[0;34m(self, name)\u001b[0m\n\u001b[1;32m   1976\u001b[0m                 \u001b[0;32mreturn\u001b[0m \u001b[0mself\u001b[0m\u001b[0;34m[\u001b[0m\u001b[0mname\u001b[0m\u001b[0;34m]\u001b[0m\u001b[0;34m\u001b[0m\u001b[0m\n\u001b[1;32m   1977\u001b[0m             raise AttributeError(\"'%s' object has no attribute '%s'\" %\n\u001b[0;32m-> 1978\u001b[0;31m                                  (type(self).__name__, name))\n\u001b[0m\u001b[1;32m   1979\u001b[0m \u001b[0;34m\u001b[0m\u001b[0m\n\u001b[1;32m   1980\u001b[0m     \u001b[0;32mdef\u001b[0m \u001b[0m__setattr__\u001b[0m\u001b[0;34m(\u001b[0m\u001b[0mself\u001b[0m\u001b[0;34m,\u001b[0m \u001b[0mname\u001b[0m\u001b[0;34m,\u001b[0m \u001b[0mvalue\u001b[0m\u001b[0;34m)\u001b[0m\u001b[0;34m:\u001b[0m\u001b[0;34m\u001b[0m\u001b[0m\n",
        "\u001b[0;31mAttributeError\u001b[0m: 'DataFrame' object has no attribute 'Pclass'"
       ]
      },
      {
       "metadata": {},
       "output_type": "display_data",
       "png": "[encoded data removed]",
       "text": [
        "<matplotlib.figure.Figure at 0x10d77fb50>"
       ]
      }
     ],
     "prompt_number": 39
    },
    {
     "cell_type": "code",
     "collapsed": false,
     "input": [
      "fig = plt.figure(figsize=(8,6))\n",
      "ax1 = plt.subplot2grid((3,3), (0,0), colspan=2)\n",
      "df['comments_count'].plot(kind='bar', alpha=.55)\n",
      "plt.title(\"Total Comments Count\")\n",
      "ax2 = plt.subplot2grid((3,3), (1,0), colspan=2, rowspan=1)\n",
      "df['likes_count'].plot(kind='bar', alpha=.55)\n",
      "ax3 = plt.subplot2grid((3,3), (2,0), colspan=2, rowspan=1)\n",
      "df['likes_count'].plot(kind='bar', alpha=.55)\n",
      "\n",
      "fig.tight_layout()\n",
      "fig.show()"
     ],
     "language": "python",
     "metadata": {},
     "outputs": [
      {
       "metadata": {},
       "output_type": "display_data",
       "png": "[encoded data removed]",
       "text": [
        "<matplotlib.figure.Figure at 0x112a6ae90>"
       ]
      }
     ],
     "prompt_number": 72
    },
    {
     "cell_type": "code",
     "collapsed": false,
     "input": [
      "plt.subplot2grid?"
     ],
     "language": "python",
     "metadata": {},
     "outputs": [],
     "prompt_number": 68
    },
    {
     "cell_type": "code",
     "collapsed": false,
     "input": [],
     "language": "python",
     "metadata": {},
     "outputs": []
    }
   ],
   "metadata": {}
  }
 ]
}