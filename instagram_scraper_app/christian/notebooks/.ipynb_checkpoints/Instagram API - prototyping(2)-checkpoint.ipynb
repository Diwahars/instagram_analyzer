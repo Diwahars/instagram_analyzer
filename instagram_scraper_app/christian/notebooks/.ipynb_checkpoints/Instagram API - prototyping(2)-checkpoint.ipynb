{
 "metadata": {
  "name": "",
  "signature": "sha256:1c9a8fd3b3ed31ceb37b9977447dd232d321e1d00c0e3ba8f639eff020acb41a"
 },
 "nbformat": 3,
 "nbformat_minor": 0,
 "worksheets": [
  {
   "cells": [
    {
     "cell_type": "markdown",
     "metadata": {},
     "source": [
      "###Objective: Create a program that scrapes Instagram data for a specified keyword and returns insightful data"
     ]
    },
    {
     "cell_type": "markdown",
     "metadata": {},
     "source": [
      "1) specify keyword  \n",
      "2) touch api  \n",
      "3) return data  \n",
      "4) plot data  "
     ]
    },
    {
     "cell_type": "markdown",
     "metadata": {},
     "source": [
      "---"
     ]
    },
    {
     "cell_type": "markdown",
     "metadata": {},
     "source": [
      "#Config"
     ]
    },
    {
     "cell_type": "code",
     "collapsed": false,
     "input": [
      "print 'Instagram API Documentation:', 'https://instagram.com/developer/'\n",
      "print 'python-instagram repo:', 'https://github.com/Instagram/python-instagram/blob/master/README.md'\n",
      "print 'project repo:', 'https://github.com/odubno/instagram_scraper'"
     ],
     "language": "python",
     "metadata": {},
     "outputs": [
      {
       "output_type": "stream",
       "stream": "stdout",
       "text": [
        "Instagram API Documentation: https://instagram.com/developer/\n",
        "python-instagram repo: https://github.com/Instagram/python-instagram/blob/master/README.md\n",
        "project repo: https://github.com/odubno/instagram_scraper\n"
       ]
      }
     ],
     "prompt_number": 1
    },
    {
     "cell_type": "code",
     "collapsed": false,
     "input": [
      "from instagram.client import InstagramAPI\n",
      "import requests\n",
      "import urllib2\n",
      "import json\n",
      "import pandas as pd\n",
      "from pandas.io.json import json_normalize\n",
      "import matplotlib as mpl\n",
      "from matplotlib import pyplot as plt"
     ],
     "language": "python",
     "metadata": {},
     "outputs": [],
     "prompt_number": 2
    },
    {
     "cell_type": "code",
     "collapsed": false,
     "input": [
      "client_id = 'd4ec778deaca482085b02c8556b6c2dd'\n",
      "csecret = '201d0a1ed4c04ff08f82b96315c303bf'\n",
      "curl = 'https://github.com/c-trl'\n",
      "uri = 'https://instagram.com/developer'\n",
      "url = 'https://instagram.com/oauth/authorize/?client_id='+client_id+'&redirect_uri='+uri+'&response_type=token'\n",
      "api = InstagramAPI(client_id=client_id, client_secret=csecret)"
     ],
     "language": "python",
     "metadata": {},
     "outputs": [],
     "prompt_number": 5
    },
    {
     "cell_type": "code",
     "collapsed": false,
     "input": [
      "access = 'https://instagram.com/oauth/authorize/?client_id='+client_id+'&redirect_uri='+uri+'&response_type=token'\n",
      "print access"
     ],
     "language": "python",
     "metadata": {},
     "outputs": [
      {
       "output_type": "stream",
       "stream": "stdout",
       "text": [
        "https://instagram.com/oauth/authorize/?client_id=d4ec778deaca482085b02c8556b6c2dd&redirect_uri=https://instagram.com/developer&response_type=token\n"
       ]
      }
     ],
     "prompt_number": 7
    },
    {
     "cell_type": "code",
     "collapsed": false,
     "input": [
      "requests.get(access).url"
     ],
     "language": "python",
     "metadata": {},
     "outputs": [
      {
       "metadata": {},
       "output_type": "pyout",
       "prompt_number": 8,
       "text": [
        "u'https://instagram.com/accounts/login/?force_classic_login=&next=/oauth/authorize/%3Fclient_id%3Dd4ec778deaca482085b02c8556b6c2dd%26redirect_uri%3Dhttps%3A//instagram.com/developer%26response_type%3Dtoken'"
       ]
      }
     ],
     "prompt_number": 8
    },
    {
     "cell_type": "code",
     "collapsed": false,
     "input": [
      "token = '1265541089.d4ec778.3a455b41bc6643cbb2e0c406cfcce3ff' #copy/pasted from resulting URL after going to access above"
     ],
     "language": "python",
     "metadata": {},
     "outputs": [],
     "prompt_number": 9
    },
    {
     "cell_type": "markdown",
     "metadata": {},
     "source": [
      "---"
     ]
    },
    {
     "cell_type": "markdown",
     "metadata": {},
     "source": [
      "###Running through Instagram's API Documentation: Useful endpoints for deciding on a query"
     ]
    },
    {
     "cell_type": "markdown",
     "metadata": {},
     "source": [
      "####GET /tags/search\n",
      "Search for tags by name."
     ]
    },
    {
     "cell_type": "code",
     "collapsed": false,
     "input": [
      "#Q\tA valid tag name without a leading #. (eg. snowy, nofilter)\n",
      "#query = raw_input('enter a hashtag you would like to search: ')\n",
      "query = 'obama'"
     ],
     "language": "python",
     "metadata": {},
     "outputs": [],
     "prompt_number": 10
    },
    {
     "cell_type": "code",
     "collapsed": false,
     "input": [
      "df = json_normalize(requests.get('https://api.instagram.com/v1/tags/search?q='+query+'&access_token='+token).json()['data'])"
     ],
     "language": "python",
     "metadata": {},
     "outputs": [],
     "prompt_number": 11
    },
    {
     "cell_type": "code",
     "collapsed": false,
     "input": [
      "df.head(5).plot(kind='barh',\n",
      "        title='Top 5 Tags Containing: '+query,\n",
      "        y='media_count',\n",
      "        x='name',\n",
      "        figsize=(10,10))"
     ],
     "language": "python",
     "metadata": {},
     "outputs": [
      {
       "metadata": {},
       "output_type": "pyout",
       "prompt_number": 12,
       "text": [
        "<matplotlib.axes._subplots.AxesSubplot at 0xce0a278>"
       ]
      }
     ],
     "prompt_number": 12
    },
    {
     "cell_type": "code",
     "collapsed": false,
     "input": [
      "json_normalize(requests.get('https://api.instagram.com/v1/tags/search?q='+query+'&access_token='+token).json()['data']).head()"
     ],
     "language": "python",
     "metadata": {},
     "outputs": [
      {
       "html": [
        "<div style=\"max-height:1000px;max-width:1500px;overflow:auto;\">\n",
        "<table border=\"1\" class=\"dataframe\">\n",
        "  <thead>\n",
        "    <tr style=\"text-align: right;\">\n",
        "      <th></th>\n",
        "      <th>media_count</th>\n",
        "      <th>name</th>\n",
        "    </tr>\n",
        "  </thead>\n",
        "  <tbody>\n",
        "    <tr>\n",
        "      <th>0</th>\n",
        "      <td> 2335224</td>\n",
        "      <td>       obama</td>\n",
        "    </tr>\n",
        "    <tr>\n",
        "      <th>1</th>\n",
        "      <td>  524945</td>\n",
        "      <td>   obama2012</td>\n",
        "    </tr>\n",
        "    <tr>\n",
        "      <th>2</th>\n",
        "      <td>  123792</td>\n",
        "      <td>   obamacare</td>\n",
        "    </tr>\n",
        "    <tr>\n",
        "      <th>3</th>\n",
        "      <td>   62020</td>\n",
        "      <td> obamanation</td>\n",
        "    </tr>\n",
        "    <tr>\n",
        "      <th>4</th>\n",
        "      <td>   51489</td>\n",
        "      <td>  obamasucks</td>\n",
        "    </tr>\n",
        "  </tbody>\n",
        "</table>\n",
        "</div>"
       ],
       "metadata": {},
       "output_type": "pyout",
       "prompt_number": 13,
       "text": [
        "   media_count         name\n",
        "0      2335224        obama\n",
        "1       524945    obama2012\n",
        "2       123792    obamacare\n",
        "3        62020  obamanation\n",
        "4        51489   obamasucks"
       ]
      }
     ],
     "prompt_number": 13
    },
    {
     "cell_type": "markdown",
     "metadata": {},
     "source": [
      "---"
     ]
    },
    {
     "cell_type": "markdown",
     "metadata": {},
     "source": [
      "####GET /locations/search\n",
      "Search for a location by geographic coordinate.\n",
      "\n",
      "**returns posts with user-posted locations (check-ins)*"
     ]
    },
    {
     "cell_type": "code",
     "collapsed": false,
     "input": [
      "#DISTANCE\tDefault is 1000m (distance=1000), max distance is 5000.\n",
      "#FACEBOOK_PLACES_ID\tReturns a location mapped off of a Facebook places id. If used, a Foursquare id and lat, lng are not required.\n",
      "#FOURSQUARE_ID\tReturns a location mapped off of a foursquare v1 api location id. If used, you are not required to use lat and lng. Note that this method is deprecated; you should use the new foursquare IDs with V2 of their API.\n",
      "#LAT\tLatitude of the center search coordinate. If used, lng is required.\n",
      "#LNG\tLongitude of the center search coordinate. If used, lat is required.\n",
      "#FOURSQUARE_V2_ID\tReturns a location mapped off of a foursquare v2 api location id. If used, you are not required to use lat and lng.\n",
      "\n",
      "#json_normalize(requests.get('https://api.instagram.com/v1/locations/search?lat=48.858844&lng=2.294351&distance=100&access_token='+token+'&count=1000').json()['data']).head()"
     ],
     "language": "python",
     "metadata": {},
     "outputs": [],
     "prompt_number": 14
    },
    {
     "cell_type": "markdown",
     "metadata": {},
     "source": [
      "---"
     ]
    },
    {
     "cell_type": "markdown",
     "metadata": {},
     "source": [
      "####GET /media/search\n",
      "Search for media in a given area. The default time span is set to 5 days. The time span must not exceed 7 days. Defaults time stamps cover the last 5 days. Can return mix of image and video types."
     ]
    },
    {
     "cell_type": "code",
     "collapsed": false,
     "input": [
      "#LAT\tLatitude of the center search coordinate. If used, lng is required.\n",
      "#MIN_TIMESTAMP\tA unix timestamp. All media returned will be taken later than this timestamp.\n",
      "#LNG\tLongitude of the center search coordinate. If used, lat is required.\n",
      "#MAX_TIMESTAMP\tA unix timestamp. All media returned will be taken earlier than this timestamp.\n",
      "#DISTANCE\tDefault is 1km (distance=1000), max distance is 5km.\n",
      "\n",
      "#json_normalize(requests.get('https://api.instagram.com/v1/media/search?lat=48.858844&lng=2.294351&access_token='+token).json()['data']).head()"
     ],
     "language": "python",
     "metadata": {},
     "outputs": [],
     "prompt_number": 15
    },
    {
     "cell_type": "markdown",
     "metadata": {},
     "source": [
      "Location"
     ]
    },
    {
     "cell_type": "code",
     "collapsed": false,
     "input": [
      "#first search an area for existing location-ids\n",
      "print 'https://api.instagram.com/v1/locations/search?lat=48.858844&lng=2.294351&access_token='+token\n",
      "\n",
      "#after identifying a specific location-id, plug in to /locations/media/recent url to see recent posts from that location\n",
      "print 'https://api.instagram.com/v1/locations/{location-id}/media/recent?access_token='+token"
     ],
     "language": "python",
     "metadata": {},
     "outputs": [
      {
       "output_type": "stream",
       "stream": "stdout",
       "text": [
        "https://api.instagram.com/v1/locations/search?lat=48.858844&lng=2.294351&access_token=1265541089.d4ec778.3a455b41bc6643cbb2e0c406cfcce3ff\n",
        "https://api.instagram.com/v1/locations/{location-id}/media/recent?access_token=1265541089.d4ec778.3a455b41bc6643cbb2e0c406cfcce3ff\n"
       ]
      }
     ],
     "prompt_number": 16
    },
    {
     "cell_type": "markdown",
     "metadata": {},
     "source": [
      "\n",
      "---"
     ]
    },
    {
     "cell_type": "markdown",
     "metadata": {},
     "source": [
      "##Working with IG's API: Collecting More with Pagination"
     ]
    },
    {
     "cell_type": "markdown",
     "metadata": {},
     "source": [
      "Calling a url's pagination data returns a next_url.  Looping this process will require using a returned next_url to call an additional next_url.  Automating retrieval of next_urls is essentially the same problem as iterating y with the equation y = x<sup>2</sup>, n times.  "
     ]
    },
    {
     "cell_type": "code",
     "collapsed": false,
     "input": [
      "from instagram.client import InstagramAPI\n",
      "import requests\n",
      "import json\n",
      "from pandas.io.json import json_normalize\n",
      "import sys\n",
      "import pandas as pd\n",
      "import matplotlib"
     ],
     "language": "python",
     "metadata": {},
     "outputs": [],
     "prompt_number": 17
    },
    {
     "cell_type": "code",
     "collapsed": false,
     "input": [
      "client_id = 'd4ec778deaca482085b02c8556b6c2dd'\n",
      "csecret = '201d0a1ed4c04ff08f82b96315c303bf'\n",
      "curl = 'https://github.com/c-trl'\n",
      "uri = 'https://instagram.com/developer'\n",
      "url = 'https://instagram.com/oauth/authorize/?client_id='+client_id+'&redirect_uri='+uri+'&response_type=token'\n",
      "api = InstagramAPI(client_id=client_id, client_secret=csecret)\n",
      "access = 'https://instagram.com/oauth/authorize/?client_id='+client_id+'&redirect_uri='+uri+'&response_type=token'\n",
      "token = '1265541089.d4ec778.3a455b41bc6643cbb2e0c406cfcce3ff' #copy/pasted from resulting URL after going to access above"
     ],
     "language": "python",
     "metadata": {},
     "outputs": [],
     "prompt_number": 18
    },
    {
     "cell_type": "code",
     "collapsed": false,
     "input": [
      "query = 'obama'\n",
      "base_url = \"https://api.instagram.com/v1\"\n",
      "this_url = '{0}/tags/{1}/media/recent?client_id={2}&count=30'.format(base_url, query, client_id)\n",
      "url, n = this_url, 5"
     ],
     "language": "python",
     "metadata": {},
     "outputs": [],
     "prompt_number": 34
    },
    {
     "cell_type": "code",
     "collapsed": false,
     "input": [
      "def get(url):\n",
      "    r = requests.get(url)\n",
      "    j = r.json()\n",
      "    if 'pagination' in j:\n",
      "        try:\n",
      "            pagination = j['pagination']\n",
      "            if 'next_url' in pagination:\n",
      "                try:\n",
      "                    next_url = pagination['next_url']\n",
      "                    return str(next_url)\n",
      "                except Exception, e:\n",
      "                    return str(e)                    \n",
      "        except Exception, e:\n",
      "            return str(e)"
     ],
     "language": "python",
     "metadata": {},
     "outputs": [],
     "prompt_number": 35
    },
    {
     "cell_type": "code",
     "collapsed": false,
     "input": [
      "urls = list()\n",
      "results = list()"
     ],
     "language": "python",
     "metadata": {},
     "outputs": [],
     "prompt_number": 36
    },
    {
     "cell_type": "code",
     "collapsed": false,
     "input": [
      "urls.append(str(url))"
     ],
     "language": "python",
     "metadata": {},
     "outputs": [],
     "prompt_number": 37
    },
    {
     "cell_type": "code",
     "collapsed": false,
     "input": [
      "for _ in range(n): #range should ideally be determined by the user; 2 replaced by n, n defined in the same place word is defined.\n",
      "    x = get(url) \n",
      "    urls.append(str(x)) \n",
      "    url = get(x) "
     ],
     "language": "python",
     "metadata": {},
     "outputs": [],
     "prompt_number": 38
    },
    {
     "cell_type": "code",
     "collapsed": false,
     "input": [
      "urls"
     ],
     "language": "python",
     "metadata": {},
     "outputs": [
      {
       "metadata": {},
       "output_type": "pyout",
       "prompt_number": 39,
       "text": [
        "['https://api.instagram.com/v1/tags/obama/media/recent?client_id=d4ec778deaca482085b02c8556b6c2dd&count=30',\n",
        " 'https://api.instagram.com/v1/tags/obama/media/recent?count=30&client_id=d4ec778deaca482085b02c8556b6c2dd&max_tag_id=979407728779023752',\n",
        " 'https://api.instagram.com/v1/tags/obama/media/recent?count=30&client_id=d4ec778deaca482085b02c8556b6c2dd&max_tag_id=979345491189676108',\n",
        " 'https://api.instagram.com/v1/tags/obama/media/recent?count=30&client_id=d4ec778deaca482085b02c8556b6c2dd&max_tag_id=979303969785307093',\n",
        " 'https://api.instagram.com/v1/tags/obama/media/recent?count=30&client_id=d4ec778deaca482085b02c8556b6c2dd&max_tag_id=979273041101985723',\n",
        " 'https://api.instagram.com/v1/tags/obama/media/recent?count=30&client_id=d4ec778deaca482085b02c8556b6c2dd&max_tag_id=979234680931057654']"
       ]
      }
     ],
     "prompt_number": 39
    },
    {
     "cell_type": "code",
     "collapsed": false,
     "input": [
      "for url in urls:\n",
      "    r = requests.get(url)\n",
      "    j = r.json()\n",
      "    if 'data in j':\n",
      "        try:\n",
      "            data = j['data']\n",
      "            df_instance = json_normalize(data)\n",
      "            results.append(df_instance)\n",
      "        except Exception, e:\n",
      "            print 'Error: Could not find data.', str(e)"
     ],
     "language": "python",
     "metadata": {},
     "outputs": [],
     "prompt_number": 40
    },
    {
     "cell_type": "code",
     "collapsed": false,
     "input": [
      "df = pd.DataFrame().append(results)"
     ],
     "language": "python",
     "metadata": {},
     "outputs": [],
     "prompt_number": 41
    },
    {
     "cell_type": "code",
     "collapsed": false,
     "input": [
      "pd.DataFrame(df.columns)"
     ],
     "language": "python",
     "metadata": {},
     "outputs": [
      {
       "html": [
        "<div style=\"max-height:1000px;max-width:1500px;overflow:auto;\">\n",
        "<table border=\"1\" class=\"dataframe\">\n",
        "  <thead>\n",
        "    <tr style=\"text-align: right;\">\n",
        "      <th></th>\n",
        "      <th>0</th>\n",
        "    </tr>\n",
        "  </thead>\n",
        "  <tbody>\n",
        "    <tr>\n",
        "      <th>0 </th>\n",
        "      <td>                       attribution</td>\n",
        "    </tr>\n",
        "    <tr>\n",
        "      <th>1 </th>\n",
        "      <td>              caption.created_time</td>\n",
        "    </tr>\n",
        "    <tr>\n",
        "      <th>2 </th>\n",
        "      <td>            caption.from.full_name</td>\n",
        "    </tr>\n",
        "    <tr>\n",
        "      <th>3 </th>\n",
        "      <td>                   caption.from.id</td>\n",
        "    </tr>\n",
        "    <tr>\n",
        "      <th>4 </th>\n",
        "      <td>      caption.from.profile_picture</td>\n",
        "    </tr>\n",
        "    <tr>\n",
        "      <th>5 </th>\n",
        "      <td>             caption.from.username</td>\n",
        "    </tr>\n",
        "    <tr>\n",
        "      <th>6 </th>\n",
        "      <td>                        caption.id</td>\n",
        "    </tr>\n",
        "    <tr>\n",
        "      <th>7 </th>\n",
        "      <td>                      caption.text</td>\n",
        "    </tr>\n",
        "    <tr>\n",
        "      <th>8 </th>\n",
        "      <td>                    comments.count</td>\n",
        "    </tr>\n",
        "    <tr>\n",
        "      <th>9 </th>\n",
        "      <td>                     comments.data</td>\n",
        "    </tr>\n",
        "    <tr>\n",
        "      <th>10</th>\n",
        "      <td>                      created_time</td>\n",
        "    </tr>\n",
        "    <tr>\n",
        "      <th>11</th>\n",
        "      <td>                            filter</td>\n",
        "    </tr>\n",
        "    <tr>\n",
        "      <th>12</th>\n",
        "      <td>                                id</td>\n",
        "    </tr>\n",
        "    <tr>\n",
        "      <th>13</th>\n",
        "      <td>      images.low_resolution.height</td>\n",
        "    </tr>\n",
        "    <tr>\n",
        "      <th>14</th>\n",
        "      <td>         images.low_resolution.url</td>\n",
        "    </tr>\n",
        "    <tr>\n",
        "      <th>15</th>\n",
        "      <td>       images.low_resolution.width</td>\n",
        "    </tr>\n",
        "    <tr>\n",
        "      <th>16</th>\n",
        "      <td> images.standard_resolution.height</td>\n",
        "    </tr>\n",
        "    <tr>\n",
        "      <th>17</th>\n",
        "      <td>    images.standard_resolution.url</td>\n",
        "    </tr>\n",
        "    <tr>\n",
        "      <th>18</th>\n",
        "      <td>  images.standard_resolution.width</td>\n",
        "    </tr>\n",
        "    <tr>\n",
        "      <th>19</th>\n",
        "      <td>           images.thumbnail.height</td>\n",
        "    </tr>\n",
        "    <tr>\n",
        "      <th>20</th>\n",
        "      <td>              images.thumbnail.url</td>\n",
        "    </tr>\n",
        "    <tr>\n",
        "      <th>21</th>\n",
        "      <td>            images.thumbnail.width</td>\n",
        "    </tr>\n",
        "    <tr>\n",
        "      <th>22</th>\n",
        "      <td>                       likes.count</td>\n",
        "    </tr>\n",
        "    <tr>\n",
        "      <th>23</th>\n",
        "      <td>                        likes.data</td>\n",
        "    </tr>\n",
        "    <tr>\n",
        "      <th>24</th>\n",
        "      <td>                              link</td>\n",
        "    </tr>\n",
        "    <tr>\n",
        "      <th>25</th>\n",
        "      <td>                          location</td>\n",
        "    </tr>\n",
        "    <tr>\n",
        "      <th>26</th>\n",
        "      <td>                       location.id</td>\n",
        "    </tr>\n",
        "    <tr>\n",
        "      <th>27</th>\n",
        "      <td>                 location.latitude</td>\n",
        "    </tr>\n",
        "    <tr>\n",
        "      <th>28</th>\n",
        "      <td>                location.longitude</td>\n",
        "    </tr>\n",
        "    <tr>\n",
        "      <th>29</th>\n",
        "      <td>                     location.name</td>\n",
        "    </tr>\n",
        "    <tr>\n",
        "      <th>30</th>\n",
        "      <td>                              tags</td>\n",
        "    </tr>\n",
        "    <tr>\n",
        "      <th>31</th>\n",
        "      <td>                              type</td>\n",
        "    </tr>\n",
        "    <tr>\n",
        "      <th>32</th>\n",
        "      <td>                    user.full_name</td>\n",
        "    </tr>\n",
        "    <tr>\n",
        "      <th>33</th>\n",
        "      <td>                           user.id</td>\n",
        "    </tr>\n",
        "    <tr>\n",
        "      <th>34</th>\n",
        "      <td>              user.profile_picture</td>\n",
        "    </tr>\n",
        "    <tr>\n",
        "      <th>35</th>\n",
        "      <td>                     user.username</td>\n",
        "    </tr>\n",
        "    <tr>\n",
        "      <th>36</th>\n",
        "      <td>                    users_in_photo</td>\n",
        "    </tr>\n",
        "    <tr>\n",
        "      <th>37</th>\n",
        "      <td>       videos.low_bandwidth.height</td>\n",
        "    </tr>\n",
        "    <tr>\n",
        "      <th>38</th>\n",
        "      <td>          videos.low_bandwidth.url</td>\n",
        "    </tr>\n",
        "    <tr>\n",
        "      <th>39</th>\n",
        "      <td>        videos.low_bandwidth.width</td>\n",
        "    </tr>\n",
        "    <tr>\n",
        "      <th>40</th>\n",
        "      <td>      videos.low_resolution.height</td>\n",
        "    </tr>\n",
        "    <tr>\n",
        "      <th>41</th>\n",
        "      <td>         videos.low_resolution.url</td>\n",
        "    </tr>\n",
        "    <tr>\n",
        "      <th>42</th>\n",
        "      <td>       videos.low_resolution.width</td>\n",
        "    </tr>\n",
        "    <tr>\n",
        "      <th>43</th>\n",
        "      <td> videos.standard_resolution.height</td>\n",
        "    </tr>\n",
        "    <tr>\n",
        "      <th>44</th>\n",
        "      <td>    videos.standard_resolution.url</td>\n",
        "    </tr>\n",
        "    <tr>\n",
        "      <th>45</th>\n",
        "      <td>  videos.standard_resolution.width</td>\n",
        "    </tr>\n",
        "  </tbody>\n",
        "</table>\n",
        "</div>"
       ],
       "metadata": {},
       "output_type": "pyout",
       "prompt_number": 42,
       "text": [
        "                                    0\n",
        "0                         attribution\n",
        "1                caption.created_time\n",
        "2              caption.from.full_name\n",
        "3                     caption.from.id\n",
        "4        caption.from.profile_picture\n",
        "5               caption.from.username\n",
        "6                          caption.id\n",
        "7                        caption.text\n",
        "8                      comments.count\n",
        "9                       comments.data\n",
        "10                       created_time\n",
        "11                             filter\n",
        "12                                 id\n",
        "13       images.low_resolution.height\n",
        "14          images.low_resolution.url\n",
        "15        images.low_resolution.width\n",
        "16  images.standard_resolution.height\n",
        "17     images.standard_resolution.url\n",
        "18   images.standard_resolution.width\n",
        "19            images.thumbnail.height\n",
        "20               images.thumbnail.url\n",
        "21             images.thumbnail.width\n",
        "22                        likes.count\n",
        "23                         likes.data\n",
        "24                               link\n",
        "25                           location\n",
        "26                        location.id\n",
        "27                  location.latitude\n",
        "28                 location.longitude\n",
        "29                      location.name\n",
        "30                               tags\n",
        "31                               type\n",
        "32                     user.full_name\n",
        "33                            user.id\n",
        "34               user.profile_picture\n",
        "35                      user.username\n",
        "36                     users_in_photo\n",
        "37        videos.low_bandwidth.height\n",
        "38           videos.low_bandwidth.url\n",
        "39         videos.low_bandwidth.width\n",
        "40       videos.low_resolution.height\n",
        "41          videos.low_resolution.url\n",
        "42        videos.low_resolution.width\n",
        "43  videos.standard_resolution.height\n",
        "44     videos.standard_resolution.url\n",
        "45   videos.standard_resolution.width"
       ]
      }
     ],
     "prompt_number": 42
    },
    {
     "cell_type": "code",
     "collapsed": false,
     "input": [
      "df = df[['user.username','caption.text','tags','comments.count','likes.count',\n",
      "         'filter','type','created_time','user.full_name','user.id','link','location.latitude',\n",
      "         'location.longitude']]\n",
      "\n",
      "# Changing the column names in the Data Frame\n",
      "df.rename(columns={'user.username':'user_name',\n",
      "               'caption.text':'caption_text',\n",
      "               'tags':'hashtags',\n",
      "               'comments.count':'comments_count',\n",
      "               'likes.count':'likes_count',\n",
      "               'filter':'filter',\n",
      "               'created_time':'created_time',\n",
      "               'user.full_name':'full_name',\n",
      "               'user.id':'user_id',\n",
      "               'type':'type',\n",
      "               'link':'link',\n",
      "               'location.latitude':'latitude',\n",
      "               'location.longitude':'longitude'},\n",
      "      inplace=True)\n",
      "\n",
      "total_posts = len(df)\n",
      "comments_count = df['comments_count'].sum()\n",
      "likes_count = df['likes_count'].sum()\n",
      "\n",
      "df.head()"
     ],
     "language": "python",
     "metadata": {},
     "outputs": [
      {
       "html": [
        "<div style=\"max-height:1000px;max-width:1500px;overflow:auto;\">\n",
        "<table border=\"1\" class=\"dataframe\">\n",
        "  <thead>\n",
        "    <tr style=\"text-align: right;\">\n",
        "      <th></th>\n",
        "      <th>user_name</th>\n",
        "      <th>caption_text</th>\n",
        "      <th>hashtags</th>\n",
        "      <th>comments_count</th>\n",
        "      <th>likes_count</th>\n",
        "      <th>filter</th>\n",
        "      <th>type</th>\n",
        "      <th>created_time</th>\n",
        "      <th>full_name</th>\n",
        "      <th>user_id</th>\n",
        "      <th>link</th>\n",
        "      <th>latitude</th>\n",
        "      <th>longitude</th>\n",
        "    </tr>\n",
        "  </thead>\n",
        "  <tbody>\n",
        "    <tr>\n",
        "      <th>0</th>\n",
        "      <td>    ilanfrag86</td>\n",
        "      <td>  No comments needed..., #whoistheboss#putin#obama</td>\n",
        "      <td>                      [whoistheboss, putin, obama]</td>\n",
        "      <td> 0</td>\n",
        "      <td> 0</td>\n",
        "      <td> Normal</td>\n",
        "      <td> image</td>\n",
        "      <td> 1430977763</td>\n",
        "      <td>           Ilan Frag</td>\n",
        "      <td>  193064777</td>\n",
        "      <td> https://instagram.com/p/2XpuA2yqsD/</td>\n",
        "      <td> 59.329925</td>\n",
        "      <td> 18.057970</td>\n",
        "    </tr>\n",
        "    <tr>\n",
        "      <th>1</th>\n",
        "      <td>   meshal.2229</td>\n",
        "      <td> #gm #me #with #Obama #fun #m2229 #monster #mor...</td>\n",
        "      <td> [me, m2229, monster, meshal2229, selfie, morni...</td>\n",
        "      <td> 0</td>\n",
        "      <td> 3</td>\n",
        "      <td> Normal</td>\n",
        "      <td> image</td>\n",
        "      <td> 1430977664</td>\n",
        "      <td>   Meshal Albelooshi</td>\n",
        "      <td> 1652030006</td>\n",
        "      <td> https://instagram.com/p/2Xph-2AB4N/</td>\n",
        "      <td> 25.731937</td>\n",
        "      <td> 55.936036</td>\n",
        "    </tr>\n",
        "    <tr>\n",
        "      <th>2</th>\n",
        "      <td>     mhsqautov</td>\n",
        "      <td> \ud83c\udf81Shipping\ud83d\udc57 Worldwide For more info, please c...</td>\n",
        "      <td> [newaccount, lazy, mushroom, on, northcarolina...</td>\n",
        "      <td> 0</td>\n",
        "      <td> 3</td>\n",
        "      <td> Normal</td>\n",
        "      <td> image</td>\n",
        "      <td> 1430977540</td>\n",
        "      <td>                    </td>\n",
        "      <td> 1952836738</td>\n",
        "      <td> https://instagram.com/p/2XpSwUGyy4/</td>\n",
        "      <td>       NaN</td>\n",
        "      <td>       NaN</td>\n",
        "    </tr>\n",
        "    <tr>\n",
        "      <th>3</th>\n",
        "      <td>     mhsqautov</td>\n",
        "      <td> \ud83c\udf81Shipping\ud83d\udc57 Worldwide For more info, please c...</td>\n",
        "      <td> [lashes, mybestfriend, likeme, monaco, mine, l...</td>\n",
        "      <td> 0</td>\n",
        "      <td> 6</td>\n",
        "      <td> Normal</td>\n",
        "      <td> image</td>\n",
        "      <td> 1430977483</td>\n",
        "      <td>                    </td>\n",
        "      <td> 1952836738</td>\n",
        "      <td> https://instagram.com/p/2XpL2Omyyw/</td>\n",
        "      <td>       NaN</td>\n",
        "      <td>       NaN</td>\n",
        "    </tr>\n",
        "    <tr>\n",
        "      <th>4</th>\n",
        "      <td> danielbunguri</td>\n",
        "      <td>                    The KING of the RING #OBAMA &lt;3</td>\n",
        "      <td>                                           [obama]</td>\n",
        "      <td> 0</td>\n",
        "      <td> 0</td>\n",
        "      <td> Ludwig</td>\n",
        "      <td> image</td>\n",
        "      <td> 1430977419</td>\n",
        "      <td> Football player :-)</td>\n",
        "      <td> 1788505019</td>\n",
        "      <td> https://instagram.com/p/2XpEDHgFOZ/</td>\n",
        "      <td>       NaN</td>\n",
        "      <td>       NaN</td>\n",
        "    </tr>\n",
        "  </tbody>\n",
        "</table>\n",
        "</div>"
       ],
       "metadata": {},
       "output_type": "pyout",
       "prompt_number": 43,
       "text": [
        "       user_name                                       caption_text  \\\n",
        "0     ilanfrag86   No comments needed..., #whoistheboss#putin#obama   \n",
        "1    meshal.2229  #gm #me #with #Obama #fun #m2229 #monster #mor...   \n",
        "2      mhsqautov  \ud83c\udf81Shipping\ud83d\udc57 Worldwide For more info, please c...   \n",
        "3      mhsqautov  \ud83c\udf81Shipping\ud83d\udc57 Worldwide For more info, please c...   \n",
        "4  danielbunguri                     The KING of the RING #OBAMA <3   \n",
        "\n",
        "                                            hashtags  comments_count  \\\n",
        "0                       [whoistheboss, putin, obama]               0   \n",
        "1  [me, m2229, monster, meshal2229, selfie, morni...               0   \n",
        "2  [newaccount, lazy, mushroom, on, northcarolina...               0   \n",
        "3  [lashes, mybestfriend, likeme, monaco, mine, l...               0   \n",
        "4                                            [obama]               0   \n",
        "\n",
        "   likes_count  filter   type created_time            full_name     user_id  \\\n",
        "0            0  Normal  image   1430977763            Ilan Frag   193064777   \n",
        "1            3  Normal  image   1430977664    Meshal Albelooshi  1652030006   \n",
        "2            3  Normal  image   1430977540                       1952836738   \n",
        "3            6  Normal  image   1430977483                       1952836738   \n",
        "4            0  Ludwig  image   1430977419  Football player :-)  1788505019   \n",
        "\n",
        "                                  link   latitude  longitude  \n",
        "0  https://instagram.com/p/2XpuA2yqsD/  59.329925  18.057970  \n",
        "1  https://instagram.com/p/2Xph-2AB4N/  25.731937  55.936036  \n",
        "2  https://instagram.com/p/2XpSwUGyy4/        NaN        NaN  \n",
        "3  https://instagram.com/p/2XpL2Omyyw/        NaN        NaN  \n",
        "4  https://instagram.com/p/2XpEDHgFOZ/        NaN        NaN  "
       ]
      }
     ],
     "prompt_number": 43
    },
    {
     "cell_type": "code",
     "collapsed": false,
     "input": [],
     "language": "python",
     "metadata": {},
     "outputs": []
    },
    {
     "cell_type": "code",
     "collapsed": false,
     "input": [],
     "language": "python",
     "metadata": {},
     "outputs": []
    },
    {
     "cell_type": "code",
     "collapsed": false,
     "input": [],
     "language": "python",
     "metadata": {},
     "outputs": []
    },
    {
     "cell_type": "code",
     "collapsed": false,
     "input": [],
     "language": "python",
     "metadata": {},
     "outputs": []
    },
    {
     "cell_type": "code",
     "collapsed": false,
     "input": [],
     "language": "python",
     "metadata": {},
     "outputs": []
    },
    {
     "cell_type": "code",
     "collapsed": false,
     "input": [],
     "language": "python",
     "metadata": {},
     "outputs": []
    },
    {
     "cell_type": "code",
     "collapsed": false,
     "input": [],
     "language": "python",
     "metadata": {},
     "outputs": []
    },
    {
     "cell_type": "code",
     "collapsed": false,
     "input": [],
     "language": "python",
     "metadata": {},
     "outputs": []
    },
    {
     "cell_type": "code",
     "collapsed": false,
     "input": [],
     "language": "python",
     "metadata": {},
     "outputs": []
    },
    {
     "cell_type": "code",
     "collapsed": false,
     "input": [
      "base_url = \"https://api.instagram.com/v1\"\n",
      "errors = []\n",
      "urls = list()\n",
      "results = list()\n"
     ],
     "language": "python",
     "metadata": {},
     "outputs": []
    },
    {
     "cell_type": "code",
     "collapsed": false,
     "input": [
      "query_url = 'https://api.instagram.com/v1/tags/pacquiao/media/recent?count=20&client_id=d4ec778deaca482085b02c8556b6c2dd'\n",
      "\n",
      "  #return a next_url\n",
      "def get(url):\n",
      "    return str(requests.get(url).json()['pagination']['next_url'])\n",
      "\n",
      "  #open list to hold urls\n",
      "urls = list() \n",
      "\n",
      "  #handling initial url\n",
      "url = query_url #call passed url\n",
      "urls.append(str(url)) #add initial url to list\n",
      "\n",
      "  #handling further urls    \n",
      "for n in range(2):\n",
      "    x = get(url) \n",
      "    urls.append(str(x)) #add next_url\n",
      "    url = get(x) #replaces initial url with next_url for next turn in loop\n",
      "\n",
      "  #open list to hold data\n",
      "results = list()\n",
      "\n",
      "  #populate df with data from urls in urls\n",
      "for url in urls:\n",
      "    results.append(json_normalize(requests.get(url).json()['data']))\n",
      "    \n",
      "  #initiate df\n",
      "df = pd.DataFrame().append(results).reset_index().drop('index',axis=1)"
     ],
     "language": "python",
     "metadata": {},
     "outputs": []
    },
    {
     "cell_type": "code",
     "collapsed": false,
     "input": [],
     "language": "python",
     "metadata": {},
     "outputs": []
    },
    {
     "cell_type": "code",
     "collapsed": false,
     "input": [],
     "language": "python",
     "metadata": {},
     "outputs": []
    },
    {
     "cell_type": "code",
     "collapsed": false,
     "input": [],
     "language": "python",
     "metadata": {},
     "outputs": []
    },
    {
     "cell_type": "markdown",
     "metadata": {},
     "source": [
      "#To-Do List:"
     ]
    },
    {
     "cell_type": "markdown",
     "metadata": {},
     "source": [
      "- aggregate tags and comments for sentiment analysis"
     ]
    },
    {
     "cell_type": "markdown",
     "metadata": {},
     "source": [
      "- unpack comment data"
     ]
    },
    {
     "cell_type": "markdown",
     "metadata": {},
     "source": [
      "- create algorithm for score"
     ]
    },
    {
     "cell_type": "code",
     "collapsed": false,
     "input": [],
     "language": "python",
     "metadata": {},
     "outputs": []
    },
    {
     "cell_type": "code",
     "collapsed": false,
     "input": [],
     "language": "python",
     "metadata": {},
     "outputs": []
    }
   ],
   "metadata": {}
  }
 ]
}