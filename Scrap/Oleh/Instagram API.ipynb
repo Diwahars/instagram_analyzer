{
 "metadata": {
  "name": "",
  "signature": "sha256:c6a8adcdb10010636860c810bd5ab6f6fb1c65f79d18d9c488a998105574cc69"
 },
 "nbformat": 3,
 "nbformat_minor": 0,
 "worksheets": [
  {
   "cells": [
    {
     "cell_type": "code",
     "collapsed": false,
     "input": [
      "import pandas as pd\n",
      "import requests\n",
      "import json\n",
      "import matplotlib.pyplot as plt\n",
      "import datetime\n",
      "import numpy as np\n",
      "\n",
      "from pandas.io.json import json_normalize\n",
      "\n",
      "%matplotlib inline\n",
      "\n",
      "\n",
      "def instagram_scraper(query):\n",
      "    \n",
      "    client_id = '768fcf1f36c94eb08506bae0a9caffa3'\n",
      "    secret = '54efcbaed7f64673bc93b4e28ca9e8b2'\n",
      "    base_url = \"https://api.instagram.com/v1\"\n",
      "\n",
      "    url = '{0}/tags/{1}/media/recent?client_id={2}&count=20'.format(base_url, query, client_id)\n",
      "    \n",
      "\n",
      "    df = json_normalize(requests.get(url).json()['data'])\n",
      "    df = df[['user.username','caption.text','tags','comments.count','likes.count',\n",
      "             'filter','type','created_time','user.full_name','user.id','link','location.latitude',\n",
      "             'location.longitude']]\n",
      "    df['created_time'] = [x.replace(x, datetime.datetime.fromtimestamp(int(str(x))).strftime('%Y-%m-%d %H:%M:%S')) for x in df['created_time']]\n",
      "    df = df.rename(columns=lambda x: x.replace('.', ' ').title())\n",
      "    \n",
      "    return df\n",
      "    "
     ],
     "language": "python",
     "metadata": {},
     "outputs": [],
     "prompt_number": 33
    },
    {
     "cell_type": "code",
     "collapsed": false,
     "input": [
      "df = instagram_scraper('nyc')"
     ],
     "language": "python",
     "metadata": {},
     "outputs": [],
     "prompt_number": 2
    },
    {
     "cell_type": "code",
     "collapsed": false,
     "input": [
      "df.head()"
     ],
     "language": "python",
     "metadata": {},
     "outputs": [
      {
       "html": [
        "<div style=\"max-height:1000px;max-width:1500px;overflow:auto;\">\n",
        "<table border=\"1\" class=\"dataframe\">\n",
        "  <thead>\n",
        "    <tr style=\"text-align: right;\">\n",
        "      <th></th>\n",
        "      <th>User Username</th>\n",
        "      <th>Caption Text</th>\n",
        "      <th>Tags</th>\n",
        "      <th>Comments Count</th>\n",
        "      <th>Likes Count</th>\n",
        "      <th>Filter</th>\n",
        "      <th>Type</th>\n",
        "      <th>Created_Time</th>\n",
        "      <th>User Full_Name</th>\n",
        "      <th>User Id</th>\n",
        "      <th>Link</th>\n",
        "      <th>Location Latitude</th>\n",
        "      <th>Location Longitude</th>\n",
        "    </tr>\n",
        "  </thead>\n",
        "  <tbody>\n",
        "    <tr>\n",
        "      <th>0</th>\n",
        "      <td>        jlos7077</td>\n",
        "      <td>             #NewYork #NYC with the sun in my face</td>\n",
        "      <td>                                    [newyork, nyc]</td>\n",
        "      <td> 0</td>\n",
        "      <td> 0</td>\n",
        "      <td>  Normal</td>\n",
        "      <td> image</td>\n",
        "      <td> 2015-05-14 13:24:35</td>\n",
        "      <td>               jlos</td>\n",
        "      <td> 1970023775</td>\n",
        "      <td> https://instagram.com/p/2q618uuwAa/</td>\n",
        "      <td>       NaN</td>\n",
        "      <td>       NaN</td>\n",
        "    </tr>\n",
        "    <tr>\n",
        "      <th>1</th>\n",
        "      <td>  shoegasms_ohmy</td>\n",
        "      <td> Snippet of today's look! \ud83c\ude50\ud83c\udf52\ud83c\udf1e\ud83d\udc8b\\n#ootd #ootd...</td>\n",
        "      <td> [fashionvideo, fashion, uk, vintagefashion, st...</td>\n",
        "      <td> 0</td>\n",
        "      <td> 0</td>\n",
        "      <td> Stinson</td>\n",
        "      <td> video</td>\n",
        "      <td> 2015-05-14 13:24:34</td>\n",
        "      <td> Destiny G r e e n.</td>\n",
        "      <td>  259936995</td>\n",
        "      <td> https://instagram.com/p/2q614hnzEJ/</td>\n",
        "      <td>       NaN</td>\n",
        "      <td>       NaN</td>\n",
        "    </tr>\n",
        "    <tr>\n",
        "      <th>2</th>\n",
        "      <td>     oliviaahman</td>\n",
        "      <td> I'm in Arch dance company's spring newsletter ...</td>\n",
        "      <td> [summer, archdancecompany, archcore40, dance, ...</td>\n",
        "      <td> 0</td>\n",
        "      <td> 0</td>\n",
        "      <td>  Normal</td>\n",
        "      <td> image</td>\n",
        "      <td> 2015-05-14 13:24:33</td>\n",
        "      <td>  Olivia Linn \u00c5hman</td>\n",
        "      <td>    4032325</td>\n",
        "      <td> https://instagram.com/p/2q61wCJFth/</td>\n",
        "      <td> 59.317616</td>\n",
        "      <td> 18.054644</td>\n",
        "    </tr>\n",
        "    <tr>\n",
        "      <th>3</th>\n",
        "      <td>    brazilianavy</td>\n",
        "      <td>             Rihanna Leaving Her Apartment In #NYC</td>\n",
        "      <td>                                             [nyc]</td>\n",
        "      <td> 0</td>\n",
        "      <td> 0</td>\n",
        "      <td>  Normal</td>\n",
        "      <td> image</td>\n",
        "      <td> 2015-05-14 13:24:33</td>\n",
        "      <td>         badgalriri</td>\n",
        "      <td>  647501865</td>\n",
        "      <td> https://instagram.com/p/2q61rsnSq8/</td>\n",
        "      <td>       NaN</td>\n",
        "      <td>       NaN</td>\n",
        "    </tr>\n",
        "    <tr>\n",
        "      <th>4</th>\n",
        "      <td> ashleynicolebtq</td>\n",
        "      <td> All items are in stock and ready to ship! \ud83d\ude31\ud83d\ude31...</td>\n",
        "      <td> [worldwide, houston, love, nails, makeup, beyo...</td>\n",
        "      <td> 0</td>\n",
        "      <td> 1</td>\n",
        "      <td>  Normal</td>\n",
        "      <td> image</td>\n",
        "      <td> 2015-05-14 13:24:29</td>\n",
        "      <td>   AshleyNicole LLC</td>\n",
        "      <td> 1281744896</td>\n",
        "      <td> https://instagram.com/p/2q61PoTIff/</td>\n",
        "      <td>       NaN</td>\n",
        "      <td>       NaN</td>\n",
        "    </tr>\n",
        "  </tbody>\n",
        "</table>\n",
        "</div>"
       ],
       "metadata": {},
       "output_type": "pyout",
       "prompt_number": 3,
       "text": [
        "     User Username                                       Caption Text  \\\n",
        "0         jlos7077              #NewYork #NYC with the sun in my face   \n",
        "1   shoegasms_ohmy  Snippet of today's look! \ud83c\ude50\ud83c\udf52\ud83c\udf1e\ud83d\udc8b\\n#ootd #ootd...   \n",
        "2      oliviaahman  I'm in Arch dance company's spring newsletter ...   \n",
        "3     brazilianavy              Rihanna Leaving Her Apartment In #NYC   \n",
        "4  ashleynicolebtq  All items are in stock and ready to ship! \ud83d\ude31\ud83d\ude31...   \n",
        "\n",
        "                                                Tags  Comments Count  \\\n",
        "0                                     [newyork, nyc]               0   \n",
        "1  [fashionvideo, fashion, uk, vintagefashion, st...               0   \n",
        "2  [summer, archdancecompany, archcore40, dance, ...               0   \n",
        "3                                              [nyc]               0   \n",
        "4  [worldwide, houston, love, nails, makeup, beyo...               0   \n",
        "\n",
        "   Likes Count   Filter   Type         Created_Time      User Full_Name  \\\n",
        "0            0   Normal  image  2015-05-14 13:24:35                jlos   \n",
        "1            0  Stinson  video  2015-05-14 13:24:34  Destiny G r e e n.   \n",
        "2            0   Normal  image  2015-05-14 13:24:33   Olivia Linn \u00c5hman   \n",
        "3            0   Normal  image  2015-05-14 13:24:33          badgalriri   \n",
        "4            1   Normal  image  2015-05-14 13:24:29    AshleyNicole LLC   \n",
        "\n",
        "      User Id                                 Link  Location Latitude  \\\n",
        "0  1970023775  https://instagram.com/p/2q618uuwAa/                NaN   \n",
        "1   259936995  https://instagram.com/p/2q614hnzEJ/                NaN   \n",
        "2     4032325  https://instagram.com/p/2q61wCJFth/          59.317616   \n",
        "3   647501865  https://instagram.com/p/2q61rsnSq8/                NaN   \n",
        "4  1281744896  https://instagram.com/p/2q61PoTIff/                NaN   \n",
        "\n",
        "   Location Longitude  \n",
        "0                 NaN  \n",
        "1                 NaN  \n",
        "2           18.054644  \n",
        "3                 NaN  \n",
        "4                 NaN  "
       ]
      }
     ],
     "prompt_number": 3
    },
    {
     "cell_type": "code",
     "collapsed": false,
     "input": [
      "df = df.dropna()"
     ],
     "language": "python",
     "metadata": {},
     "outputs": [],
     "prompt_number": 22
    },
    {
     "cell_type": "code",
     "collapsed": false,
     "input": [
      "df = df[['Location Latitude', 'Location Longitude']]"
     ],
     "language": "python",
     "metadata": {},
     "outputs": [],
     "prompt_number": 38
    },
    {
     "cell_type": "code",
     "collapsed": false,
     "input": [
      "df"
     ],
     "language": "python",
     "metadata": {},
     "outputs": [
      {
       "html": [
        "<div style=\"max-height:1000px;max-width:1500px;overflow:auto;\">\n",
        "<table border=\"1\" class=\"dataframe\">\n",
        "  <thead>\n",
        "    <tr style=\"text-align: right;\">\n",
        "      <th></th>\n",
        "      <th>Location Latitude</th>\n",
        "      <th>Location Longitude</th>\n",
        "    </tr>\n",
        "  </thead>\n",
        "  <tbody>\n",
        "    <tr>\n",
        "      <th>2 </th>\n",
        "      <td> 59.317616</td>\n",
        "      <td> 18.054644</td>\n",
        "    </tr>\n",
        "    <tr>\n",
        "      <th>6 </th>\n",
        "      <td> 40.719676</td>\n",
        "      <td>-73.995959</td>\n",
        "    </tr>\n",
        "    <tr>\n",
        "      <th>7 </th>\n",
        "      <td> 40.735600</td>\n",
        "      <td>-73.990604</td>\n",
        "    </tr>\n",
        "    <tr>\n",
        "      <th>9 </th>\n",
        "      <td> 40.803836</td>\n",
        "      <td>-73.962502</td>\n",
        "    </tr>\n",
        "    <tr>\n",
        "      <th>11</th>\n",
        "      <td> 40.799145</td>\n",
        "      <td>-73.975762</td>\n",
        "    </tr>\n",
        "    <tr>\n",
        "      <th>12</th>\n",
        "      <td> 25.781255</td>\n",
        "      <td>-80.133594</td>\n",
        "    </tr>\n",
        "    <tr>\n",
        "      <th>18</th>\n",
        "      <td> 40.723644</td>\n",
        "      <td>-73.993331</td>\n",
        "    </tr>\n",
        "  </tbody>\n",
        "</table>\n",
        "</div>"
       ],
       "metadata": {},
       "output_type": "pyout",
       "prompt_number": 39,
       "text": [
        "    Location Latitude  Location Longitude\n",
        "2           59.317616           18.054644\n",
        "6           40.719676          -73.995959\n",
        "7           40.735600          -73.990604\n",
        "9           40.803836          -73.962502\n",
        "11          40.799145          -73.975762\n",
        "12          25.781255          -80.133594\n",
        "18          40.723644          -73.993331"
       ]
      }
     ],
     "prompt_number": 39
    },
    {
     "cell_type": "code",
     "collapsed": false,
     "input": [
      "df_array = np.array(df.as_matrix(columns = None)).astype(np.float)"
     ],
     "language": "python",
     "metadata": {},
     "outputs": [],
     "prompt_number": 42
    },
    {
     "cell_type": "code",
     "collapsed": false,
     "input": [
      "df_array"
     ],
     "language": "python",
     "metadata": {},
     "outputs": [
      {
       "metadata": {},
       "output_type": "pyout",
       "prompt_number": 43,
       "text": [
        "array([[ 59.31761602,  18.05464382],\n",
        "       [ 40.719676  , -73.995959  ],\n",
        "       [ 40.73560039, -73.9906044 ],\n",
        "       [ 40.80383564, -73.96250198],\n",
        "       [ 40.799145  , -73.97576167],\n",
        "       [ 25.78125504, -80.13359388],\n",
        "       [ 40.72364397, -73.99333132]])"
       ]
      }
     ],
     "prompt_number": 43
    },
    {
     "cell_type": "markdown",
     "metadata": {},
     "source": [
      "#gmaps"
     ]
    },
    {
     "cell_type": "code",
     "collapsed": false,
     "input": [
      "import gmaps"
     ],
     "language": "python",
     "metadata": {},
     "outputs": [
      {
       "javascript": [
        "\n",
        "            IPython.load_extensions('gmaps_js/heatmap_view')\n",
        "            "
       ],
       "metadata": {},
       "output_type": "display_data",
       "text": [
        "<IPython.core.display.Javascript at 0x107fdde10>"
       ]
      }
     ],
     "prompt_number": 4
    },
    {
     "cell_type": "code",
     "collapsed": false,
     "input": [
      "type(data)"
     ],
     "language": "python",
     "metadata": {},
     "outputs": [
      {
       "metadata": {},
       "output_type": "pyout",
       "prompt_number": 30,
       "text": [
        "numpy.ndarray"
       ]
      }
     ],
     "prompt_number": 30
    },
    {
     "cell_type": "code",
     "collapsed": false,
     "input": [
      "map = gmaps.heatmap(df_array)"
     ],
     "language": "python",
     "metadata": {},
     "outputs": [],
     "prompt_number": 45
    },
    {
     "cell_type": "code",
     "collapsed": false,
     "input": [
      "gmaps.display(map)"
     ],
     "language": "python",
     "metadata": {},
     "outputs": [],
     "prompt_number": 46
    },
    {
     "cell_type": "code",
     "collapsed": false,
     "input": [],
     "language": "python",
     "metadata": {},
     "outputs": []
    }
   ],
   "metadata": {}
  }
 ]
}