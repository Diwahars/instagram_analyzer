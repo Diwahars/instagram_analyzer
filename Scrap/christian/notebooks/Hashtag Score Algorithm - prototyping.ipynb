{
 "metadata": {
  "name": "",
  "signature": "sha256:1dc3f33b0ea7812d40c6f8460403fe977d2d314249050377b9f9d7248b24f7fb"
 },
 "nbformat": 3,
 "nbformat_minor": 0,
 "worksheets": [
  {
   "cells": [
    {
     "cell_type": "markdown",
     "metadata": {},
     "source": [
      "Scenario: Lifestyle brand 'Killdit' is interested in tracking #killdit on Instagram."
     ]
    },
    {
     "cell_type": "markdown",
     "metadata": {},
     "source": [
      "#What determines the effectiveness of [Instagram] hashtags?"
     ]
    },
    {
     "cell_type": "markdown",
     "metadata": {},
     "source": [
      "---"
     ]
    },
    {
     "cell_type": "markdown",
     "metadata": {},
     "source": [
      "- Existing relative Instagram data"
     ]
    },
    {
     "cell_type": "markdown",
     "metadata": {},
     "source": [
      "*Querying Instagram's API for recent media returns the following data:*"
     ]
    },
    {
     "cell_type": "code",
     "collapsed": false,
     "input": [
      "from instagram.client import InstagramAPI\n",
      "import requests\n",
      "import json\n",
      "import pandas as pd\n",
      "from pandas.io.json import json_normalize\n",
      "import nltk"
     ],
     "language": "python",
     "metadata": {},
     "outputs": [],
     "prompt_number": 64
    },
    {
     "cell_type": "code",
     "collapsed": false,
     "input": [
      "query = 'mayweather'"
     ],
     "language": "python",
     "metadata": {},
     "outputs": [
      {
       "output_type": "stream",
       "stream": "stdout",
       "text": [
        "\n"
       ]
      }
     ],
     "prompt_number": 92
    },
    {
     "cell_type": "code",
     "collapsed": false,
     "input": [
      "query_url = 'https://api.instagram.com/v1/tags/'+query+'/media/recent?count=20&client_id=d4ec778deaca482085b02c8556b6c2dd'\n",
      "n = 10"
     ],
     "language": "python",
     "metadata": {},
     "outputs": [],
     "prompt_number": 93
    },
    {
     "cell_type": "code",
     "collapsed": false,
     "input": [
      "  #return a next_url\n",
      "def get(url):\n",
      "    return str(requests.get(url).json()['pagination']['next_url'])\n",
      "\n",
      "  #open list to hold urls\n",
      "urls = list() \n",
      "\n",
      "  #handling initial url\n",
      "url = query_url #call passed url\n",
      "urls.append(str(url)) #add initial url to list\n",
      "\n",
      "  #handling further urls    \n",
      "for _ in range(n):\n",
      "    x = get(url) \n",
      "    urls.append(str(x)) #add next_url\n",
      "    url = get(x) #replaces initial url with next_url for next turn in loop\n",
      "\n",
      "  #open list to hold data\n",
      "results = list()\n",
      "\n",
      "  #populate df with data from urls in urls\n",
      "for url in urls:\n",
      "    results.append(json_normalize(requests.get(url).json()['data']))\n",
      "    \n",
      "  #initiate df\n",
      "df = pd.DataFrame().append(results).reset_index().drop('index',axis=1)"
     ],
     "language": "python",
     "metadata": {},
     "outputs": [],
     "prompt_number": 70
    },
    {
     "cell_type": "code",
     "collapsed": false,
     "input": [
      "#note - this query returns posts where a hashtag is used in the posts' captions"
     ],
     "language": "python",
     "metadata": {},
     "outputs": [],
     "prompt_number": 5
    },
    {
     "cell_type": "code",
     "collapsed": false,
     "input": [
      "[str(x) for x in df.columns]"
     ],
     "language": "python",
     "metadata": {},
     "outputs": [
      {
       "metadata": {},
       "output_type": "pyout",
       "prompt_number": 6,
       "text": [
        "['attribution',\n",
        " 'caption.created_time',\n",
        " 'caption.from.full_name',\n",
        " 'caption.from.id',\n",
        " 'caption.from.profile_picture',\n",
        " 'caption.from.username',\n",
        " 'caption.id',\n",
        " 'caption.text',\n",
        " 'comments.count',\n",
        " 'comments.data',\n",
        " 'created_time',\n",
        " 'filter',\n",
        " 'id',\n",
        " 'images.low_resolution.height',\n",
        " 'images.low_resolution.url',\n",
        " 'images.low_resolution.width',\n",
        " 'images.standard_resolution.height',\n",
        " 'images.standard_resolution.url',\n",
        " 'images.standard_resolution.width',\n",
        " 'images.thumbnail.height',\n",
        " 'images.thumbnail.url',\n",
        " 'images.thumbnail.width',\n",
        " 'likes.count',\n",
        " 'likes.data',\n",
        " 'link',\n",
        " 'location',\n",
        " 'location.id',\n",
        " 'location.latitude',\n",
        " 'location.longitude',\n",
        " 'location.name',\n",
        " 'tags',\n",
        " 'type',\n",
        " 'user.full_name',\n",
        " 'user.id',\n",
        " 'user.profile_picture',\n",
        " 'user.username',\n",
        " 'users_in_photo',\n",
        " 'videos.low_bandwidth.height',\n",
        " 'videos.low_bandwidth.url',\n",
        " 'videos.low_bandwidth.width',\n",
        " 'videos.low_resolution.height',\n",
        " 'videos.low_resolution.url',\n",
        " 'videos.low_resolution.width',\n",
        " 'videos.standard_resolution.height',\n",
        " 'videos.standard_resolution.url',\n",
        " 'videos.standard_resolution.width']"
       ]
      }
     ],
     "prompt_number": 6
    },
    {
     "cell_type": "markdown",
     "metadata": {},
     "source": [
      "---"
     ]
    },
    {
     "cell_type": "markdown",
     "metadata": {},
     "source": [
      "Most immediate variables that stand out: \n",
      "    - comments.count\n",
      "    - likes.count\n",
      "    "
     ]
    },
    {
     "cell_type": "markdown",
     "metadata": {},
     "source": [
      "* total likes tied to a key hashtag"
     ]
    },
    {
     "cell_type": "code",
     "collapsed": false,
     "input": [
      "df['comments.count'].sum()"
     ],
     "language": "python",
     "metadata": {},
     "outputs": [
      {
       "metadata": {},
       "output_type": "pyout",
       "prompt_number": 88,
       "text": [
        "161"
       ]
      }
     ],
     "prompt_number": 88
    },
    {
     "cell_type": "code",
     "collapsed": false,
     "input": [
      "df['likes.count'].sum()"
     ],
     "language": "python",
     "metadata": {},
     "outputs": [
      {
       "metadata": {},
       "output_type": "pyout",
       "prompt_number": 89,
       "text": [
        "3132"
       ]
      }
     ],
     "prompt_number": 89
    },
    {
     "cell_type": "code",
     "collapsed": false,
     "input": [
      "def instagram_scraper(word):\n",
      "\n",
      "    base_url = \"https://api.instagram.com/v1\"\n",
      "    query=word\n",
      "\n",
      "    url = '{0}/tags/{1}/media/recent?client_id={2}&count=5'.format(base_url, query, client_id)\n",
      "\n",
      "    df = json_normalize(requests.get(url).json()['data'])\n",
      "    \n",
      "    #df = df[['user.username','caption.text','tags','comments.count','likes.count',\n",
      "    #         'filter','type','created_time','user.full_name','user.id','link','location.latitude',\n",
      "    #         'location.longitude']]\n",
      "    \n",
      "    #df.rename(columns={'user.username':'user_name',\n",
      "    #               'caption.text':'caption_text',\n",
      "    #               'tags':'hashtags',\n",
      "    #               'comments.count':'comments_count',\n",
      "    #               'likes.count':'likes_count',\n",
      "    #               'filter':'filter',\n",
      "    #               'created_time':'created_time',\n",
      "    #               'user.full_name':'full_name',\n",
      "    #               'user.id':'user_id',\n",
      "    #               'type':'type',\n",
      "    #               'link':'link',\n",
      "    #               'location.latitude':'latitude',\n",
      "    #               'location.longitude':'longitude'},\n",
      "    #      inplace=True)\n",
      "    \n",
      "    #return df\n",
      "\n",
      "    total_posts = len(df)\n",
      "    total_comments = df['comments.count'].sum()\n",
      "    total_likes = df['likes.count'].sum()\n",
      "\n",
      "    print total_likes, 'people like',total_posts, 'recent posts containing #'+word+'!'\n",
      "    print str(float(total_comments)/float(total_likes))[:5]+'% of Instagram users who have liked posts containing #'+word, 'have commented on a post.'\n",
      "\n"
     ],
     "language": "python",
     "metadata": {},
     "outputs": [],
     "prompt_number": 110
    },
    {
     "cell_type": "code",
     "collapsed": false,
     "input": [],
     "language": "python",
     "metadata": {},
     "outputs": []
    },
    {
     "cell_type": "markdown",
     "metadata": {},
     "source": [
      "---"
     ]
    },
    {
     "cell_type": "markdown",
     "metadata": {},
     "source": [
      "* sentiment of comments on posts containing relevant hashtags"
     ]
    },
    {
     "cell_type": "markdown",
     "metadata": {},
     "source": [
      "*Unpack comments data within a recent media query, aggregate words into a single list and perform distribution analysis*"
     ]
    },
    {
     "cell_type": "markdown",
     "metadata": {},
     "source": [
      "###Note: A Picture is Worth a Thousand Words\n",
      "\n",
      "Here we revisit classic issues in natural language processing.  In this example, the key hashtag is Mayweather.  Positive sentiment can be identified by followers commenting on their support for the fighter.  Negative sentiment can be identified by their disapproval of Mayweather.  Negative sentiment could also however be identified by a positive sentiment pertaining to Pacquiao.  Comments like 'Pacquiao for the win!!!' technical harbor positive sentiment, but are actually negative sentiments in terms of the key hashtag.\n",
      "\n",
      "Non-text characters also come into play, and are quite complicated to deal with.  Especially in the case of Twitter where communication is limited to a short string of words, users are force to communicate accurately which more often than not sacrifices precision.  Instead of conveying positive emotion, users resort to an emoji, which for our purposes is registered in unicode bits.  Handling emoji's is itself an exclusive branch in nltk, even though it is not text processing per se.  \n",
      "\n",
      "For the sake of time and effort, working with purely text elements, hashtag identification, and possibly user-mentions will be easier, but it should be kept in mind that this sacrifices half if not more data in the world of social media."
     ]
    },
    {
     "cell_type": "code",
     "collapsed": false,
     "input": [
      "comments = df['comments.data']"
     ],
     "language": "python",
     "metadata": {},
     "outputs": [],
     "prompt_number": 71
    },
    {
     "cell_type": "code",
     "collapsed": false,
     "input": [
      "[x[0]['text'] for x in comments if len(x) > 0] #all comments on all posts with captions containing the key hashtag"
     ],
     "language": "python",
     "metadata": {},
     "outputs": [
      {
       "metadata": {},
       "output_type": "pyout",
       "prompt_number": 86,
       "text": [
        "[u'Mayweather',\n",
        " u'#boxing #maypac #casa \\ufe0f\\ufe0f#interiordesign #family #comment #follow #mexicansbelike #mayweather #beer #mexico #mexicanproblems #art #may2 #funnyvideos #instaart #purasfallas #paquiao #worldstarmexicans #karaoke  #icecream #SupportYourLocalElotero  #funniest15seconds #paletero #teamelotero #teampaletero #SupportYourLocalPaletero',\n",
        " u'amazing picture! I think you might like to join the martial arts community @martialnation',\n",
        " u'Pacquiao for the win!!! @lakzingard',\n",
        " u'Nice!',\n",
        " u'Lmfaoooo',\n",
        " u'Yes!!! \\U0001f64c\\U0001f3fc \\U0001f44a\\U0001f3fd\\U0001f44a\\U0001f3fd\\U0001f4a2',\n",
        " u\"Why they don't like him I have no ideal @slickstazworld15 niggaz be hating\",\n",
        " u'\\U0001f440\\U0001f440\\U0001f440',\n",
        " u\"@inkd__daddy don't forget to post your fighter's winning round duuude!\",\n",
        " u'Go pacman!',\n",
        " u\"Must chip in. Shit isn't cheap \\U0001f602\",\n",
        " u'#\\u30dc\\u30af\\u30b7\\u30f3\\u30b0 #\\u30d3\\u30c3\\u30b0\\u30de\\u30c3\\u30c1 #\\u30d1\\u30c3\\u30ad\\u30e3\\u30aa #\\u30e1\\u30a4\\u30a6\\u30a7\\u30b6\\u30fc #\\u8d85\\u30d3\\u30c3\\u30b0\\u30de\\u30c3\\u30c1 #\\u751f\\u3067\\u89b3\\u308c\\u308b\\u4eba\\u3044\\u3044\\u306a #pacquiao #mayweather #boxing #Philippines #usa',\n",
        " u'#teampacquiao',\n",
        " u'#Paquiao \\U0001f4aa @joseohv',\n",
        " u'#MayPac #Pacquiao #Mayweather',\n",
        " u'#vegas #fightweekend #mayweather #paquio #afterparty #vegasbaby #cincodemayo #mgm #kaskade #avicii #davidguetta #liljon #vegaspromoter #xspromoter',\n",
        " u'You having a fight party? \\U0001f440\\U0001f440\\U0001f440 lol',\n",
        " u'Can not Wight for the fight @floydmayweather @mgmgrand @mannypacquiao',\n",
        " u'Me!!',\n",
        " u\"Tell me your show isn't during this fight? @maxcomedian\",\n",
        " u'#llseason #mayweather #pacquiao #basquiat #warhol #boxing #art #toronto',\n",
        " u'\\U0001f602\\U0001f602\\U0001f602',\n",
        " u'Where is this happening at?',\n",
        " u'#salutethedj',\n",
        " u'I hate you',\n",
        " u'@b_martinez08 ha ha ha',\n",
        " u'Im there with the crew',\n",
        " u'Kan nie wag nie',\n",
        " u'#mayweather',\n",
        " u'Lol easy access hahha @senorchang007',\n",
        " u'@CLICK_HERE_TO_GET_263_FOLLOWS  @CLICK_HERE_TO_GET_263_FOLLOWS  @CLICK_HERE_TO_GET_263_FOLLOWS',\n",
        " u'\\U0001f648\\U0001f648\\U0001f648',\n",
        " u'\\U0001f6a8\\U0001f6a8\\U0001f6a8\\U0001f6a8\\U0001f6a8\\U0001f6a8\\U0001f6a8\\U0001f6a8\\U0001f6a8\\U0001f6a8\\U0001f6a8\\U0001f6a8\\U0001f6a8\\U0001f6a8\\nText (one full name +  of guys/  of girls club + date) to C. 1-808-359-1212 to reserve Guestlist or Bottle Service at  any Hakkasan Group club!\\n\\U0001f6a8\\U0001f6a8\\U0001f6a8\\U0001f6a8\\U0001f6a8\\U0001f6a8\\U0001f6a8\\U0001f6a8\\U0001f6a8\\U0001f6a8\\U0001f6a8\\U0001f6a8\\U0001f6a8\\U0001f6a8\\U0001f6a8\\U0001f6a8\\U0001f6a8 #Hakkasanpromoter #OmniaPromoter #WetRepubLicPromoter #OmniaLv #HakkasanLv #WetRepublicLv #OmniaVegas #HakkasanVegas #WetRepublicVegas #OmniaLasVegas #HakkasanLasVegas #WetRepublicLasVegas #BellagioFountains #HighRoller #VegasonMyMind #FightWeek2015 #Pacman #mayweather #fightweekvegas #maypac #VegasBound #VegasBoundbaby #HighRoller',\n",
        " u'#tmt #teammayweather #mayweather',\n",
        " u'We love you!',\n",
        " u'#art | #artfido | #artistmafia | #daily_art | #art_empire | #arts_help | #nawden | #art_spotlight | #theartlovers | #artist_sharing | #ProArtists | #the_art_competition | #bestdm | #artsglobal_ | #illustratedmonthly | #artsanity | #sketch_daily | #artist_features | #artist_4_shoutout | #urbanart | #streetart | #spraypaintart | #miami | #wynwood | #boxing | #mayweather | #pacquiao',\n",
        " u\"He's from the Philippines yo\",\n",
        " u'If this happens... \\U0001f621\\U0001f621\\U0001f621',\n",
        " u'Good looks',\n",
        " u'#pacman #mayweather #may2nd #downgoes #pacquiao #teammanny #teamfloyd #teampacquaio #teammayweather',\n",
        " u'You keep saying may weather you sap @johnfedo17 #makeupyourmind #mint',\n",
        " u'Nice try lmao',\n",
        " u'May 1st!!! Fight of the century!!!',\n",
        " u'Are you going to the fight, uncle?',\n",
        " u'#floydmayweather #mayweather #maypac #moneyteam #tmt #boxing #boxeo #may2 #fightofthecentury #mannypacquiao #pacquiao #pacman #teampacquiao #teampacman #philippines #pacman #hboboxing #shoboxing',\n",
        " u'#manny',\n",
        " u'Gonna be there\\U0001f44a\\U0001f3fd',\n",
        " u'Nice pic!',\n",
        " u'Obviiiiiio va a ganar el mejor, Pacquiao<3.',\n",
        " u\"Women logic and sports don't mix\",\n",
        " u'Who will win...',\n",
        " u'MA NNY PAC QUIAO ! ! !',\n",
        " u'@guillequintar @gonzalessantiago',\n",
        " u'Damn shame',\n",
        " u'#TMT #MoneyMayweather #MoneyMay2nd',\n",
        " u'#kickstagram #kicksonfire #kickgame #kicks0l0gy #airjordans #retro3 #infrared3 #jordansdaily #uptown2k #igsneakercommunity #lacedsociety #wearyokicks #yeezyboost #kotd #hypebeast #mayweather #michaeljordan',\n",
        " u'Pacquiao will wipe the floor with him.']"
       ]
      }
     ],
     "prompt_number": 86
    },
    {
     "cell_type": "code",
     "collapsed": false,
     "input": [],
     "language": "python",
     "metadata": {},
     "outputs": []
    },
    {
     "cell_type": "code",
     "collapsed": false,
     "input": [],
     "language": "python",
     "metadata": {},
     "outputs": []
    },
    {
     "cell_type": "markdown",
     "metadata": {},
     "source": [
      "* most active followers "
     ]
    },
    {
     "cell_type": "code",
     "collapsed": false,
     "input": [
      "[str(x[0]['from']['username']) for x in comments if len(x) > 0]"
     ],
     "language": "python",
     "metadata": {},
     "outputs": [
      {
       "metadata": {},
       "output_type": "pyout",
       "prompt_number": 66,
       "text": [
        "['cestlaviezd', 'smirk_life']"
       ]
      }
     ],
     "prompt_number": 66
    },
    {
     "cell_type": "code",
     "collapsed": false,
     "input": [],
     "language": "python",
     "metadata": {},
     "outputs": []
    }
   ],
   "metadata": {}
  }
 ]
}