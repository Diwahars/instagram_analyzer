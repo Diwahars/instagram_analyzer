{
 "metadata": {
  "name": "",
  "signature": "sha256:b32ffda64e7ff3d4385c11ca84d9195fd6f8b8bd7573b9ff6b0f9be66c23d975"
 },
 "nbformat": 3,
 "nbformat_minor": 0,
 "worksheets": [
  {
   "cells": [
    {
     "cell_type": "code",
     "collapsed": false,
     "input": [
      "import requests\n",
      "from bs4 import BeautifulSoup as bs\n",
      "import urllib3\n",
      "import nltk\n",
      "import pandas as pd"
     ],
     "language": "python",
     "metadata": {},
     "outputs": [],
     "prompt_number": 1
    },
    {
     "cell_type": "code",
     "collapsed": false,
     "input": [
      "#Scraping Google search for buzzwords"
     ],
     "language": "python",
     "metadata": {},
     "outputs": [],
     "prompt_number": 2
    },
    {
     "cell_type": "code",
     "collapsed": false,
     "input": [
      "def search(keywords):\n",
      "    google = 'https://www.google.com/search?q='\n",
      "    query = str('+'.join(keywords))\n",
      "    return google+query"
     ],
     "language": "python",
     "metadata": {},
     "outputs": [],
     "prompt_number": 3
    },
    {
     "cell_type": "code",
     "collapsed": false,
     "input": [
      "test = 'https://news.google.com/'\n",
      "top = '</head>'\n",
      "bottom = '</body>'"
     ],
     "language": "python",
     "metadata": {},
     "outputs": [],
     "prompt_number": 4
    },
    {
     "cell_type": "code",
     "collapsed": false,
     "input": [
      "r = requests.get(test)\n",
      "html = r.text\n",
      "trim = html.split(top)[1].split(bottom)[0]\n",
      "soup = bs(trim)\n",
      "text = soup.get_text()"
     ],
     "language": "python",
     "metadata": {},
     "outputs": [],
     "prompt_number": 5
    },
    {
     "cell_type": "code",
     "collapsed": false,
     "input": [
      "raw_headlines = soup.find_all('span', attrs={'class':'titletext'})\n",
      "headlines = [x.text.encode('utf-8') for x in raw_headlines]\n",
      "tokenized_headlines = [nltk.word_tokenize(x) for x in headlines]\n",
      "pos_tags = [nltk.pos_tag(x) for x in tokenized_headlines]"
     ],
     "language": "python",
     "metadata": {},
     "outputs": [],
     "prompt_number": 6
    },
    {
     "cell_type": "code",
     "collapsed": false,
     "input": [
      "#Standardized Word Banks:\n",
      "\n",
      "url = 'https://raw.githubusercontent.com/jeffreybreen/twitter-sentiment-analysis-tutorial-201107/master/data/opinion-lexicon-English/negative-words.txt'\n",
      "\n",
      "r = requests.get(url)\n",
      "raw_text = r.text\n",
      "top = '\\n2-faces\\n'\n",
      "text = raw_text.split(top)[1]\n",
      "neg_bank = text.splitlines()\n",
      "print len(neg_bank)\n",
      "\n",
      "url = 'https://raw.githubusercontent.com/jeffreybreen/twitter-sentiment-analysis-tutorial-201107/master/data/opinion-lexicon-English/positive-words.txt'\n",
      "\n",
      "r = requests.get(url)\n",
      "raw_text = r.text\n",
      "\n",
      "top = '\\n\\na+\\n'\n",
      "text = raw_text.split(top)[1]\n",
      "pos_bank = text.splitlines()\n",
      "print len(pos_bank)"
     ],
     "language": "python",
     "metadata": {},
     "outputs": [
      {
       "output_type": "stream",
       "stream": "stdout",
       "text": [
        "4781\n",
        "2005"
       ]
      },
      {
       "output_type": "stream",
       "stream": "stdout",
       "text": [
        "\n"
       ]
      }
     ],
     "prompt_number": 7
    },
    {
     "cell_type": "code",
     "collapsed": false,
     "input": [
      "[nltk.word_tokenize(x) for x in neg_bank]\n",
      "neg_tokens = [x for y in nltk.word_tokenize(x) for x in neg_bank]\n",
      "neg_pos = nltk.pos_tag(neg_tokens)\n",
      "\n",
      "[nltk.word_tokenize(x) for x in pos_bank]\n",
      "pos_tokens = [x for y in nltk.word_tokenize(x) for x in pos_bank]\n",
      "pos_pos = nltk.pos_tag(pos_tokens)"
     ],
     "language": "python",
     "metadata": {},
     "outputs": [],
     "prompt_number": 8
    },
    {
     "cell_type": "code",
     "collapsed": false,
     "input": [
      "def find_bigrams(words): #where words is a list of strings\n",
      "    return [b for l in words for b in zip(l.split(' ')[:-1], l.split(' ')[1:])]\n",
      "\n",
      "def find_trigrams(words): #where words is a list of strings\n",
      "    return [b for l in words for b in zip(l.split(' ')[:-1], l.split(' ')[1:], l.split(' ')[2:])]"
     ],
     "language": "python",
     "metadata": {},
     "outputs": [],
     "prompt_number": 9
    },
    {
     "cell_type": "code",
     "collapsed": false,
     "input": [
      "test = [headlines[19]]\n",
      "print test\n",
      "\n",
      "atest = nltk.pos_tag(nltk.word_tokenize(test[0]))\n",
      "\n",
      "for x in atest:\n",
      "    if 'VB' in x[1]:\n",
      "        if x[0] in pos_bank:\n",
      "            print x[0], 'is an identified negative word'\n",
      "            #assign negative sentiment to \n",
      "            print 'trigram',[x[0] for x in atest if 'NN' in x[1]][:3], 'should be assigned a negative sentiment'"
     ],
     "language": "python",
     "metadata": {},
     "outputs": [
      {
       "output_type": "stream",
       "stream": "stdout",
       "text": [
        "[\"'Mega-disasters' and other reasons why WHO director's speech should scare you\"]\n"
       ]
      }
     ],
     "prompt_number": 102
    },
    {
     "cell_type": "code",
     "collapsed": false,
     "input": [
      "def bank_match(atest):\n",
      "    for x in atest:\n",
      "        if x[0] in neg_bank:\n",
      "            print x, 'in neg_bank:'\n",
      "        if x[0] in pos_bank:\n",
      "            print x, 'in pos_bank:'\n",
      "            \n",
      "bank_match(atest)"
     ],
     "language": "python",
     "metadata": {},
     "outputs": [
      {
       "output_type": "stream",
       "stream": "stdout",
       "text": [
        "('scare', 'VB') in neg_bank:\n"
       ]
      }
     ],
     "prompt_number": 103
    },
    {
     "cell_type": "code",
     "collapsed": false,
     "input": [],
     "language": "python",
     "metadata": {},
     "outputs": [],
     "prompt_number": 69
    },
    {
     "cell_type": "code",
     "collapsed": false,
     "input": [
      "for x in atest:\n",
      "    if x[0] in neg_bank:\n",
      "        print 'negative', atest\n",
      "    if x[0] in pos_bank:\n",
      "        print 'positive', atest"
     ],
     "language": "python",
     "metadata": {},
     "outputs": [],
     "prompt_number": 12
    },
    {
     "cell_type": "code",
     "collapsed": false,
     "input": [
      "#match all proper nouns in headline to post"
     ],
     "language": "python",
     "metadata": {},
     "outputs": [],
     "prompt_number": 13
    },
    {
     "cell_type": "code",
     "collapsed": false,
     "input": [
      "#find first verb and relevant nouns\n",
      "tagged = [nltk.pos_tag(headline) for headline in tokenized_headlines]\n",
      "tagged[1]"
     ],
     "language": "python",
     "metadata": {},
     "outputs": []
    },
    {
     "cell_type": "raw",
     "metadata": {},
     "source": [
      "for tag in tagged:\n",
      "    for word in tag:\n",
      "        #find tri-grams (noun, verb, x)\n",
      "        if 'VB' in word[1]:\n",
      "            if word[0] in neg_bank:\n",
      "                print 'negative verb found:',word\n",
      "                print 'from headline',tag,'\\n'\n",
      "            if '?' not in tag:\n",
      "                if word[0] in pos_bank:\n",
      "                    print 'positive verb found:',word\n",
      "                    print 'from headline',tag,'\\n'\n",
      "        \n",
      "        #find bi-grams (adjective, noun)\n",
      "        if 'JJ' in word[1]:\n",
      "            if word[0] in neg_bank:\n",
      "                print 'negative adjective found:',word\n",
      "                print 'from headline',tag,'\\n'\n",
      "            if '?' not in tag:\n",
      "                if word[0] in pos_bank:\n",
      "                    print 'positive adjective found:',word\n",
      "                    print 'from headline',tag,'\\n'\n",
      "                    \n",
      "            "
     ]
    },
    {
     "cell_type": "raw",
     "metadata": {},
     "source": [
      "for headline in tokenized_headlines:\n",
      "    for word in headline:\n",
      "        if word in neg_bank:\n",
      "            #print headline #returns tokens from headlines containing negative words\n",
      "                     \n",
      "            #now that we have the headlines with negative words, \n",
      "            #isolate the subject and the main verbs from each headline\n",
      "            #assign a -1 sentiment to this bigram of main noun and verb\n",
      "            #add bigram to list of negative tokens\n",
      "            \n",
      "            #first, pos_tag each headline\n",
      "            tags = nltk.pos_tag(headline)\n",
      "            for tag in tags:\n",
      "                if tag[1] == 'NN':\n",
      "                    print tags\n",
      "            #find_bigrams(x)"
     ]
    },
    {
     "cell_type": "code",
     "collapsed": false,
     "input": [
      "found_negs = list()\n",
      "for headline in tokenized_headlines:\n",
      "    for word in headline:\n",
      "        if word in neg_bank:\n",
      "            tags = nltk.pos_tag(headline)\n",
      "            for tag in tags:\n",
      "                if 'JJ' in tag[1]:\n",
      "                    print tag[0], ' '.join([tag[0] for tag in tags if 'NN' in tag[1]])\n"
     ],
     "language": "python",
     "metadata": {},
     "outputs": [
      {
       "output_type": "stream",
       "stream": "stdout",
       "text": [
        "gargantuan Barack Obama shocking TPP paradox trade deal\n",
        "other"
       ]
      },
      {
       "output_type": "stream",
       "stream": "stdout",
       "text": [
        " 'Mega-disasters reasons WHO director speech\n",
        "'out"
       ]
      },
      {
       "output_type": "stream",
       "stream": "stdout",
       "text": [
        " Marlins box creative\n",
        "mean Marlins box creative\n",
        "avoidable"
       ]
      },
      {
       "output_type": "stream",
       "stream": "stdout",
       "text": [
        " fall Ramadi\n",
        "Indian"
       ]
      },
      {
       "output_type": "stream",
       "stream": "stdout",
       "text": [
        " nurse dies decades coma TRFN\n",
        "Indian"
       ]
      },
      {
       "output_type": "stream",
       "stream": "stdout",
       "text": [
        " nurse dies years rape left state\n",
        "brutal nurse dies years rape left state\n",
        "vegetative nurse dies years rape left state\n",
        "Indian nurse dies years rape left state\n",
        "brutal nurse dies years rape left state\n",
        "vegetative nurse dies years rape left state\n",
        "Indian"
       ]
      },
      {
       "output_type": "stream",
       "stream": "stdout",
       "text": [
        " nurse dies years rape left state\n",
        "brutal nurse dies years rape left state\n",
        "vegetative nurse dies years rape left state\n",
        "oldest"
       ]
      },
      {
       "output_type": "stream",
       "stream": "stdout",
       "text": [
        " World comatose patient Aruna Shanbaug dead\n",
        "military"
       ]
      },
      {
       "output_type": "stream",
       "stream": "stdout",
       "text": [
        " Europe response crisis\n",
        "ridiculous candidates president\n",
        "latest"
       ]
      },
      {
       "output_type": "stream",
       "stream": "stdout",
       "text": [
        " Amtrak crash Obama thanks workers\n",
        "'Game"
       ]
      },
      {
       "output_type": "stream",
       "stream": "stdout",
       "text": [
        " Thrones scene Author George RR Martin\n",
        "'loved"
       ]
      },
      {
       "output_type": "stream",
       "stream": "stdout",
       "text": [
        " Game Thrones Sophie Turner scene\n",
        "latest"
       ]
      },
      {
       "output_type": "stream",
       "stream": "stdout",
       "text": [
        " Amtrak crash Obama thanks workers\n",
        "new"
       ]
      },
      {
       "output_type": "stream",
       "stream": "stdout",
       "text": [
        " iPhone release date rumours features Force Touch display Rose\n",
        "Editorial"
       ]
      },
      {
       "output_type": "stream",
       "stream": "stdout",
       "text": [
        " Deny sanctuary motorcycle gangs\n",
        "criminal Deny sanctuary motorcycle gangs\n",
        "free"
       ]
      },
      {
       "output_type": "stream",
       "stream": "stdout",
       "text": [
        " Extreme climber Dean Potter BASE jump\n",
        "cynical"
       ]
      },
      {
       "output_type": "stream",
       "stream": "stdout",
       "text": [
        " Mad Men finale peace Coca-Cola\n",
        "military"
       ]
      },
      {
       "output_type": "stream",
       "stream": "stdout",
       "text": [
        " ISIS takeover Ramadi setback\n"
       ]
      }
     ],
     "prompt_number": 156
    },
    {
     "cell_type": "code",
     "collapsed": false,
     "input": [
      "def neg_ngram(tokenized_headlines):\n",
      "    found_negs = list()\n",
      "    for headline in tokenized_headlines:\n",
      "        for word in headline:\n",
      "            if word in neg_bank:\n",
      "                tags = nltk.pos_tag(headline)\n",
      "                for tag in tags:\n",
      "                    if 'VB' in tag[1]:\n",
      "                        trigrams = find_trigrams([' '.join(headline)])\n",
      "                        for trigram in trigrams:\n",
      "                            tags = nltk.pos_tag(trigram)\n",
      "                            for tag in tags:\n",
      "                                if 'VB' in tag[1]:\n",
      "                                    if tag[0] in neg_bank:\n",
      "                                        found_negs.append(str(' '.join(trigram)))\n",
      "                    if 'JJ' in tag[1]:\n",
      "                        for x in tag:\n",
      "                            \n",
      "                            \n",
      "    return found_negs"
     ],
     "language": "python",
     "metadata": {},
     "outputs": [],
     "prompt_number": 148
    },
    {
     "cell_type": "code",
     "collapsed": false,
     "input": [
      "set(neg_ngram(tokenized_headlines))"
     ],
     "language": "python",
     "metadata": {},
     "outputs": [
      {
       "metadata": {},
       "output_type": "pyout",
       "prompt_number": 149,
       "text": [
        "{', civilians flee',\n",
        " 'Aruna Shanbaug dies',\n",
        " 'Clippers fumble away',\n",
        " 'Court rules felon',\n",
        " 'Four passengers sue',\n",
        " 'Plane hack seems',\n",
        " 'Plane hack through',\n",
        " \"That horrifying 'Game\",\n",
        " 'a brutal',\n",
        " 'brutal rape',\n",
        " 'civilians flee as',\n",
        " 'creative or doomed',\n",
        " 'criminal motorcycle',\n",
        " 'cynical about',\n",
        " 'getting ridiculous',\n",
        " \"horrifying 'Game of\",\n",
        " 'or doomed ?',\n",
        " 'passengers sue Amtrak',\n",
        " 'rules felon can',\n",
        " 'should scare you',\n",
        " 'so cynical',\n",
        " 'speech should scare',\n",
        " 'that horrifying scene',\n",
        " 'to criminal'}"
       ]
      }
     ],
     "prompt_number": 149
    },
    {
     "cell_type": "code",
     "collapsed": false,
     "input": [
      "for headline in tokenized_headlines:\n",
      "    print ' '.join(headline)"
     ],
     "language": "python",
     "metadata": {},
     "outputs": [
      {
       "output_type": "stream",
       "stream": "stdout",
       "text": [
        "Waco police : Some victims may have been shot by officers\n",
        "Waco , Texas , Biker Shooting : A Look at the Gangs That May Be Involved\n",
        "Police say 170 arrested in deadly biker gang shootout at Texas restaurant\n",
        "Revenge attacks feared after deadly Texas biker gang shootout\n",
        "2015 Waco shootout\n",
        "Elizabeth Warren Details Obama 's Broken Trade Promises\n",
        "This Time , Sen. Warren Slams Obama on Labor Enforcement in Trade Deals\n",
        "Warren hits Obama 's trade agenda over labor protections\n",
        "Why ca n't Obama lead on trade ?\n",
        "Barack Obama 's shocking TPP paradox : Why the gargantuan trade deal ...\n",
        "Barack Obama joins Twitter ; follows all Chicago pro teams except Cubs\n",
        "More than six years in , Obama gets his own Twitter account : 'Hello , Twitter ! It 's ...\n",
        "'Mad Men ' finale recap : There 's no place like om\n",
        "Classic Coke Spot Adds to Mystery of 'Mad Men ' Finale\n",
        "'Mad Men ' Finale : The Story Behind the Coke Ad\n",
        "Coke and Sympathy : 10 Thoughts on 'Mad Men ' Series Finale\n",
        "Mad Men : `` Person to Person '' Review\n",
        "Farewell , Don Draper\n",
        "WHO Leader Outlines Changes in Response to Ebola Epidemic\n",
        "'Mega-disasters ' and other reasons why WHO director 's speech should scare you\n",
        "WHO Vows Reform After Ebola Outbreak Mistakes\n",
        "Marlins introduce GM Dan Jennings as manager after 'organic ' process\n",
        "Naming Dan Jennings manager simply a crazy decision by Marlins\n",
        "For Marlins , does 'out of the box ' mean creative or doomed ?\n",
        "Dan Jennings Named Marlins Manager : Latest Details , Comments , Reaction\n",
        "History of the Miami Marlins\n",
        "Iraqi forces , civilians flee as ISIS gains control of Ramadi , US official says\n",
        "Iraqi Defense minister meets US Army general\n",
        "Why ISIS Can Still Defeat the Iraqi Army in Spite of US Help\n",
        "The fall of Ramadi was avoidable\n",
        "ISIS seizes key Iraqi city of Ramadi : What happens next ?\n",
        "Battle of Ramadi\n",
        "Elian Gonzalez Wants to Visit the US\n",
        "Elian Gonzalez : A Look at His Life Now\n",
        "Cuban rafter Eli\u00e1n Gonz\u00e1lez said he wants to travel to the US , visit a baseball ...\n",
        "Cuban \u201cRafter\u201d Elian Gonz\u00e1lez Wants to Visit USA\n",
        "Indian nurse dies four decades after being sodomised and left in a coma - TRFN\n",
        "Indian nurse dies 42 years after a brutal rape left her in a vegetative state\n",
        "Indian Nurse Dies After 42 Years in a Coma Following Rape\n",
        "World 's oldest comatose patient Aruna Shanbaug dead\n",
        "Aruna Shanbaug case\n",
        "EU backs migrant crisis naval force\n",
        "Top EU diplomat going to Mideast to try to revive peace process , move beyond ...\n",
        "EU Approves Mission to Fight People Smugglers Operating from Libya\n",
        "Europe plans military response to migrant crisis\n",
        "Lindsey Graham to seek Republican nomination for president\n",
        "How candidates announce for president is getting ridiculous\n",
        "Sen. Lindsey Graham Is 'Having A Blast ' As He Preps Presidential Run\n",
        "Graham sets June 1 for 2016 announcement -- then says 'I 'm running '\n",
        "Republican Party presidential primaries , 2016\n",
        "Four passengers sue Amtrak over deadly Philadelphia derailment\n",
        "4 passengers on train that derailed in Philadelphia file lawsuit over injuries\n",
        "The latest on Amtrak crash : Obama thanks rescue workers\n",
        "2015 Philadelphia train derailment\n",
        "Obama announces restrictions on distribution of military-style equipment to police\n",
        "Obama moves to demilitarize America 's police\n",
        "Military Gear That Police Wo n't Get From Pentagon Anymore\n",
        "Obama moves to curb 'militarization ' of police : A shift in law enforcement 's role ?\n",
        "WATCH LIVE : Obama to speak in Camden at 3:10 p.m .\n",
        "Icahn says Apple shares `` still dramatically undervalued ''\n",
        "Why Carl Icahn Thinks Apple 's Stock Is Worth $ 240\n",
        "Apple shares 'undervalued ' says billionaire investor Icahn\n",
        "Apple Inc. ( AAPL ) Has 86 % Upside From Current Price : Carl Icahn\n",
        "3 ways you can still profit from Apple stock\n",
        "Dow , S & P touch record highs\n",
        "Stocks Gain ; Dow , S & P 500 Flirt With Records\n",
        "Endo to Buy Par Pharma for About $ 8 Billion\n",
        "Inside the Endo Deal to Buy Par Pharma for $ 8.05B\n",
        "UPDATE 2-Endo pushes further into generics with $ 8 bln Par Pharma buy\n",
        "European Stocks End Choppy Session Higher\n",
        "Europe shares steady on Greek rebound , Germany outperforms\n",
        "EUROPE MARKETS : European Stocks Gain Ground As Euro Softens\n",
        "Apple Gains Edge as Appeals Court Rules Samsung Infringed\n",
        "Court Agrees Samsung Copied Apple , but Reduces Damage Award\n",
        "Apple 's $ 930M Legal Win Over Samsung Partially Reversed\n",
        "US appeals court reverses part of Apple 's $ 930 million verdict vs Samsung\n",
        "Apple 's $ 930 million legal win over Samsung gets partially reversed\n",
        "Experts : Plane hack through infotainment box seems unlikely\n",
        "FBI Claims Researcher Actually Took Control Of Plane\n",
        "Man 's Claims of Hacking Plane Discredited by Law Enforcement\n",
        "Feds Say That Banned Researcher Commandeered a Plane\n",
        "Did a hacker really make a plane go sideways ?\n",
        "Apple buys navigation technology start-up\n",
        "Apple buys GPS firm Coherent Navigation , reports say\n",
        "Apple buys GPS startup Coherent to beef up mapping technology\n",
        "Apple Appears to Have Acquired GPS Firm Coherent Navigation [ Confirmed ]\n",
        "Apple Is Mapping Out Better Navigation With The Acquisition of GPS Firm ...\n",
        "LG 's G4 Smartphone : What You Need to Know\n",
        "LG G4 Global Launch Begins in Hong Kong\n",
        "One of the Best Smartphones for Photography Is Now on Sale\n",
        "LG 's G4 Flagship Smartphone Begins To Go On Sale Worldwide\n",
        "Molly Ringwald and Simple Minds Honor 30th Anniversary of The Breakfast Club ...\n",
        "The best moments from Taylor Swift 's 'Bad Blood ' video\n",
        "Taylor Swift makes history at Billboard Music Awards with 20-career wins , bests ...\n",
        "2015 BBMA 's : Live Streaming , Red Carpet , Performances & More\n",
        "Bruce Jenner : Kim Kardashian Has Met 'Her '\n",
        "Kardashians ' show reveals roller coaster of Jenner 's transition\n",
        "Bruce Jenner to have full reassignment surgery\n",
        "Kim Kardashian Breaks Down in Tears Over How Kris Jenner Is Dealing With ...\n",
        "'Steve Jobs ' trailer : Michael Fassbender takes on a tech iCon\n",
        "ArtsBeat | About That 'Steve Jobs ' Trailer\n",
        "First Trailer Released for Aaron Sorkin 's Steve Jobs Film\n",
        "STEVE JOBS : Get a First Look at Michael Fassbender\n",
        "That horrifying 'Game of Thrones ' scene ? Author George RR Martin responds\n",
        "Game of Thrones : George RR Martin Defends 'Black Wedding ' Scene\n",
        "'Game of Thrones ' Season 5 , Episode 6 , Explained in GIFs\n",
        "Game of Thrones : Sophie Turner says she 'loved ' that horrifying scene\n",
        "Preakness Results 2015 : Finishing Times and Replay Analysis from Pimlico Race\n",
        "More lessons\n",
        "American Pharoah set to win big with stud fees\n",
        "2015 Belmont Stakes Information and General Tips\n",
        "Preakness 2015 : American Pharoah Wins Second Leg of Triple Crown\n",
        "2015 Preakness Stakes\n",
        "Warriors favored over Cavs in Vegas to win NBA championship\n",
        "Los Angeles Clippers vs. Houston Rockets : Live Score and Analysis for Game 7\n",
        "Clippers fumble away a season , Houston caps a clutch comeback and wins ...\n",
        "Clippers-Rockets Game 7 : This Is About More Than Survival\n",
        "NBA Playoff Preview - Golden State vs. Houston\n",
        "Flyers ' Dave Hakstol hire a shrewd , outside-the-box move\n",
        "Philadelphia Flyers Make Bold Move in Hiring Dave Hakstol\n",
        "Flyers name North Dakota 's Dave Hakstol as new head coach\n",
        "Who is new Flyers head coach Dave Hakstol ?\n",
        "This One Photo : Australia 's aurora captured in space\n",
        "ISS Could Get Laser Cannon to Fight Space Debris\n",
        "Space Junk Seeking Laser Could Soon Come to International Space Station via ...\n",
        "Lights will guide you home : Astronaut tweets amazing images of aurora from space\n",
        "Robotic Space Plane Launches in Mystery Mission This Week\n",
        "May 18 , 2015 in News : Preview : X-37B spaceplane to journey back into space ...\n",
        "Atlas V `` go '' for Wednesday launch of X-37B mini-shuttle\n",
        "Identical triplet girls , two conjoined , born in Texas\n",
        "Identical triplets , 2 conjoined , born in Corpus Christi\n",
        "Rare identical triplets born in Texas with two of the newborns being conjoined at ...\n",
        "Identical Triplets , Two Conjoined , Born at Bay Area Hospital\n",
        "Rare Identical Triples -- Two of Which Are Conjoined -- Born in Texas\n",
        "Cigarettes or Hard Cash \u2013 Smokers are offered money to quit. The results are ...\n",
        "Quit smoking\n",
        "Will cash incentives help employees to quit smoking ?\n",
        "Unions pour millions into Clinton Foundation\n",
        "Supreme Court rules felon can sell gun collection -- with restrictions\n",
        "The latest on Amtrak crash : Obama thanks rescue workers\n",
        "The Weather Channel\n",
        "Weather Underground\n",
        "AccuWeather\n",
        "Police Investigating Fraudulent Return Report at Home Depot\n",
        "Bridgewater Teacher of the Year Katie Tricarico Honored by County\n",
        "Click It or Ticket Campaign Begins Today\n",
        "Art Imitating Life : Why Last Week 's Art Auctions Matter to Investors\n",
        "S & P 500 Shakes Off Bad Economic Data in Late Rally\n",
        "Stocks Race Near All-Time Highs Despite Weak PPI Data\n",
        "Bad Retail Sales Numbers Destroy Early Rally\n",
        "Market Remain Mixed on Euro Bond Yield Surge\n",
        "Please , Mr. President , Read This Before You Go to Camp David\n",
        "Mary Lee , the Great White Shark , Spotted Along Jersey Shore\n",
        "iPhone 6S release date rumours & new features : Force Touch display , Rose ...\n",
        "Tina Knowles Writes Mother 's Day Note to Beyonce and Solange\n",
        "Apple Retina Macbook Pro 2015 release date at WWDC in June ?\n",
        "Ana Becomes a Tropical Storm | The Weather Channel\n",
        "Oil price policy a success , says Saudi Arabia\n",
        "'Longmire ' season 4 spoilers , cast updates : Guest star J. Michael Trautmann ...\n",
        "A new record for S.F. rents : $ 3458 a month\n",
        "Southern California weather forecast - Los Angeles , Orange County , Inland ...\n",
        "Building tiny houses into big help for Los Angeles ' homeless\n",
        "Editorial : Deny sanctuary to criminal motorcycle gangs\n",
        "Kanye West 'kept Billboard Music Awards performance a secret leaving show ...\n",
        "Extreme free climber Dean Potter dies during BASE jump\n",
        "Mad Men finale : What 's so cynical about peace , love and Coca-Cola ?\n",
        "Military gear that police wo n't get from Pentagon anymore\n",
        "Aruna Shanbaug dies four decades after being sodomised and left in a coma ...\n",
        "Did Game of Thrones ' New Twist Go Too Far ? George R.R. Martin Weighs In\n",
        "Experts : Plane hack seems unlikely\n",
        "ISIS takeover of Ramadi a setback : US military\n",
        "Discovery opens the door for do-it-yourself morphine , painkillers\n"
       ]
      }
     ],
     "prompt_number": 118
    },
    {
     "cell_type": "code",
     "collapsed": false,
     "input": [],
     "language": "python",
     "metadata": {},
     "outputs": []
    },
    {
     "cell_type": "code",
     "collapsed": false,
     "input": [],
     "language": "python",
     "metadata": {},
     "outputs": []
    },
    {
     "cell_type": "code",
     "collapsed": false,
     "input": [
      "def google_search(keywords):\n",
      "    r = requests.get('https://www.google.com/#safe=off&q='+keywords)\n",
      "    html = r.text\n",
      "    soup = bs(html)\n",
      "    text = soup.get_text()\n",
      "    print text"
     ],
     "language": "python",
     "metadata": {},
     "outputs": []
    },
    {
     "cell_type": "code",
     "collapsed": false,
     "input": [
      "r = requests.get(url)\n",
      "print r"
     ],
     "language": "python",
     "metadata": {},
     "outputs": []
    },
    {
     "cell_type": "code",
     "collapsed": false,
     "input": [
      "top = '</head>'\n",
      "bottom = '</body>'"
     ],
     "language": "python",
     "metadata": {},
     "outputs": []
    },
    {
     "cell_type": "code",
     "collapsed": false,
     "input": [
      "print html.split(top)[1].split(bottom)[0]"
     ],
     "language": "python",
     "metadata": {},
     "outputs": []
    },
    {
     "cell_type": "code",
     "collapsed": false,
     "input": [
      "url = 'http://www.wsj.com'"
     ],
     "language": "python",
     "metadata": {},
     "outputs": []
    },
    {
     "cell_type": "code",
     "collapsed": false,
     "input": [
      "media_tokenize(url)"
     ],
     "language": "python",
     "metadata": {},
     "outputs": []
    },
    {
     "cell_type": "code",
     "collapsed": false,
     "input": [],
     "language": "python",
     "metadata": {},
     "outputs": []
    }
   ],
   "metadata": {}
  }
 ]
}