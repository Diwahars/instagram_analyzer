{
 "metadata": {
  "name": "",
  "signature": "sha256:094503e147a77e4dc5784444aa156f636c450cc9f9b71549c0fdcb8bbd39984b"
 },
 "nbformat": 3,
 "nbformat_minor": 0,
 "worksheets": []
}