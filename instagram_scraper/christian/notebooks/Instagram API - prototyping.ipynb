{
 "metadata": {
  "name": "",
  "signature": "sha256:03d2082987da57d3588c761bf2aa102983a8e81a299fb92c8e386446a9cf607e"
 },
 "nbformat": 3,
 "nbformat_minor": 0,
 "worksheets": [
  {
   "cells": [
    {
     "cell_type": "markdown",
     "metadata": {},
     "source": [
      "###Objective: Create a program that scrapes Instagram data for a specified keyword and returns insightful data"
     ]
    },
    {
     "cell_type": "markdown",
     "metadata": {},
     "source": [
      "1) specify keyword  \n",
      "2) touch api  \n",
      "3) return data  \n",
      "4) plot data  "
     ]
    },
    {
     "cell_type": "markdown",
     "metadata": {},
     "source": [
      "---"
     ]
    },
    {
     "cell_type": "code",
     "collapsed": false,
     "input": [
      "print 'Instagram API Documentation:', 'https://instagram.com/developer/'\n",
      "print 'python-instagram repo:', 'https://github.com/Instagram/python-instagram/blob/master/README.md'\n",
      "print 'project repo:', 'https://github.com/odubno/instagram_scraper'"
     ],
     "language": "python",
     "metadata": {},
     "outputs": [
      {
       "output_type": "stream",
       "stream": "stdout",
       "text": [
        "Instagram API Documentation: https://instagram.com/developer/\n",
        "python-instagram repo: https://github.com/Instagram/python-instagram/blob/master/README.md\n",
        "project repo: https://github.com/odubno/instagram_scraper\n"
       ]
      }
     ],
     "prompt_number": 1
    },
    {
     "cell_type": "markdown",
     "metadata": {},
     "source": [
      "##Config"
     ]
    },
    {
     "cell_type": "code",
     "collapsed": false,
     "input": [
      "from instagram.client import InstagramAPI\n",
      "import requests\n",
      "import urllib2\n",
      "import json\n",
      "import pandas as pd\n",
      "from pandas.io.json import json_normalize\n",
      "import matplotlib as mpl\n",
      "from matplotlib import pyplot as plt"
     ],
     "language": "python",
     "metadata": {},
     "outputs": [],
     "prompt_number": 2
    },
    {
     "cell_type": "code",
     "collapsed": false,
     "input": [
      "cid = 'd4ec778deaca482085b02c8556b6c2dd'\n",
      "csecret = '201d0a1ed4c04ff08f82b96315c303bf'\n",
      "curl = 'https://github.com/c-trl'\n",
      "uri = 'https://instagram.com/developer'\n",
      "url = 'https://instagram.com/oauth/authorize/?client_id='+cid+'&redirect_uri='+uri+'&response_type=token'\n",
      "api = InstagramAPI(client_id=cid, client_secret=csecret)"
     ],
     "language": "python",
     "metadata": {},
     "outputs": [],
     "prompt_number": 3
    },
    {
     "cell_type": "code",
     "collapsed": false,
     "input": [
      "access = 'https://instagram.com/oauth/authorize/?client_id='+cid+'&redirect_uri='+uri+'&response_type=token'\n",
      "print access"
     ],
     "language": "python",
     "metadata": {},
     "outputs": [
      {
       "output_type": "stream",
       "stream": "stdout",
       "text": [
        "https://instagram.com/oauth/authorize/?client_id=d4ec778deaca482085b02c8556b6c2dd&redirect_uri=https://instagram.com/developer&response_type=token\n"
       ]
      }
     ],
     "prompt_number": 4
    },
    {
     "cell_type": "code",
     "collapsed": false,
     "input": [
      "requests.get(access).url"
     ],
     "language": "python",
     "metadata": {},
     "outputs": [
      {
       "metadata": {},
       "output_type": "pyout",
       "prompt_number": 5,
       "text": [
        "u'https://instagram.com/accounts/login/?force_classic_login=&next=/oauth/authorize/%3Fclient_id%3Dd4ec778deaca482085b02c8556b6c2dd%26redirect_uri%3Dhttps%3A//instagram.com/developer%26response_type%3Dtoken'"
       ]
      }
     ],
     "prompt_number": 5
    },
    {
     "cell_type": "code",
     "collapsed": false,
     "input": [
      "token = '1265541089.d4ec778.3a455b41bc6643cbb2e0c406cfcce3ff' #copy/pasted from resulting URL after going to access above"
     ],
     "language": "python",
     "metadata": {},
     "outputs": [],
     "prompt_number": 6
    },
    {
     "cell_type": "markdown",
     "metadata": {},
     "source": [
      "---"
     ]
    },
    {
     "cell_type": "markdown",
     "metadata": {},
     "source": [
      "###Running through Instagram's API Documentation: Useful endpoints for deciding on a query"
     ]
    },
    {
     "cell_type": "markdown",
     "metadata": {},
     "source": [
      "####GET /tags/search\n",
      "Search for tags by name."
     ]
    },
    {
     "cell_type": "code",
     "collapsed": false,
     "input": [
      "#Q\tA valid tag name without a leading #. (eg. snowy, nofilter)\n",
      "query = raw_input('enter a hashtag you would like to search: ')"
     ],
     "language": "python",
     "metadata": {},
     "outputs": [
      {
       "name": "stdout",
       "output_type": "stream",
       "stream": "stdout",
       "text": [
        "enter a hashtag you would like to search: pacquiao\n"
       ]
      }
     ],
     "prompt_number": 71
    },
    {
     "cell_type": "code",
     "collapsed": false,
     "input": [
      "df = json_normalize(requests.get('https://api.instagram.com/v1/tags/search?q='+query+'&access_token='+token).json()['data'])"
     ],
     "language": "python",
     "metadata": {},
     "outputs": [],
     "prompt_number": 72
    },
    {
     "cell_type": "code",
     "collapsed": false,
     "input": [
      "df.head(5).plot(kind='barh',\n",
      "        title='Top 5 Tags Containing: '+query,\n",
      "        y='media_count',\n",
      "        x='name',\n",
      "        figsize=(10,10))"
     ],
     "language": "python",
     "metadata": {},
     "outputs": [
      {
       "metadata": {},
       "output_type": "pyout",
       "prompt_number": 99,
       "text": [
        "<matplotlib.axes._subplots.AxesSubplot at 0x13e833c8>"
       ]
      },
      {
       "metadata": {},
       "output_type": "display_data",
       "png": "[encoded data removed]",
       "text": [
        "<matplotlib.figure.Figure at 0x13d58ac8>"
       ]
      }
     ],
     "prompt_number": 99
    },
    {
     "cell_type": "code",
     "collapsed": false,
     "input": [
      "json_normalize(requests.get('https://api.instagram.com/v1/tags/search?q='+query+'&access_token='+token).json()['data']).head()"
     ],
     "language": "python",
     "metadata": {},
     "outputs": [
      {
       "html": [
        "<div style=\"max-height:1000px;max-width:1500px;overflow:auto;\">\n",
        "<table border=\"1\" class=\"dataframe\">\n",
        "  <thead>\n",
        "    <tr style=\"text-align: right;\">\n",
        "      <th></th>\n",
        "      <th>media_count</th>\n",
        "      <th>name</th>\n",
        "    </tr>\n",
        "  </thead>\n",
        "  <tbody>\n",
        "    <tr>\n",
        "      <th>0</th>\n",
        "      <td> 2335224</td>\n",
        "      <td>       obama</td>\n",
        "    </tr>\n",
        "    <tr>\n",
        "      <th>1</th>\n",
        "      <td>  524805</td>\n",
        "      <td>   obama2012</td>\n",
        "    </tr>\n",
        "    <tr>\n",
        "      <th>2</th>\n",
        "      <td>  123201</td>\n",
        "      <td>   obamacare</td>\n",
        "    </tr>\n",
        "    <tr>\n",
        "      <th>3</th>\n",
        "      <td>   61994</td>\n",
        "      <td> obamanation</td>\n",
        "    </tr>\n",
        "    <tr>\n",
        "      <th>4</th>\n",
        "      <td>   51353</td>\n",
        "      <td>  obamasucks</td>\n",
        "    </tr>\n",
        "  </tbody>\n",
        "</table>\n",
        "</div>"
       ],
       "metadata": {},
       "output_type": "pyout",
       "prompt_number": 8,
       "text": [
        "   media_count         name\n",
        "0      2335224        obama\n",
        "1       524805    obama2012\n",
        "2       123201    obamacare\n",
        "3        61994  obamanation\n",
        "4        51353   obamasucks"
       ]
      }
     ],
     "prompt_number": 8
    },
    {
     "cell_type": "markdown",
     "metadata": {},
     "source": [
      "---"
     ]
    },
    {
     "cell_type": "markdown",
     "metadata": {},
     "source": [
      "####GET /locations/search\n",
      "Search for a location by geographic coordinate.\n",
      "\n",
      "**returns posts with user-posted locations (check-ins)*"
     ]
    },
    {
     "cell_type": "code",
     "collapsed": false,
     "input": [
      "#DISTANCE\tDefault is 1000m (distance=1000), max distance is 5000.\n",
      "#FACEBOOK_PLACES_ID\tReturns a location mapped off of a Facebook places id. If used, a Foursquare id and lat, lng are not required.\n",
      "#FOURSQUARE_ID\tReturns a location mapped off of a foursquare v1 api location id. If used, you are not required to use lat and lng. Note that this method is deprecated; you should use the new foursquare IDs with V2 of their API.\n",
      "#LAT\tLatitude of the center search coordinate. If used, lng is required.\n",
      "#LNG\tLongitude of the center search coordinate. If used, lat is required.\n",
      "#FOURSQUARE_V2_ID\tReturns a location mapped off of a foursquare v2 api location id. If used, you are not required to use lat and lng.\n",
      "\n",
      "#json_normalize(requests.get('https://api.instagram.com/v1/locations/search?lat=48.858844&lng=2.294351&distance=100&access_token='+token+'&count=1000').json()['data']).head()"
     ],
     "language": "python",
     "metadata": {},
     "outputs": [
      {
       "html": [
        "<div style=\"max-height:1000px;max-width:1500px;overflow:auto;\">\n",
        "<table border=\"1\" class=\"dataframe\">\n",
        "  <thead>\n",
        "    <tr style=\"text-align: right;\">\n",
        "      <th></th>\n",
        "      <th>id</th>\n",
        "      <th>latitude</th>\n",
        "      <th>longitude</th>\n",
        "      <th>name</th>\n",
        "    </tr>\n",
        "  </thead>\n",
        "  <tbody>\n",
        "    <tr>\n",
        "      <th>0</th>\n",
        "      <td>   3182106</td>\n",
        "      <td> 48.858844</td>\n",
        "      <td> 2.294351</td>\n",
        "      <td>                La Parisienne</td>\n",
        "    </tr>\n",
        "    <tr>\n",
        "      <th>1</th>\n",
        "      <td>   2862169</td>\n",
        "      <td> 48.858871</td>\n",
        "      <td> 2.294351</td>\n",
        "      <td> Musee D'art Moderne De Paris</td>\n",
        "    </tr>\n",
        "    <tr>\n",
        "      <th>2</th>\n",
        "      <td> 723814790</td>\n",
        "      <td> 48.858877</td>\n",
        "      <td> 2.294440</td>\n",
        "      <td>  Saint Nazaire Ville, France</td>\n",
        "    </tr>\n",
        "    <tr>\n",
        "      <th>3</th>\n",
        "      <td> 162524999</td>\n",
        "      <td> 48.858947</td>\n",
        "      <td> 2.294361</td>\n",
        "      <td>           Ambassade Du Tchad</td>\n",
        "    </tr>\n",
        "    <tr>\n",
        "      <th>4</th>\n",
        "      <td>  54115074</td>\n",
        "      <td> 48.858729</td>\n",
        "      <td> 2.294340</td>\n",
        "      <td>                 Eiffel Tower</td>\n",
        "    </tr>\n",
        "  </tbody>\n",
        "</table>\n",
        "</div>"
       ],
       "metadata": {},
       "output_type": "pyout",
       "prompt_number": 34,
       "text": [
        "          id   latitude  longitude                          name\n",
        "0    3182106  48.858844   2.294351                 La Parisienne\n",
        "1    2862169  48.858871   2.294351  Musee D'art Moderne De Paris\n",
        "2  723814790  48.858877   2.294440   Saint Nazaire Ville, France\n",
        "3  162524999  48.858947   2.294361            Ambassade Du Tchad\n",
        "4   54115074  48.858729   2.294340                  Eiffel Tower"
       ]
      }
     ],
     "prompt_number": 34
    },
    {
     "cell_type": "markdown",
     "metadata": {},
     "source": [
      "---"
     ]
    },
    {
     "cell_type": "markdown",
     "metadata": {},
     "source": [
      "####GET /media/search\n",
      "Search for media in a given area. The default time span is set to 5 days. The time span must not exceed 7 days. Defaults time stamps cover the last 5 days. Can return mix of image and video types."
     ]
    },
    {
     "cell_type": "code",
     "collapsed": false,
     "input": [
      "#LAT\tLatitude of the center search coordinate. If used, lng is required.\n",
      "#MIN_TIMESTAMP\tA unix timestamp. All media returned will be taken later than this timestamp.\n",
      "#LNG\tLongitude of the center search coordinate. If used, lat is required.\n",
      "#MAX_TIMESTAMP\tA unix timestamp. All media returned will be taken earlier than this timestamp.\n",
      "#DISTANCE\tDefault is 1km (distance=1000), max distance is 5km.\n",
      "\n",
      "#json_normalize(requests.get('https://api.instagram.com/v1/media/search?lat=48.858844&lng=2.294351&access_token='+token).json()['data']).head()"
     ],
     "language": "python",
     "metadata": {},
     "outputs": [
      {
       "html": [
        "<div style=\"max-height:1000px;max-width:1500px;overflow:auto;\">\n",
        "<table border=\"1\" class=\"dataframe\">\n",
        "  <thead>\n",
        "    <tr style=\"text-align: right;\">\n",
        "      <th></th>\n",
        "      <th>attribution</th>\n",
        "      <th>caption</th>\n",
        "      <th>caption.created_time</th>\n",
        "      <th>caption.from.full_name</th>\n",
        "      <th>caption.from.id</th>\n",
        "      <th>caption.from.profile_picture</th>\n",
        "      <th>caption.from.username</th>\n",
        "      <th>caption.id</th>\n",
        "      <th>caption.text</th>\n",
        "      <th>comments.count</th>\n",
        "      <th>...</th>\n",
        "      <th>location.longitude</th>\n",
        "      <th>location.name</th>\n",
        "      <th>tags</th>\n",
        "      <th>type</th>\n",
        "      <th>user.full_name</th>\n",
        "      <th>user.id</th>\n",
        "      <th>user.profile_picture</th>\n",
        "      <th>user.username</th>\n",
        "      <th>user_has_liked</th>\n",
        "      <th>users_in_photo</th>\n",
        "    </tr>\n",
        "  </thead>\n",
        "  <tbody>\n",
        "    <tr>\n",
        "      <th>0</th>\n",
        "      <td> None</td>\n",
        "      <td>NaN</td>\n",
        "      <td> 1430248421</td>\n",
        "      <td> Petra Kladivov\u00e1</td>\n",
        "      <td> 206837475</td>\n",
        "      <td> https://igcdn-photos-e-a.akamaihd.net/hphotos-...</td>\n",
        "      <td> petrakladivova</td>\n",
        "      <td> 973316764260020964</td>\n",
        "      <td>                                              \ud83d\ude4a\u2600\ufe0f</td>\n",
        "      <td> 0</td>\n",
        "      <td>...</td>\n",
        "      <td> 2.298117</td>\n",
        "      <td> Tour Eiffel</td>\n",
        "      <td>                                                []</td>\n",
        "      <td> image</td>\n",
        "      <td> Petra Kladivov\u00e1</td>\n",
        "      <td> 206837475</td>\n",
        "      <td> https://igcdn-photos-e-a.akamaihd.net/hphotos-...</td>\n",
        "      <td> petrakladivova</td>\n",
        "      <td> False</td>\n",
        "      <td> []</td>\n",
        "    </tr>\n",
        "    <tr>\n",
        "      <th>1</th>\n",
        "      <td> None</td>\n",
        "      <td>NaN</td>\n",
        "      <td> 1430248415</td>\n",
        "      <td>          Lesage</td>\n",
        "      <td> 188207581</td>\n",
        "      <td> https://instagramimages-a.akamaihd.net/profile...</td>\n",
        "      <td>     sebalesage</td>\n",
        "      <td> 973316711151851925</td>\n",
        "      <td>             #leballonfootballleague #nikefootball</td>\n",
        "      <td> 0</td>\n",
        "      <td>...</td>\n",
        "      <td> 2.303027</td>\n",
        "      <td>         NaN</td>\n",
        "      <td>            [nikefootball, leballonfootballleague]</td>\n",
        "      <td> image</td>\n",
        "      <td>          Lesage</td>\n",
        "      <td> 188207581</td>\n",
        "      <td> https://instagramimages-a.akamaihd.net/profile...</td>\n",
        "      <td>     sebalesage</td>\n",
        "      <td> False</td>\n",
        "      <td> []</td>\n",
        "    </tr>\n",
        "    <tr>\n",
        "      <th>2</th>\n",
        "      <td> None</td>\n",
        "      <td>NaN</td>\n",
        "      <td> 1430248413</td>\n",
        "      <td>                </td>\n",
        "      <td>  43742564</td>\n",
        "      <td> https://igcdn-photos-c-a.akamaihd.net/hphotos-...</td>\n",
        "      <td>     guanhoisan</td>\n",
        "      <td> 973316694710162444</td>\n",
        "      <td> So this is what spring looks like. #PollensSea...</td>\n",
        "      <td> 0</td>\n",
        "      <td>...</td>\n",
        "      <td> 2.287953</td>\n",
        "      <td>   Trocad\u00e9ro</td>\n",
        "      <td> [stillworthit, parisorparadise, pollensseasoni...</td>\n",
        "      <td> image</td>\n",
        "      <td>                </td>\n",
        "      <td>  43742564</td>\n",
        "      <td> https://igcdn-photos-c-a.akamaihd.net/hphotos-...</td>\n",
        "      <td>     guanhoisan</td>\n",
        "      <td> False</td>\n",
        "      <td> []</td>\n",
        "    </tr>\n",
        "    <tr>\n",
        "      <th>3</th>\n",
        "      <td> None</td>\n",
        "      <td>NaN</td>\n",
        "      <td>        NaN</td>\n",
        "      <td>             NaN</td>\n",
        "      <td>       NaN</td>\n",
        "      <td>                                               NaN</td>\n",
        "      <td>            NaN</td>\n",
        "      <td>                NaN</td>\n",
        "      <td>                                               NaN</td>\n",
        "      <td> 0</td>\n",
        "      <td>...</td>\n",
        "      <td> 2.298117</td>\n",
        "      <td> Tour Eiffel</td>\n",
        "      <td>                                                []</td>\n",
        "      <td> image</td>\n",
        "      <td> Petar Trbojevik</td>\n",
        "      <td>  45642770</td>\n",
        "      <td> https://igcdn-photos-c-a.akamaihd.net/hphotos-...</td>\n",
        "      <td>      trbojevik</td>\n",
        "      <td> False</td>\n",
        "      <td> []</td>\n",
        "    </tr>\n",
        "    <tr>\n",
        "      <th>4</th>\n",
        "      <td> None</td>\n",
        "      <td>NaN</td>\n",
        "      <td> 1430248350</td>\n",
        "      <td> Ebru Koca Serep</td>\n",
        "      <td> 617809173</td>\n",
        "      <td> https://igcdn-photos-h-a.akamaihd.net/hphotos-...</td>\n",
        "      <td>  eylulebruezgi</td>\n",
        "      <td> 973316165675858797</td>\n",
        "      <td> #paris @yfiliz.gul @eyll_srp @pamuktan_masalla...</td>\n",
        "      <td> 0</td>\n",
        "      <td>...</td>\n",
        "      <td> 2.298117</td>\n",
        "      <td> Tour Eiffel</td>\n",
        "      <td>                                   [paris, fransa]</td>\n",
        "      <td> image</td>\n",
        "      <td> Ebru Koca Serep</td>\n",
        "      <td> 617809173</td>\n",
        "      <td> https://igcdn-photos-h-a.akamaihd.net/hphotos-...</td>\n",
        "      <td>  eylulebruezgi</td>\n",
        "      <td> False</td>\n",
        "      <td> []</td>\n",
        "    </tr>\n",
        "  </tbody>\n",
        "</table>\n",
        "<p>5 rows \u00d7 38 columns</p>\n",
        "</div>"
       ],
       "metadata": {},
       "output_type": "pyout",
       "prompt_number": 35,
       "text": [
        "  attribution  caption caption.created_time caption.from.full_name  \\\n",
        "0        None      NaN           1430248421        Petra Kladivov\u00e1   \n",
        "1        None      NaN           1430248415                 Lesage   \n",
        "2        None      NaN           1430248413                          \n",
        "3        None      NaN                  NaN                    NaN   \n",
        "4        None      NaN           1430248350        Ebru Koca Serep   \n",
        "\n",
        "  caption.from.id                       caption.from.profile_picture  \\\n",
        "0       206837475  https://igcdn-photos-e-a.akamaihd.net/hphotos-...   \n",
        "1       188207581  https://instagramimages-a.akamaihd.net/profile...   \n",
        "2        43742564  https://igcdn-photos-c-a.akamaihd.net/hphotos-...   \n",
        "3             NaN                                                NaN   \n",
        "4       617809173  https://igcdn-photos-h-a.akamaihd.net/hphotos-...   \n",
        "\n",
        "  caption.from.username          caption.id  \\\n",
        "0        petrakladivova  973316764260020964   \n",
        "1            sebalesage  973316711151851925   \n",
        "2            guanhoisan  973316694710162444   \n",
        "3                   NaN                 NaN   \n",
        "4         eylulebruezgi  973316165675858797   \n",
        "\n",
        "                                        caption.text  comments.count  \\\n",
        "0                                               \ud83d\ude4a\u2600\ufe0f               0   \n",
        "1              #leballonfootballleague #nikefootball               0   \n",
        "2  So this is what spring looks like. #PollensSea...               0   \n",
        "3                                                NaN               0   \n",
        "4  #paris @yfiliz.gul @eyll_srp @pamuktan_masalla...               0   \n",
        "\n",
        "        ...       location.longitude location.name  \\\n",
        "0       ...                 2.298117   Tour Eiffel   \n",
        "1       ...                 2.303027           NaN   \n",
        "2       ...                 2.287953     Trocad\u00e9ro   \n",
        "3       ...                 2.298117   Tour Eiffel   \n",
        "4       ...                 2.298117   Tour Eiffel   \n",
        "\n",
        "                                                tags   type   user.full_name  \\\n",
        "0                                                 []  image  Petra Kladivov\u00e1   \n",
        "1             [nikefootball, leballonfootballleague]  image           Lesage   \n",
        "2  [stillworthit, parisorparadise, pollensseasoni...  image                    \n",
        "3                                                 []  image  Petar Trbojevik   \n",
        "4                                    [paris, fransa]  image  Ebru Koca Serep   \n",
        "\n",
        "     user.id                               user.profile_picture  \\\n",
        "0  206837475  https://igcdn-photos-e-a.akamaihd.net/hphotos-...   \n",
        "1  188207581  https://instagramimages-a.akamaihd.net/profile...   \n",
        "2   43742564  https://igcdn-photos-c-a.akamaihd.net/hphotos-...   \n",
        "3   45642770  https://igcdn-photos-c-a.akamaihd.net/hphotos-...   \n",
        "4  617809173  https://igcdn-photos-h-a.akamaihd.net/hphotos-...   \n",
        "\n",
        "    user.username user_has_liked  users_in_photo  \n",
        "0  petrakladivova          False              []  \n",
        "1      sebalesage          False              []  \n",
        "2      guanhoisan          False              []  \n",
        "3       trbojevik          False              []  \n",
        "4   eylulebruezgi          False              []  \n",
        "\n",
        "[5 rows x 38 columns]"
       ]
      }
     ],
     "prompt_number": 35
    },
    {
     "cell_type": "markdown",
     "metadata": {},
     "source": [
      "Location"
     ]
    },
    {
     "cell_type": "code",
     "collapsed": false,
     "input": [
      "#first search an area for existing location-ids\n",
      "print 'https://api.instagram.com/v1/locations/search?lat=48.858844&lng=2.294351&access_token='+token\n",
      "\n",
      "#after identifying a specific location-id, plug in to /locations/media/recent url to see recent posts from that location\n",
      "print 'https://api.instagram.com/v1/locations/{location-id}/media/recent?access_token='+token"
     ],
     "language": "python",
     "metadata": {},
     "outputs": [
      {
       "output_type": "stream",
       "stream": "stdout",
       "text": [
        "https://api.instagram.com/v1/locations/search?lat=48.858844&lng=2.294351&access_token=1265541089.d4ec778.3a455b41bc6643cbb2e0c406cfcce3ff\n",
        "https://api.instagram.com/v1/locations/{location-id}/media/recent?access_token=1265541089.d4ec778.3a455b41bc6643cbb2e0c406cfcce3ff\n"
       ]
      }
     ],
     "prompt_number": 64
    },
    {
     "cell_type": "markdown",
     "metadata": {},
     "source": [
      "\n",
      "---"
     ]
    },
    {
     "cell_type": "markdown",
     "metadata": {},
     "source": [
      "##Working with IG's API: Collecting More with Pagination"
     ]
    },
    {
     "cell_type": "markdown",
     "metadata": {},
     "source": [
      "Calling a url's pagination data returns a next_url.  Looping this process will require using a returned next_url to call an additional next_url.  Automating retrieval of next_urls is essentially the same problem as iterating y with the equation y = x<sup>2</sup>, n times.  "
     ]
    },
    {
     "cell_type": "code",
     "collapsed": false,
     "input": [
      "def get_urls(query_url, n):\n",
      "\n",
      "      #return a next_url\n",
      "    def get(url):\n",
      "        return str(requests.get(url).json()['pagination']['next_url'])\n",
      "    \n",
      "      #open list to hold urls\n",
      "    urls = list() \n",
      "    \n",
      "      #handling initial url\n",
      "    url = query_url #call passed url\n",
      "    urls.append(str(url)) #add initial url to list\n",
      "\n",
      "      #handling further urls    \n",
      "    for n in range(n):\n",
      "        x = get(url) \n",
      "        urls.append(str(x)) #add next_url\n",
      "        url = get(x) #replaces initial url with next_url for next turn in loop\n",
      "\n",
      "      #open list to hold data\n",
      "    results = list()\n",
      "\n",
      "      #populate df with data from urls in urls\n",
      "    for url in urls:\n",
      "        results.append(json_normalize(requests.get(url).json()['data']))\n",
      "\n",
      "      #initiate df\n",
      "    df = pd.DataFrame().append(results).reset_index().drop('index',axis=1)\n",
      "    \n",
      "    return df"
     ],
     "language": "python",
     "metadata": {},
     "outputs": [],
     "prompt_number": 100
    },
    {
     "cell_type": "code",
     "collapsed": false,
     "input": [
      "url = 'https://api.instagram.com/v1/tags/killdit/media/recent?count=20&client_id=d4ec778deaca482085b02c8556b6c2dd'\n",
      "get_urls(url, 2)"
     ],
     "language": "python",
     "metadata": {},
     "outputs": [
      {
       "ename": "NameError",
       "evalue": "name 'get_urls' is not defined",
       "output_type": "pyerr",
       "traceback": [
        "\u001b[1;31m---------------------------------------------------------------------------\u001b[0m\n\u001b[1;31mNameError\u001b[0m                                 Traceback (most recent call last)",
        "\u001b[1;32m<ipython-input-9-5042cda2ea80>\u001b[0m in \u001b[0;36m<module>\u001b[1;34m()\u001b[0m\n\u001b[0;32m      1\u001b[0m \u001b[0murl\u001b[0m \u001b[1;33m=\u001b[0m \u001b[1;34m'https://api.instagram.com/v1/tags/killdit/media/recent?count=20&client_id=d4ec778deaca482085b02c8556b6c2dd'\u001b[0m\u001b[1;33m\u001b[0m\u001b[0m\n\u001b[1;32m----> 2\u001b[1;33m \u001b[0mget_urls\u001b[0m\u001b[1;33m(\u001b[0m\u001b[0murl\u001b[0m\u001b[1;33m,\u001b[0m \u001b[1;36m2\u001b[0m\u001b[1;33m)\u001b[0m\u001b[1;33m\u001b[0m\u001b[0m\n\u001b[0m",
        "\u001b[1;31mNameError\u001b[0m: name 'get_urls' is not defined"
       ]
      }
     ],
     "prompt_number": 9
    },
    {
     "cell_type": "code",
     "collapsed": false,
     "input": [
      "query_url = 'https://api.instagram.com/v1/tags/pacquiao/media/recent?count=20&client_id=d4ec778deaca482085b02c8556b6c2dd'\n",
      "\n",
      "  #return a next_url\n",
      "def get(url):\n",
      "    return str(requests.get(url).json()['pagination']['next_url'])\n",
      "\n",
      "  #open list to hold urls\n",
      "urls = list() \n",
      "\n",
      "  #handling initial url\n",
      "url = query_url #call passed url\n",
      "urls.append(str(url)) #add initial url to list\n",
      "\n",
      "  #handling further urls    \n",
      "for n in range(2):\n",
      "    x = get(url) \n",
      "    urls.append(str(x)) #add next_url\n",
      "    url = get(x) #replaces initial url with next_url for next turn in loop\n",
      "\n",
      "  #open list to hold data\n",
      "results = list()\n",
      "\n",
      "  #populate df with data from urls in urls\n",
      "for url in urls:\n",
      "    results.append(json_normalize(requests.get(url).json()['data']))\n",
      "    \n",
      "  #initiate df\n",
      "df = pd.DataFrame().append(results).reset_index().drop('index',axis=1)"
     ],
     "language": "python",
     "metadata": {},
     "outputs": [],
     "prompt_number": 36
    },
    {
     "cell_type": "code",
     "collapsed": false,
     "input": [
      "df.head()"
     ],
     "language": "python",
     "metadata": {},
     "outputs": [
      {
       "html": [
        "<div style=\"max-height:1000px;max-width:1500px;overflow:auto;\">\n",
        "<table border=\"1\" class=\"dataframe\">\n",
        "  <thead>\n",
        "    <tr style=\"text-align: right;\">\n",
        "      <th></th>\n",
        "      <th>attribution</th>\n",
        "      <th>caption.created_time</th>\n",
        "      <th>caption.from.full_name</th>\n",
        "      <th>caption.from.id</th>\n",
        "      <th>caption.from.profile_picture</th>\n",
        "      <th>caption.from.username</th>\n",
        "      <th>caption.id</th>\n",
        "      <th>caption.text</th>\n",
        "      <th>comments.count</th>\n",
        "      <th>comments.data</th>\n",
        "      <th>...</th>\n",
        "      <th>users_in_photo</th>\n",
        "      <th>videos.low_bandwidth.height</th>\n",
        "      <th>videos.low_bandwidth.url</th>\n",
        "      <th>videos.low_bandwidth.width</th>\n",
        "      <th>videos.low_resolution.height</th>\n",
        "      <th>videos.low_resolution.url</th>\n",
        "      <th>videos.low_resolution.width</th>\n",
        "      <th>videos.standard_resolution.height</th>\n",
        "      <th>videos.standard_resolution.url</th>\n",
        "      <th>videos.standard_resolution.width</th>\n",
        "    </tr>\n",
        "  </thead>\n",
        "  <tbody>\n",
        "    <tr>\n",
        "      <th>0</th>\n",
        "      <td> None</td>\n",
        "      <td> 1430291938</td>\n",
        "      <td>         Salvatore Todesca</td>\n",
        "      <td> 1552290932</td>\n",
        "      <td> https://igcdn-photos-f-a.akamaihd.net/hphotos-...</td>\n",
        "      <td>     sasullo_91</td>\n",
        "      <td> 973681808276100481</td>\n",
        "      <td> Waiting For.....#Mayweather vs#Pacquiao#boxe#L...</td>\n",
        "      <td> 0</td>\n",
        "      <td> []</td>\n",
        "      <td>...</td>\n",
        "      <td> []</td>\n",
        "      <td> NaN</td>\n",
        "      <td>                                               NaN</td>\n",
        "      <td> NaN</td>\n",
        "      <td> NaN</td>\n",
        "      <td>                                               NaN</td>\n",
        "      <td> NaN</td>\n",
        "      <td> NaN</td>\n",
        "      <td>                                               NaN</td>\n",
        "      <td> NaN</td>\n",
        "    </tr>\n",
        "    <tr>\n",
        "      <th>1</th>\n",
        "      <td> None</td>\n",
        "      <td> 1430291890</td>\n",
        "      <td>               Tony Sandhu</td>\n",
        "      <td>  469706434</td>\n",
        "      <td> https://instagramimages-a.akamaihd.net/profile...</td>\n",
        "      <td>      tonys0289</td>\n",
        "      <td> 973681410186833099</td>\n",
        "      <td> #Repost @unitedvapers\\n\u30fb\u30fb\u30fb\\nAttention All Shop...</td>\n",
        "      <td> 0</td>\n",
        "      <td> []</td>\n",
        "      <td>...</td>\n",
        "      <td> []</td>\n",
        "      <td> NaN</td>\n",
        "      <td>                                               NaN</td>\n",
        "      <td> NaN</td>\n",
        "      <td> NaN</td>\n",
        "      <td>                                               NaN</td>\n",
        "      <td> NaN</td>\n",
        "      <td> NaN</td>\n",
        "      <td>                                               NaN</td>\n",
        "      <td> NaN</td>\n",
        "    </tr>\n",
        "    <tr>\n",
        "      <th>2</th>\n",
        "      <td> None</td>\n",
        "      <td> 1430291848</td>\n",
        "      <td>               Philip Ling</td>\n",
        "      <td>  511480231</td>\n",
        "      <td> https://igcdn-photos-b-a.akamaihd.net/hphotos-...</td>\n",
        "      <td>      pclpickle</td>\n",
        "      <td> 973681056119234805</td>\n",
        "      <td> Can't wait! #Floyd #Mayweather #Vs #Manny #Pac...</td>\n",
        "      <td> 0</td>\n",
        "      <td> []</td>\n",
        "      <td>...</td>\n",
        "      <td> []</td>\n",
        "      <td> 480</td>\n",
        "      <td> https://scontent.cdninstagram.com/hphotos-xaf1...</td>\n",
        "      <td> 480</td>\n",
        "      <td> 480</td>\n",
        "      <td> https://scontent.cdninstagram.com/hphotos-xaf1...</td>\n",
        "      <td> 480</td>\n",
        "      <td> 640</td>\n",
        "      <td> https://scontent.cdninstagram.com/hphotos-xaf1...</td>\n",
        "      <td> 640</td>\n",
        "    </tr>\n",
        "    <tr>\n",
        "      <th>3</th>\n",
        "      <td> None</td>\n",
        "      <td> 1430291847</td>\n",
        "      <td> EL SENOR NEW YORK JEWELRY</td>\n",
        "      <td>  200152367</td>\n",
        "      <td> https://instagramimages-a.akamaihd.net/profile...</td>\n",
        "      <td> elsenornewyork</td>\n",
        "      <td> 973681049544753235</td>\n",
        "      <td> 2/3 of #Pacquiao's pro career wins end in a kn...</td>\n",
        "      <td> 0</td>\n",
        "      <td> []</td>\n",
        "      <td>...</td>\n",
        "      <td> []</td>\n",
        "      <td> NaN</td>\n",
        "      <td>                                               NaN</td>\n",
        "      <td> NaN</td>\n",
        "      <td> NaN</td>\n",
        "      <td>                                               NaN</td>\n",
        "      <td> NaN</td>\n",
        "      <td> NaN</td>\n",
        "      <td>                                               NaN</td>\n",
        "      <td> NaN</td>\n",
        "    </tr>\n",
        "    <tr>\n",
        "      <th>4</th>\n",
        "      <td> None</td>\n",
        "      <td> 1430291679</td>\n",
        "      <td>              Grant Newton</td>\n",
        "      <td>  226709458</td>\n",
        "      <td> https://instagramimages-a.akamaihd.net/profile...</td>\n",
        "      <td>       gnizzles</td>\n",
        "      <td> 973679635319860740</td>\n",
        "      <td> Anyone have a rich uncle that wants to sponser...</td>\n",
        "      <td> 0</td>\n",
        "      <td> []</td>\n",
        "      <td>...</td>\n",
        "      <td> []</td>\n",
        "      <td> NaN</td>\n",
        "      <td>                                               NaN</td>\n",
        "      <td> NaN</td>\n",
        "      <td> NaN</td>\n",
        "      <td>                                               NaN</td>\n",
        "      <td> NaN</td>\n",
        "      <td> NaN</td>\n",
        "      <td>                                               NaN</td>\n",
        "      <td> NaN</td>\n",
        "    </tr>\n",
        "  </tbody>\n",
        "</table>\n",
        "<p>5 rows \u00d7 46 columns</p>\n",
        "</div>"
       ],
       "metadata": {},
       "output_type": "pyout",
       "prompt_number": 38,
       "text": [
        "  attribution caption.created_time     caption.from.full_name caption.from.id  \\\n",
        "0        None           1430291938          Salvatore Todesca      1552290932   \n",
        "1        None           1430291890                Tony Sandhu       469706434   \n",
        "2        None           1430291848                Philip Ling       511480231   \n",
        "3        None           1430291847  EL SENOR NEW YORK JEWELRY       200152367   \n",
        "4        None           1430291679               Grant Newton       226709458   \n",
        "\n",
        "                        caption.from.profile_picture caption.from.username  \\\n",
        "0  https://igcdn-photos-f-a.akamaihd.net/hphotos-...            sasullo_91   \n",
        "1  https://instagramimages-a.akamaihd.net/profile...             tonys0289   \n",
        "2  https://igcdn-photos-b-a.akamaihd.net/hphotos-...             pclpickle   \n",
        "3  https://instagramimages-a.akamaihd.net/profile...        elsenornewyork   \n",
        "4  https://instagramimages-a.akamaihd.net/profile...              gnizzles   \n",
        "\n",
        "           caption.id                                       caption.text  \\\n",
        "0  973681808276100481  Waiting For.....#Mayweather vs#Pacquiao#boxe#L...   \n",
        "1  973681410186833099  #Repost @unitedvapers\\n\u30fb\u30fb\u30fb\\nAttention All Shop...   \n",
        "2  973681056119234805  Can't wait! #Floyd #Mayweather #Vs #Manny #Pac...   \n",
        "3  973681049544753235  2/3 of #Pacquiao's pro career wins end in a kn...   \n",
        "4  973679635319860740  Anyone have a rich uncle that wants to sponser...   \n",
        "\n",
        "   comments.count comments.data      ...      users_in_photo  \\\n",
        "0               0            []      ...                  []   \n",
        "1               0            []      ...                  []   \n",
        "2               0            []      ...                  []   \n",
        "3               0            []      ...                  []   \n",
        "4               0            []      ...                  []   \n",
        "\n",
        "  videos.low_bandwidth.height  \\\n",
        "0                         NaN   \n",
        "1                         NaN   \n",
        "2                         480   \n",
        "3                         NaN   \n",
        "4                         NaN   \n",
        "\n",
        "                            videos.low_bandwidth.url  \\\n",
        "0                                                NaN   \n",
        "1                                                NaN   \n",
        "2  https://scontent.cdninstagram.com/hphotos-xaf1...   \n",
        "3                                                NaN   \n",
        "4                                                NaN   \n",
        "\n",
        "   videos.low_bandwidth.width videos.low_resolution.height  \\\n",
        "0                         NaN                          NaN   \n",
        "1                         NaN                          NaN   \n",
        "2                         480                          480   \n",
        "3                         NaN                          NaN   \n",
        "4                         NaN                          NaN   \n",
        "\n",
        "                           videos.low_resolution.url  \\\n",
        "0                                                NaN   \n",
        "1                                                NaN   \n",
        "2  https://scontent.cdninstagram.com/hphotos-xaf1...   \n",
        "3                                                NaN   \n",
        "4                                                NaN   \n",
        "\n",
        "   videos.low_resolution.width videos.standard_resolution.height  \\\n",
        "0                          NaN                               NaN   \n",
        "1                          NaN                               NaN   \n",
        "2                          480                               640   \n",
        "3                          NaN                               NaN   \n",
        "4                          NaN                               NaN   \n",
        "\n",
        "                      videos.standard_resolution.url  \\\n",
        "0                                                NaN   \n",
        "1                                                NaN   \n",
        "2  https://scontent.cdninstagram.com/hphotos-xaf1...   \n",
        "3                                                NaN   \n",
        "4                                                NaN   \n",
        "\n",
        "   videos.standard_resolution.width  \n",
        "0                               NaN  \n",
        "1                               NaN  \n",
        "2                               640  \n",
        "3                               NaN  \n",
        "4                               NaN  \n",
        "\n",
        "[5 rows x 46 columns]"
       ]
      }
     ],
     "prompt_number": 38
    },
    {
     "cell_type": "code",
     "collapsed": false,
     "input": [
      "df['comments.data'][5][0]['text']"
     ],
     "language": "python",
     "metadata": {},
     "outputs": [
      {
       "metadata": {},
       "output_type": "pyout",
       "prompt_number": 43,
       "text": [
        "u'Thank you @vanessa_vpw We know a few shop owners that have had lawsuits filed against them.'"
       ]
      }
     ],
     "prompt_number": 43
    },
    {
     "cell_type": "code",
     "collapsed": false,
     "input": [
      "stage['comments.data'][44][1]['text'].encode('ascii','ignore')"
     ],
     "language": "python",
     "metadata": {},
     "outputs": [
      {
       "metadata": {},
       "output_type": "pyout",
       "prompt_number": 219,
       "text": [
        "'@tl_acezz  @iamalbeezy'"
       ]
      }
     ],
     "prompt_number": 219
    },
    {
     "cell_type": "markdown",
     "metadata": {},
     "source": [
      "###Most Recent Instagram Posts:"
     ]
    },
    {
     "cell_type": "code",
     "collapsed": false,
     "input": [],
     "language": "python",
     "metadata": {},
     "outputs": []
    },
    {
     "cell_type": "code",
     "collapsed": false,
     "input": [],
     "language": "python",
     "metadata": {},
     "outputs": []
    },
    {
     "cell_type": "code",
     "collapsed": false,
     "input": [],
     "language": "python",
     "metadata": {},
     "outputs": []
    },
    {
     "cell_type": "code",
     "collapsed": false,
     "input": [],
     "language": "python",
     "metadata": {},
     "outputs": []
    },
    {
     "cell_type": "code",
     "collapsed": false,
     "input": [],
     "language": "python",
     "metadata": {},
     "outputs": []
    },
    {
     "cell_type": "code",
     "collapsed": false,
     "input": [],
     "language": "python",
     "metadata": {},
     "outputs": []
    },
    {
     "cell_type": "code",
     "collapsed": false,
     "input": [],
     "language": "python",
     "metadata": {},
     "outputs": []
    },
    {
     "cell_type": "code",
     "collapsed": false,
     "input": [],
     "language": "python",
     "metadata": {},
     "outputs": [],
     "prompt_number": 28
    },
    {
     "cell_type": "code",
     "collapsed": false,
     "input": [],
     "language": "python",
     "metadata": {},
     "outputs": [],
     "prompt_number": 28
    },
    {
     "cell_type": "code",
     "collapsed": false,
     "input": [],
     "language": "python",
     "metadata": {},
     "outputs": [],
     "prompt_number": 28
    },
    {
     "cell_type": "code",
     "collapsed": false,
     "input": [],
     "language": "python",
     "metadata": {},
     "outputs": [],
     "prompt_number": 30
    },
    {
     "cell_type": "code",
     "collapsed": false,
     "input": [
      "#when you query for a specific hashtag (e.g. 'newyorkcity')\n",
      "#how many likes did a post get; likes\n",
      "#captions\n",
      "#tags *\n",
      "#total amount of comments\n",
      "#user\n",
      "#filter *\n",
      "#type of media *\n",
      "#time *\n",
      "#location *\n",
      "#link *"
     ],
     "language": "python",
     "metadata": {},
     "outputs": [],
     "prompt_number": 31
    },
    {
     "cell_type": "code",
     "collapsed": false,
     "input": [],
     "language": "python",
     "metadata": {},
     "outputs": [],
     "prompt_number": 32
    },
    {
     "cell_type": "markdown",
     "metadata": {},
     "source": [
      "#To-Do List:"
     ]
    },
    {
     "cell_type": "markdown",
     "metadata": {},
     "source": [
      "- aggregate tags and comments for sentiment analysis"
     ]
    },
    {
     "cell_type": "markdown",
     "metadata": {},
     "source": [
      "- unpack comment data"
     ]
    },
    {
     "cell_type": "markdown",
     "metadata": {},
     "source": [
      "- create algorithm for pipe score"
     ]
    },
    {
     "cell_type": "code",
     "collapsed": false,
     "input": [],
     "language": "python",
     "metadata": {},
     "outputs": []
    },
    {
     "cell_type": "code",
     "collapsed": false,
     "input": [],
     "language": "python",
     "metadata": {},
     "outputs": []
    }
   ],
   "metadata": {}
  }
 ]
}