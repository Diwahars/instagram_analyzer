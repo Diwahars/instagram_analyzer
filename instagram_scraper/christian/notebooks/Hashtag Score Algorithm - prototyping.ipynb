{
 "metadata": {
  "name": "",
  "signature": "sha256:3d60894ba21e945059c1bb15e5ee044fc5c869dd6ab988cc20076ec87202611a"
 },
 "nbformat": 3,
 "nbformat_minor": 0,
 "worksheets": [
  {
   "cells": [
    {
     "cell_type": "markdown",
     "metadata": {},
     "source": [
      "Scenario: Lifestyle brand 'Killdit' is interested in tracking #killdit on Instagram."
     ]
    },
    {
     "cell_type": "markdown",
     "metadata": {},
     "source": [
      "#What determines the significance of [Instagram] hashtags?"
     ]
    },
    {
     "cell_type": "markdown",
     "metadata": {},
     "source": [
      "---"
     ]
    },
    {
     "cell_type": "markdown",
     "metadata": {},
     "source": [
      "- Existing relative Instagram data"
     ]
    },
    {
     "cell_type": "markdown",
     "metadata": {},
     "source": [
      "*Querying Instagram's API for recent media returns the following data:*"
     ]
    },
    {
     "cell_type": "code",
     "collapsed": false,
     "input": [
      "from instagram.client import InstagramAPI\n",
      "import requests\n",
      "import json\n",
      "import pandas as pd\n",
      "from pandas.io.json import json_normalize"
     ],
     "language": "python",
     "metadata": {},
     "outputs": [],
     "prompt_number": 1
    },
    {
     "cell_type": "code",
     "collapsed": false,
     "input": [
      "query_url = 'https://api.instagram.com/v1/tags/baltimore/media/recent?count=20&client_id=d4ec778deaca482085b02c8556b6c2dd'\n",
      "n = 1"
     ],
     "language": "python",
     "metadata": {},
     "outputs": [],
     "prompt_number": 3
    },
    {
     "cell_type": "code",
     "collapsed": false,
     "input": [
      "  #return a next_url\n",
      "def get(url):\n",
      "    return str(requests.get(url).json()['pagination']['next_url'])\n",
      "\n",
      "  #open list to hold urls\n",
      "urls = list() \n",
      "\n",
      "  #handling initial url\n",
      "url = query_url #call passed url\n",
      "urls.append(str(url)) #add initial url to list\n",
      "\n",
      "  #handling further urls    \n",
      "for n in range(n):\n",
      "    x = get(url) \n",
      "    urls.append(str(x)) #add next_url\n",
      "    url = get(x) #replaces initial url with next_url for next turn in loop\n",
      "\n",
      "  #open list to hold data\n",
      "results = list()\n",
      "\n",
      "  #populate df with data from urls in urls\n",
      "for url in urls:\n",
      "    results.append(json_normalize(requests.get(url).json()['data']))\n",
      "    \n",
      "  #initiate df\n",
      "df = pd.DataFrame().append(results).reset_index().drop('index',axis=1)"
     ],
     "language": "python",
     "metadata": {},
     "outputs": [],
     "prompt_number": 4
    },
    {
     "cell_type": "code",
     "collapsed": false,
     "input": [
      "#note - this query returns posts where a hashtag is used in the posts' captions"
     ],
     "language": "python",
     "metadata": {},
     "outputs": [],
     "prompt_number": 10
    },
    {
     "cell_type": "code",
     "collapsed": false,
     "input": [
      "[str(x) for x in df.columns]"
     ],
     "language": "python",
     "metadata": {},
     "outputs": [
      {
       "metadata": {},
       "output_type": "pyout",
       "prompt_number": 9,
       "text": [
        "['attribution',\n",
        " 'caption.created_time',\n",
        " 'caption.from.full_name',\n",
        " 'caption.from.id',\n",
        " 'caption.from.profile_picture',\n",
        " 'caption.from.username',\n",
        " 'caption.id',\n",
        " 'caption.text',\n",
        " 'comments.count',\n",
        " 'comments.data',\n",
        " 'created_time',\n",
        " 'filter',\n",
        " 'id',\n",
        " 'images.low_resolution.height',\n",
        " 'images.low_resolution.url',\n",
        " 'images.low_resolution.width',\n",
        " 'images.standard_resolution.height',\n",
        " 'images.standard_resolution.url',\n",
        " 'images.standard_resolution.width',\n",
        " 'images.thumbnail.height',\n",
        " 'images.thumbnail.url',\n",
        " 'images.thumbnail.width',\n",
        " 'likes.count',\n",
        " 'likes.data',\n",
        " 'link',\n",
        " 'location',\n",
        " 'location.id',\n",
        " 'location.latitude',\n",
        " 'location.longitude',\n",
        " 'location.name',\n",
        " 'tags',\n",
        " 'type',\n",
        " 'user.full_name',\n",
        " 'user.id',\n",
        " 'user.profile_picture',\n",
        " 'user.username',\n",
        " 'users_in_photo',\n",
        " 'videos.low_bandwidth.height',\n",
        " 'videos.low_bandwidth.url',\n",
        " 'videos.low_bandwidth.width',\n",
        " 'videos.low_resolution.height',\n",
        " 'videos.low_resolution.url',\n",
        " 'videos.low_resolution.width',\n",
        " 'videos.standard_resolution.height',\n",
        " 'videos.standard_resolution.url',\n",
        " 'videos.standard_resolution.width']"
       ]
      }
     ],
     "prompt_number": 9
    },
    {
     "cell_type": "markdown",
     "metadata": {},
     "source": [
      "---"
     ]
    },
    {
     "cell_type": "markdown",
     "metadata": {},
     "source": [
      "Most immediate variables that stand out: \n",
      "    - comments.count\n",
      "    - likes.count\n",
      "    "
     ]
    },
    {
     "cell_type": "code",
     "collapsed": false,
     "input": [],
     "language": "python",
     "metadata": {},
     "outputs": []
    }
   ],
   "metadata": {}
  }
 ]
}