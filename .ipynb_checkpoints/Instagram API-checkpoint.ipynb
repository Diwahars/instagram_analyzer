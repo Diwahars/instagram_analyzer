{
 "metadata": {
  "name": "",
  "signature": "sha256:85212df72259ebd4a3aac702cab7b2db95ac471cd70bd2dad1a13e0dee524bc8"
 },
 "nbformat": 3,
 "nbformat_minor": 0,
 "worksheets": [
  {
   "cells": [
    {
     "cell_type": "code",
     "collapsed": false,
     "input": [
      "import pandas as pd\n",
      "import requests\n",
      "import json\n",
      "import matplotlib.pyplot as plt\n",
      "import datetime\n",
      "import numpy as np\n",
      "\n",
      "from pandas.io.json import json_normalize\n",
      "\n",
      "%matplotlib inline\n",
      "\n",
      "\n",
      "def instagram_scraper(query):\n",
      "    \n",
      "    client_id = '768fcf1f36c94eb08506bae0a9caffa3'\n",
      "    secret = '54efcbaed7f64673bc93b4e28ca9e8b2'\n",
      "    base_url = \"https://api.instagram.com/v1\"\n",
      "\n",
      "    url = '{0}/tags/{1}/media/recent?client_id={2}&count=20'.format(base_url, query, client_id)\n",
      "    \n",
      "\n",
      "    df = json_normalize(requests.get(url).json()['data'])\n",
      "    df = df[['user.username','caption.text','tags','comments.count','likes.count',\n",
      "             'filter','type','created_time','user.full_name','user.id','link','location.latitude',\n",
      "             'location.longitude']]\n",
      "    df['created_time'] = [x.replace(x, datetime.datetime.fromtimestamp(int(str(x))).strftime('%Y-%m-%d %H:%M:%S')) for x in df['created_time']]\n",
      "    df = df.rename(columns=lambda x: x.replace('.', ' ').title())\n",
      "    \n",
      "    return df\n",
      "    "
     ],
     "language": "python",
     "metadata": {},
     "outputs": [],
     "prompt_number": 1
    },
    {
     "cell_type": "code",
     "collapsed": false,
     "input": [
      "df = instagram_scraper('nyc')"
     ],
     "language": "python",
     "metadata": {},
     "outputs": [],
     "prompt_number": 2
    },
    {
     "cell_type": "code",
     "collapsed": true,
     "input": [
      "df.head()"
     ],
     "language": "python",
     "metadata": {},
     "outputs": [
      {
       "html": [
        "<div style=\"max-height:1000px;max-width:1500px;overflow:auto;\">\n",
        "<table border=\"1\" class=\"dataframe\">\n",
        "  <thead>\n",
        "    <tr style=\"text-align: right;\">\n",
        "      <th></th>\n",
        "      <th>User Username</th>\n",
        "      <th>Caption Text</th>\n",
        "      <th>Tags</th>\n",
        "      <th>Comments Count</th>\n",
        "      <th>Likes Count</th>\n",
        "      <th>Filter</th>\n",
        "      <th>Type</th>\n",
        "      <th>Created_Time</th>\n",
        "      <th>User Full_Name</th>\n",
        "      <th>User Id</th>\n",
        "      <th>Link</th>\n",
        "      <th>Location Latitude</th>\n",
        "      <th>Location Longitude</th>\n",
        "    </tr>\n",
        "  </thead>\n",
        "  <tbody>\n",
        "    <tr>\n",
        "      <th>0</th>\n",
        "      <td> itsmickeythomas</td>\n",
        "      <td> By @higherpurposeapparel via @RepostWhiz app:\\...</td>\n",
        "      <td> [urban, fashion, inspire, clothingbrand, repos...</td>\n",
        "      <td> 0</td>\n",
        "      <td> 0</td>\n",
        "      <td> Normal</td>\n",
        "      <td> image</td>\n",
        "      <td> 2015-05-29 13:25:51</td>\n",
        "      <td>           Mickey</td>\n",
        "      <td>   30701486</td>\n",
        "      <td> https://instagram.com/p/3Ri6UKFzwj/</td>\n",
        "      <td>       NaN</td>\n",
        "      <td>     NaN</td>\n",
        "    </tr>\n",
        "    <tr>\n",
        "      <th>1</th>\n",
        "      <td>        checaugo</td>\n",
        "      <td> @Regrann from @ridewithmetv -  LOOK WHO IT IS ...</td>\n",
        "      <td> [letsride, nyc, ridewithmetvmy9, regrann, jarule]</td>\n",
        "      <td> 0</td>\n",
        "      <td> 0</td>\n",
        "      <td> Normal</td>\n",
        "      <td> image</td>\n",
        "      <td> 2015-05-29 13:25:50</td>\n",
        "      <td>     KingChecaugo</td>\n",
        "      <td>  246843209</td>\n",
        "      <td> https://instagram.com/p/3Ri6NjMijK/</td>\n",
        "      <td>       NaN</td>\n",
        "      <td>     NaN</td>\n",
        "    </tr>\n",
        "    <tr>\n",
        "      <th>2</th>\n",
        "      <td>   demiismyhomie</td>\n",
        "      <td> She has the best clothes. \u2764\u2764\u2764 #demilovato #ddl...</td>\n",
        "      <td>              [newyork, nyc, demilovato, ddlovato]</td>\n",
        "      <td> 0</td>\n",
        "      <td> 0</td>\n",
        "      <td> Normal</td>\n",
        "      <td> image</td>\n",
        "      <td> 2015-05-29 13:25:48</td>\n",
        "      <td>      Demi Lovato</td>\n",
        "      <td>  269056631</td>\n",
        "      <td> https://instagram.com/p/3Ri57tGYAP/</td>\n",
        "      <td>       NaN</td>\n",
        "      <td>     NaN</td>\n",
        "    </tr>\n",
        "    <tr>\n",
        "      <th>3</th>\n",
        "      <td>         _mines_</td>\n",
        "      <td> Yesterday me and @allisonrockafellow met @dann...</td>\n",
        "      <td> [wethekings, dlv, nyc, dlvinnyc, youtube, dlvm...</td>\n",
        "      <td> 0</td>\n",
        "      <td> 0</td>\n",
        "      <td> Normal</td>\n",
        "      <td> image</td>\n",
        "      <td> 2015-05-29 13:25:47</td>\n",
        "      <td>   Justin \"Mines\"</td>\n",
        "      <td>   18296776</td>\n",
        "      <td> https://instagram.com/p/3Ri55rm8VH/</td>\n",
        "      <td>       NaN</td>\n",
        "      <td>     NaN</td>\n",
        "    </tr>\n",
        "    <tr>\n",
        "      <th>4</th>\n",
        "      <td>  sunweststudios</td>\n",
        "      <td> Less is more\u2757\ufe0f\\n-\\n#Tablesetting #Eventspace #...</td>\n",
        "      <td> [eventspace, party, art, sunweststudios, nyven...</td>\n",
        "      <td> 0</td>\n",
        "      <td> 1</td>\n",
        "      <td> Ludwig</td>\n",
        "      <td> image</td>\n",
        "      <td> 2015-05-29 13:25:46</td>\n",
        "      <td> Sun West Studios</td>\n",
        "      <td> 1257098171</td>\n",
        "      <td> https://instagram.com/p/3Ri5rvsZNS/</td>\n",
        "      <td> 40.752261</td>\n",
        "      <td>-73.9999</td>\n",
        "    </tr>\n",
        "  </tbody>\n",
        "</table>\n",
        "</div>"
       ],
       "metadata": {},
       "output_type": "pyout",
       "prompt_number": 3,
       "text": [
        "     User Username                                       Caption Text  \\\n",
        "0  itsmickeythomas  By @higherpurposeapparel via @RepostWhiz app:\\...   \n",
        "1         checaugo  @Regrann from @ridewithmetv -  LOOK WHO IT IS ...   \n",
        "2    demiismyhomie  She has the best clothes. \u2764\u2764\u2764 #demilovato #ddl...   \n",
        "3          _mines_  Yesterday me and @allisonrockafellow met @dann...   \n",
        "4   sunweststudios  Less is more\u2757\ufe0f\\n-\\n#Tablesetting #Eventspace #...   \n",
        "\n",
        "                                                Tags  Comments Count  \\\n",
        "0  [urban, fashion, inspire, clothingbrand, repos...               0   \n",
        "1  [letsride, nyc, ridewithmetvmy9, regrann, jarule]               0   \n",
        "2               [newyork, nyc, demilovato, ddlovato]               0   \n",
        "3  [wethekings, dlv, nyc, dlvinnyc, youtube, dlvm...               0   \n",
        "4  [eventspace, party, art, sunweststudios, nyven...               0   \n",
        "\n",
        "   Likes Count  Filter   Type         Created_Time    User Full_Name  \\\n",
        "0            0  Normal  image  2015-05-29 13:25:51            Mickey   \n",
        "1            0  Normal  image  2015-05-29 13:25:50      KingChecaugo   \n",
        "2            0  Normal  image  2015-05-29 13:25:48       Demi Lovato   \n",
        "3            0  Normal  image  2015-05-29 13:25:47    Justin \"Mines\"   \n",
        "4            1  Ludwig  image  2015-05-29 13:25:46  Sun West Studios   \n",
        "\n",
        "      User Id                                 Link  Location Latitude  \\\n",
        "0    30701486  https://instagram.com/p/3Ri6UKFzwj/                NaN   \n",
        "1   246843209  https://instagram.com/p/3Ri6NjMijK/                NaN   \n",
        "2   269056631  https://instagram.com/p/3Ri57tGYAP/                NaN   \n",
        "3    18296776  https://instagram.com/p/3Ri55rm8VH/                NaN   \n",
        "4  1257098171  https://instagram.com/p/3Ri5rvsZNS/          40.752261   \n",
        "\n",
        "   Location Longitude  \n",
        "0                 NaN  \n",
        "1                 NaN  \n",
        "2                 NaN  \n",
        "3                 NaN  \n",
        "4            -73.9999  "
       ]
      }
     ],
     "prompt_number": 3
    },
    {
     "cell_type": "code",
     "collapsed": false,
     "input": [
      "def instagram_graph(instagram_scraped):\n",
      "\n",
      "    fig = plt.figure(figsize=(8,6))\n",
      "\n",
      "    ax1 = plt.subplot2grid((3,3), (0,0), colspan=3, rowspan=1)\n",
      "    instagram_scraped['Comments Count'].plot(kind='bar', alpha=.55)\n",
      "    plt.title(\"Total Comments Count\")\n",
      "\n",
      "\n",
      "    ax2 = plt.subplot2grid((3,3), (1,0), colspan=3, rowspan=1)\n",
      "    instagram_scraped['Likes Count'].plot(kind='bar', alpha=.55)\n",
      "    plt.title(\"Total Likes Count\")\n",
      "\n",
      "\n",
      "    ax3 = plt.subplot2grid((3,3), (2,0), colspan=3, rowspan=1)\n",
      "    plt.hist(instagram_scraped['Likes Count'])\n",
      "    plt.title('Distribution of Likes on Instagram Posts', fontsize=20)\n",
      "    plt.xlabel('Amount of Posts', fontsize=18)\n",
      "    plt.ylabel('Likes', fontsize=16)\n",
      "    fig_size = plt.rcParams[\"figure.figsize\"]\n",
      "\n",
      "    fig.tight_layout()"
     ],
     "language": "python",
     "metadata": {},
     "outputs": [],
     "prompt_number": 32
    },
    {
     "cell_type": "code",
     "collapsed": false,
     "input": [],
     "language": "python",
     "metadata": {},
     "outputs": []
    },
    {
     "cell_type": "code",
     "collapsed": false,
     "input": [],
     "language": "python",
     "metadata": {},
     "outputs": []
    },
    {
     "cell_type": "code",
     "collapsed": false,
     "input": [],
     "language": "python",
     "metadata": {},
     "outputs": []
    },
    {
     "cell_type": "code",
     "collapsed": false,
     "input": [],
     "language": "python",
     "metadata": {},
     "outputs": []
    },
    {
     "cell_type": "code",
     "collapsed": false,
     "input": [],
     "language": "python",
     "metadata": {},
     "outputs": []
    },
    {
     "cell_type": "code",
     "collapsed": false,
     "input": [],
     "language": "python",
     "metadata": {},
     "outputs": []
    },
    {
     "cell_type": "code",
     "collapsed": false,
     "input": [],
     "language": "python",
     "metadata": {},
     "outputs": []
    },
    {
     "cell_type": "code",
     "collapsed": false,
     "input": [],
     "language": "python",
     "metadata": {},
     "outputs": []
    },
    {
     "cell_type": "markdown",
     "metadata": {},
     "source": [
      "#gmaps"
     ]
    },
    {
     "cell_type": "code",
     "collapsed": false,
     "input": [
      "df = df.dropna()"
     ],
     "language": "python",
     "metadata": {},
     "outputs": [],
     "prompt_number": 4
    },
    {
     "cell_type": "code",
     "collapsed": false,
     "input": [
      "df = df[['Location Latitude', 'Location Longitude']]"
     ],
     "language": "python",
     "metadata": {},
     "outputs": [],
     "prompt_number": 5
    },
    {
     "cell_type": "code",
     "collapsed": false,
     "input": [
      "df"
     ],
     "language": "python",
     "metadata": {},
     "outputs": [
      {
       "html": [
        "<div style=\"max-height:1000px;max-width:1500px;overflow:auto;\">\n",
        "<table border=\"1\" class=\"dataframe\">\n",
        "  <thead>\n",
        "    <tr style=\"text-align: right;\">\n",
        "      <th></th>\n",
        "      <th>Location Latitude</th>\n",
        "      <th>Location Longitude</th>\n",
        "    </tr>\n",
        "  </thead>\n",
        "  <tbody>\n",
        "    <tr>\n",
        "      <th>4 </th>\n",
        "      <td> 40.752261</td>\n",
        "      <td>-73.999900</td>\n",
        "    </tr>\n",
        "    <tr>\n",
        "      <th>5 </th>\n",
        "      <td> 40.729432</td>\n",
        "      <td>-73.951760</td>\n",
        "    </tr>\n",
        "    <tr>\n",
        "      <th>7 </th>\n",
        "      <td> 55.405831</td>\n",
        "      <td> 10.410362</td>\n",
        "    </tr>\n",
        "    <tr>\n",
        "      <th>8 </th>\n",
        "      <td> 39.391243</td>\n",
        "      <td>-76.710414</td>\n",
        "    </tr>\n",
        "    <tr>\n",
        "      <th>10</th>\n",
        "      <td> 40.779655</td>\n",
        "      <td>-73.962478</td>\n",
        "    </tr>\n",
        "    <tr>\n",
        "      <th>11</th>\n",
        "      <td> 40.750734</td>\n",
        "      <td>-73.938787</td>\n",
        "    </tr>\n",
        "    <tr>\n",
        "      <th>13</th>\n",
        "      <td> 21.800650</td>\n",
        "      <td>-72.171433</td>\n",
        "    </tr>\n",
        "    <tr>\n",
        "      <th>15</th>\n",
        "      <td> 40.730892</td>\n",
        "      <td>-73.997475</td>\n",
        "    </tr>\n",
        "    <tr>\n",
        "      <th>18</th>\n",
        "      <td> 40.705576</td>\n",
        "      <td>-74.013421</td>\n",
        "    </tr>\n",
        "  </tbody>\n",
        "</table>\n",
        "</div>"
       ],
       "metadata": {},
       "output_type": "pyout",
       "prompt_number": 6,
       "text": [
        "    Location Latitude  Location Longitude\n",
        "4           40.752261          -73.999900\n",
        "5           40.729432          -73.951760\n",
        "7           55.405831           10.410362\n",
        "8           39.391243          -76.710414\n",
        "10          40.779655          -73.962478\n",
        "11          40.750734          -73.938787\n",
        "13          21.800650          -72.171433\n",
        "15          40.730892          -73.997475\n",
        "18          40.705576          -74.013421"
       ]
      }
     ],
     "prompt_number": 6
    },
    {
     "cell_type": "code",
     "collapsed": false,
     "input": [
      "df_array = np.array(df.as_matrix(columns = None)).astype(np.float)"
     ],
     "language": "python",
     "metadata": {},
     "outputs": [],
     "prompt_number": 7
    },
    {
     "cell_type": "code",
     "collapsed": false,
     "input": [
      "df_array"
     ],
     "language": "python",
     "metadata": {},
     "outputs": [
      {
       "metadata": {},
       "output_type": "pyout",
       "prompt_number": 8,
       "text": [
        "array([[ 40.752261  , -73.9999    ],\n",
        "       [ 40.72943211, -73.95176042],\n",
        "       [ 55.40583139,  10.41036239],\n",
        "       [ 39.39124266, -76.71041398],\n",
        "       [ 40.779655  , -73.96247833],\n",
        "       [ 40.7507344 , -73.93878717],\n",
        "       [ 21.80065   , -72.17143333],\n",
        "       [ 40.7308923 , -73.99747521],\n",
        "       [ 40.705576  , -74.013421  ]])"
       ]
      }
     ],
     "prompt_number": 8
    },
    {
     "cell_type": "code",
     "collapsed": false,
     "input": [
      "import gmaps\n",
      "import matplotlib as plt\n",
      "from gmaps import Geocoding"
     ],
     "language": "python",
     "metadata": {},
     "outputs": [],
     "prompt_number": 25
    },
    {
     "cell_type": "code",
     "collapsed": false,
     "input": [
      "import gmaps\n",
      "data = gmaps.datasets.load_dataset('taxi_rides')"
     ],
     "language": "python",
     "metadata": {},
     "outputs": [
      {
       "ename": "AttributeError",
       "evalue": "'module' object has no attribute 'datasets'",
       "output_type": "pyerr",
       "traceback": [
        "\u001b[0;31m---------------------------------------------------------------------------\u001b[0m\n\u001b[0;31mAttributeError\u001b[0m                            Traceback (most recent call last)",
        "\u001b[0;32m<ipython-input-31-2c3924a2dbec>\u001b[0m in \u001b[0;36m<module>\u001b[0;34m()\u001b[0m\n\u001b[1;32m      1\u001b[0m \u001b[0;32mimport\u001b[0m \u001b[0mgmaps\u001b[0m\u001b[0;34m\u001b[0m\u001b[0m\n\u001b[0;32m----> 2\u001b[0;31m \u001b[0mdata\u001b[0m \u001b[0;34m=\u001b[0m \u001b[0mgmaps\u001b[0m\u001b[0;34m.\u001b[0m\u001b[0mdatasets\u001b[0m\u001b[0;34m.\u001b[0m\u001b[0mload_dataset\u001b[0m\u001b[0;34m(\u001b[0m\u001b[0;34m'taxi_rides'\u001b[0m\u001b[0;34m)\u001b[0m\u001b[0;34m\u001b[0m\u001b[0m\n\u001b[0m",
        "\u001b[0;31mAttributeError\u001b[0m: 'module' object has no attribute 'datasets'"
       ]
      }
     ],
     "prompt_number": 31
    },
    {
     "cell_type": "code",
     "collapsed": false,
     "input": [
      "import gmaps"
     ],
     "language": "python",
     "metadata": {},
     "outputs": [],
     "prompt_number": 27
    },
    {
     "cell_type": "code",
     "collapsed": false,
     "input": [
      "gmaps.Geocoding."
     ],
     "language": "python",
     "metadata": {},
     "outputs": [
      {
       "metadata": {},
       "output_type": "pyout",
       "prompt_number": 30,
       "text": [
        "(0, 2, 1)"
       ]
      }
     ],
     "prompt_number": 30
    },
    {
     "cell_type": "code",
     "collapsed": false,
     "input": [
      "type(df_array)"
     ],
     "language": "python",
     "metadata": {},
     "outputs": [
      {
       "metadata": {},
       "output_type": "pyout",
       "prompt_number": 10,
       "text": [
        "numpy.ndarray"
       ]
      }
     ],
     "prompt_number": 10
    },
    {
     "cell_type": "code",
     "collapsed": false,
     "input": [
      "map = gmaps.heatmap(df_array)"
     ],
     "language": "python",
     "metadata": {},
     "outputs": [],
     "prompt_number": 15
    },
    {
     "cell_type": "code",
     "collapsed": false,
     "input": [
      "gmaps.display(map)\n"
     ],
     "language": "python",
     "metadata": {},
     "outputs": [
      {
       "ename": "AttributeError",
       "evalue": "'module' object has no attribute 'display'",
       "output_type": "pyerr",
       "traceback": [
        "\u001b[0;31m---------------------------------------------------------------------------\u001b[0m\n\u001b[0;31mAttributeError\u001b[0m                            Traceback (most recent call last)",
        "\u001b[0;32m<ipython-input-21-15de777ba1d9>\u001b[0m in \u001b[0;36m<module>\u001b[0;34m()\u001b[0m\n\u001b[0;32m----> 1\u001b[0;31m \u001b[0mgmaps\u001b[0m\u001b[0;34m.\u001b[0m\u001b[0mdisplay\u001b[0m\u001b[0;34m(\u001b[0m\u001b[0mmap\u001b[0m\u001b[0;34m)\u001b[0m\u001b[0;34m\u001b[0m\u001b[0m\n\u001b[0m",
        "\u001b[0;31mAttributeError\u001b[0m: 'module' object has no attribute 'display'"
       ]
      }
     ],
     "prompt_number": 21
    },
    {
     "cell_type": "code",
     "collapsed": false,
     "input": [],
     "language": "python",
     "metadata": {},
     "outputs": []
    }
   ],
   "metadata": {}
  }
 ]
}