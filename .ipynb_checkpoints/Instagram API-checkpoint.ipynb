{
 "metadata": {
  "name": "",
  "signature": "sha256:f4056fc68d98cc3cc3340bc9845bffb351673ad30cd3e3a314ab4aac990d3fc4"
 },
 "nbformat": 3,
 "nbformat_minor": 0,
 "worksheets": [
  {
   "cells": [
    {
     "cell_type": "code",
     "collapsed": false,
     "input": [
      "from instagram.client import InstagramAPI\n",
      "\n",
      "\n",
      "api = InstagramAPI(access_token=access_token)\n",
      "recent_media, next_ = api.user_recent_media(user_id=\"userid\", count=10)\n",
      "for media in recent_media:\n",
      "   print media.caption.text"
     ],
     "language": "python",
     "metadata": {},
     "outputs": []
    },
    {
     "cell_type": "code",
     "collapsed": false,
     "input": [
      "\n",
      "\n",
      "api = InstagramAPI(client_id=client_id, client_secret=secret)\n",
      "popular_media = api.media_popular(count=20)\n",
      "#for media in popular_media:\n",
      "    #print media.comment_count, media.comments"
     ],
     "language": "python",
     "metadata": {},
     "outputs": [],
     "prompt_number": 9
    },
    {
     "cell_type": "code",
     "collapsed": false,
     "input": [
      "#when you query for a specific hashtag (e.g. 'newyorkcity')\n",
      "#how many likes did a post get; likes\n",
      "#captions\n",
      "#tags *\n",
      "#total amount of comments\n",
      "#user\n",
      "#filter *\n",
      "#type of media *\n",
      "#time *\n",
      "#location *\n",
      "#link *"
     ],
     "language": "python",
     "metadata": {},
     "outputs": [],
     "prompt_number": 29
    },
    {
     "cell_type": "code",
     "collapsed": false,
     "input": [
      "from pandas.io.json import json_normalize\n",
      "\n",
      "base_url = \"https://api.instagram.com/v1\"\n",
      "query = \"tombrown\"\n",
      "\n",
      "url = '{0}/tags/{1}/media/recent?client_id={2}&count=100'.format(base_url, query, client_id)\n",
      "\n",
      "df = json_normalize(requests.get(url).json()['data'])\n",
      "                    "
     ],
     "language": "python",
     "metadata": {},
     "outputs": [],
     "prompt_number": 146
    },
    {
     "cell_type": "code",
     "collapsed": false,
     "input": [
      "df = df[['user.username','caption.text','tags','comments.count','likes.count','filter','type','created_time','user.full_name','user.id','link','location.latitude','location.longitude']]"
     ],
     "language": "python",
     "metadata": {},
     "outputs": [],
     "prompt_number": 147
    },
    {
     "cell_type": "code",
     "collapsed": false,
     "input": [
      "df.rename(columns={'user.username':'user_name',\n",
      "                   'caption.text':'caption_text',\n",
      "                   'tags':'hashtags',\n",
      "                   'comments.count':'comments_count',\n",
      "                   'likes.count':'likes_count',\n",
      "                   'filter':'filter',\n",
      "                   'created_time':'created_time',\n",
      "                   'user.full_name':'full_name',\n",
      "                   'user.id':'user_id',\n",
      "                   'type':'type',\n",
      "                   'link':'link',\n",
      "                   'location.latitude':'latitude',\n",
      "                   'location.longitude':'longitude'},\n",
      "          inplace=True)\n"
     ],
     "language": "python",
     "metadata": {},
     "outputs": [],
     "prompt_number": 148
    },
    {
     "cell_type": "code",
     "collapsed": false,
     "input": [
      "df.info()"
     ],
     "language": "python",
     "metadata": {},
     "outputs": [
      {
       "output_type": "stream",
       "stream": "stdout",
       "text": [
        "<class 'pandas.core.frame.DataFrame'>\n",
        "Int64Index: 33 entries, 0 to 32\n",
        "Data columns (total 13 columns):\n",
        "user_name         33 non-null object\n",
        "caption_text      33 non-null object\n",
        "hashtags          33 non-null object\n",
        "comments_count    33 non-null int64\n",
        "likes_count       33 non-null int64\n",
        "filter            33 non-null object\n",
        "type              33 non-null object\n",
        "created_time      33 non-null object\n",
        "full_name         33 non-null object\n",
        "user_id           33 non-null object\n",
        "link              33 non-null object\n",
        "latitude          26 non-null float64\n",
        "longitude         26 non-null float64\n",
        "dtypes: float64(2), int64(2), object(9)\n",
        "memory usage: 3.6+ KB\n"
       ]
      }
     ],
     "prompt_number": 149
    },
    {
     "cell_type": "code",
     "collapsed": false,
     "input": [
      "import pandas as pd\n",
      "import requests\n",
      "import json\n",
      "from pandas.io.json import json_normalize\n",
      "%matplotlib inline\n",
      "\n",
      "\n",
      "base_url = \"https://api.instagram.com/v1\"\n",
      "\n",
      "def hashtagsearch(query):\n",
      "\n",
      "\n",
      "    url = '{0}/tags/{1}/media/recent?client_id={2}&count=33'.format(base_url, query, client_id)\n",
      "\n",
      "    df = json_normalize(requests.get(url).json()['data'])\n",
      "    \n",
      "    df = df[['user.username','caption.text','tags','comments.count','likes.count',\n",
      "             'filter','type','created_time','user.full_name','user.id','link','location.latitude',\n",
      "             'location.longitude']]\n",
      "    \n",
      "    df.rename(columns={'user.username':'user_name',\n",
      "                   'caption.text':'caption_text',\n",
      "                   'tags':'hashtags',\n",
      "                   'comments.count':'comments_count',\n",
      "                   'likes.count':'likes_count',\n",
      "                   'filter':'filter',\n",
      "                   'created_time':'created_time',\n",
      "                   'user.full_name':'full_name',\n",
      "                   'user.id':'user_id',\n",
      "                   'type':'type',\n",
      "                   'link':'link',\n",
      "                   'location.latitude':'latitude',\n",
      "                   'location.longitude':'longitude'},\n",
      "          inplace=True)\n",
      "    \n",
      "    return df\n",
      "    "
     ],
     "language": "python",
     "metadata": {},
     "outputs": [],
     "prompt_number": 167
    },
    {
     "cell_type": "code",
     "collapsed": false,
     "input": [],
     "language": "python",
     "metadata": {},
     "outputs": []
    },
    {
     "cell_type": "code",
     "collapsed": false,
     "input": [],
     "language": "python",
     "metadata": {},
     "outputs": []
    },
    {
     "cell_type": "code",
     "collapsed": false,
     "input": [],
     "language": "python",
     "metadata": {},
     "outputs": []
    }
   ],
   "metadata": {}
  }
 ]
}